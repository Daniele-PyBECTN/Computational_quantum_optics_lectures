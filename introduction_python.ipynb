{
 "cells": [
  {
   "cell_type": "markdown",
   "metadata": {},
   "source": [
    "# Introduction to Python and its basic libraries for numerics"
   ]
  },
  {
   "cell_type": "markdown",
   "metadata": {},
   "source": [
    "# 📚 Table of Contents\n",
    "\n",
    "- [1. Introduction to Python](#1-introduction-to-python)\n",
    "    - [Main Differences with C++](#Main-Differences-with-C++)\n",
    "    - [Focus: sets and Dictionaries in Python](#Focus:-sets-and-Dictionaries-in-Python)\n",
    "    - [Sets vs Lists](#Sets-vs-Lists)\n",
    "    - [Focus: Lambda Functions in Python](#Focus:-Lambda-Functions-in-Python)\n",
    "    - [Loops and Range Function](#Loops-and-Range-Function)\n",
    "- [2. Introduction to NumPy](#2-introduction-to-numpy)\n",
    "    - [NumPy’s Relationship with C, C++, and Fortran](#NumPys-Relationship-with-C-C++-and-Fortran)\n",
    "- [3. Diving into NumPy](#3-Diving-into-NumPy)\n",
    "    - [Basic operations](#Basic-operations)\n",
    "    - [Complex Numbers in Python and NumPy](#Complex-Numbers-in-Python-and-NumPy)\n",
    "    - [The linalg Module in NumPy](#The-linalg-Module-in-NumPy)\n",
    "- [4. Introduction to SciPy](#3-introduction-to-scipy)\n",
    "    - [The linalg module in Scipy](#The-linalg-module-in-Scipy)\n",
    "    - [Sparse Matrices with scipy.sparse](#Sparse-Matrices-with-scipy.sparse)\n",
    "    - [Special Functions in scipy.special](#Special-Functions-in-scipy.special)\n",
    "- [5. Introduction to Numba](#5-introduction-to-numba)"
   ]
  },
  {
   "cell_type": "markdown",
   "metadata": {},
   "source": [
    "## 1. Introduction to Python"
   ]
  },
  {
   "cell_type": "markdown",
   "metadata": {},
   "source": [
    "### Main Differences with C++\n",
    "\n",
    "Python differs from C++ in several key ways:\n",
    "- **Dynamic Typing**: Variables don't need explicit type declarations\n",
    "- **List Comprehensions**: Concise way to create and manipulate lists\n",
    "- **High-Level Data Structures**: Lists, dictionaries, sets, and arrays are core tools\n",
    "- **Minimal Syntax**: Indentation-based structure avoids boilerplate code\n",
    "- **Functional Features**: Support for lambda functions, map, filter, etc."
   ]
  },
  {
   "cell_type": "code",
   "execution_count": 38,
   "metadata": {},
   "outputs": [
    {
     "name": "stdout",
     "output_type": "stream",
     "text": [
      "5 hello [1, 2, 3]\n",
      "[0, 1, 4, 9, 16]\n",
      "{'a': 1, 'b': 2} {1, 2, 3}\n",
      "[2, 4, 6]\n"
     ]
    }
   ],
   "source": [
    "# Dynamic Typing Example\n",
    "a = 5          # integer\n",
    "b = \"hello\"    # now a string\n",
    "c = [1, 2, 3]  # now a list\n",
    "print(a,b,c)\n",
    "\n",
    "# List Comprehension Example\n",
    "squares = [x**2 for x in range(5)]  # [0, 1, 4, 9, 16]\n",
    "print(squares)\n",
    "# High-Level Data Structures\n",
    "my_dict = {'a': 1, 'b': 2}  # dictionary\n",
    "my_set = {1, 2, 3}          # set\n",
    "print(my_dict, my_set)\n",
    "# Functional Features\n",
    "add = lambda x, y: x + y\n",
    "result = list(map(lambda x: x*2, [1, 2, 3]))  # [2, 4, 6]\n",
    "print(result)"
   ]
  },
  {
   "cell_type": "markdown",
   "metadata": {},
   "source": [
    "### Focus: sets and Dictionaries in Python\n",
    "\n",
    "A set is an unordered collection of unique elements. Sets are useful when you want to remove duplicates or perform mathematical set operations like union, intersection, and difference.\n",
    "\n",
    "Key features:\n",
    "\t•\tUnordered\n",
    "\t•\tNo duplicate elements\n",
    "\t•\tElements must be immutable (e.g., numbers, strings, tuples)\n",
    "\n",
    "Common set operations:\n",
    "\t•\ta | b → union\n",
    "\t•\ta & b → intersection\n",
    "\t•\ta - b → difference\n",
    "\t•\ta ^ b → symmetric difference\n",
    "\n",
    "🔹 Dictionaries\n",
    "\n",
    "A dictionary is a mapping of keys to values. It is one of Python’s most powerful built-in data types, allowing for fast lookups and structured data storage.\n",
    "\n",
    "Key features:\n",
    "\t•\tKey-value pairs\n",
    "\t•\tKeys must be immutable and unique\n",
    "\t•\tValues can be any type\n",
    "\n",
    "Typical use cases:\n",
    "\t•\tStoring configuration settings\n",
    "\t•\tMapping labels to data\n",
    "\t•\tCounting occurrences (collections.Counter is a specialized dictionary)\n",
    "\n",
    "Python 3.7+ guarantees insertion order is preserved in dictionaries."
   ]
  },
  {
   "cell_type": "code",
   "execution_count": 39,
   "metadata": {},
   "outputs": [
    {
     "name": "stdout",
     "output_type": "stream",
     "text": [
      "Set A: {1, 2, 3, 4}\n",
      "Set B: {3, 4, 5, 6}\n",
      "Union (A | B): {1, 2, 3, 4, 5, 6}\n",
      "Intersection (A & B): {3, 4}\n",
      "Difference (A - B): {1, 2}\n",
      "Symmetric Difference (A ^ B): {1, 2, 5, 6}\n",
      "Unique numbers: {1, 2, 3, 4, 5}\n",
      "Name: Alice\n",
      "Updated age: 31\n",
      "Updated dictionary: {'name': 'Alice', 'age': 31, 'is_physicist': True, 'field': 'Quantum Optics'}\n",
      "name -> Alice\n",
      "age -> 31\n",
      "is_physicist -> True\n",
      "field -> Quantum Optics\n",
      "Squares dict: {0: 0, 1: 1, 2: 4, 3: 9, 4: 16}\n"
     ]
    }
   ],
   "source": [
    "# Working with sets\n",
    "a = {1, 2, 3, 4}\n",
    "b = {3, 4, 5, 6}\n",
    "\n",
    "print(\"Set A:\", a)\n",
    "print(\"Set B:\", b)\n",
    "\n",
    "# Basic operations\n",
    "print(\"Union (A | B):\", a | b)\n",
    "print(\"Intersection (A & B):\", a & b)\n",
    "print(\"Difference (A - B):\", a - b)\n",
    "print(\"Symmetric Difference (A ^ B):\", a ^ b)\n",
    "\n",
    "# Removing duplicates using a set\n",
    "nums = [1, 2, 2, 3, 4, 4, 4, 5]\n",
    "unique_nums = set(nums)\n",
    "print(\"Unique numbers:\", unique_nums)\n",
    "\n",
    "# Working with dictionaries\n",
    "person = {\n",
    "    \"name\": \"Alice\",\n",
    "    \"age\": 30,\n",
    "    \"is_physicist\": True\n",
    "}\n",
    "\n",
    "# Accessing and updating\n",
    "print(\"Name:\", person[\"name\"])\n",
    "person[\"age\"] += 1\n",
    "print(\"Updated age:\", person[\"age\"])\n",
    "\n",
    "# Adding a new key\n",
    "person[\"field\"] = \"Quantum Optics\"\n",
    "print(\"Updated dictionary:\", person)\n",
    "\n",
    "# Iterating\n",
    "for key, value in person.items():\n",
    "    print(f\"{key} -> {value}\")\n",
    "\n",
    "# Dictionary comprehension\n",
    "squares = {x: x**2 for x in range(5)}\n",
    "print(\"Squares dict:\", squares)"
   ]
  },
  {
   "cell_type": "markdown",
   "metadata": {},
   "source": [
    "### Sets vs Lists\n",
    "\n",
    "While lists preserve order and allow duplicates, sets are optimized for fast membership testing (x in my_set) and automatically eliminate duplicates. This makes sets ideal for operations like deduplication or checking intersections between collections.\n",
    "\n",
    "Dictionaries vs Arrays (Lists)\n",
    "\n",
    "In C++ or lower-level languages, associative containers like std::map or unordered_map are used for fast key-value mapping. Python dictionaries serve a similar purpose but with simpler syntax and dynamic typing.\n",
    "\n",
    "Python dictionaries are hash tables under the hood, making average-case lookups and insertions O(1) (constant in time). They’re highly optimized for real-world use cases, which is why they are ubiquitous in Python programming."
   ]
  },
  {
   "cell_type": "markdown",
   "metadata": {},
   "source": [
    "### Focus: Lambda Functions in Python\n",
    "\n",
    "🔹 What is a Lambda Function?\n",
    "\n",
    "A lambda function is a small anonymous function defined with the lambda keyword. Lambda functions are often used for short, throwaway functions that are passed to higher-order functions like map(), filter(), or sorted().\n",
    "The syntax is:"
   ]
  },
  {
   "cell_type": "code",
   "execution_count": 40,
   "metadata": {},
   "outputs": [
    {
     "data": {
      "text/plain": [
       "<function __main__.<lambda>(arguments)>"
      ]
     },
     "execution_count": 40,
     "metadata": {},
     "output_type": "execute_result"
    }
   ],
   "source": [
    "lambda arguments: expression"
   ]
  },
  {
   "cell_type": "markdown",
   "metadata": {},
   "source": [
    "Key features:\n",
    "\t•\tAnonymous: They don’t require a name.\n",
    "\t•\tSingle expression: Lambda functions can only have one expression, but this expression can be quite complex.\n",
    "\t•\tConcise: Lambda functions are often more compact than regular functions defined with def.\n",
    "\n",
    "🔹 When to Use Lambda Functions\n",
    "\n",
    "Lambda functions are handy when:\n",
    "\t•\tYou need a simple function for a short duration.\n",
    "\t•\tYou’re passing a function as an argument to a higher-order function (like map(), filter(), or sorted()).\n",
    "\t•\tYou want a cleaner and more readable solution for simple tasks.\n",
    "\n",
    "However, for more complex functions or when readability is important, it’s better to define regular functions with def."
   ]
  },
  {
   "cell_type": "code",
   "execution_count": 13,
   "metadata": {},
   "outputs": [
    {
     "name": "stdout",
     "output_type": "stream",
     "text": [
      "Square of 5: 25\n",
      "Sum of 3 and 4: 7\n",
      "Squares of numbers: [1, 4, 9, 16]\n",
      "Even numbers: [2, 4]\n",
      "Sorted names: ['Alice', 'bob', 'Charlie', 'dave']\n"
     ]
    }
   ],
   "source": [
    "# Basic example of a lambda function\n",
    "square = lambda x: x ** 2\n",
    "print(\"Square of 5:\", square(5))  # Output: 25\n",
    "\n",
    "# Lambda function with two arguments\n",
    "add = lambda x, y: x + y\n",
    "print(\"Sum of 3 and 4:\", add(3, 4))  # Output: 7\n",
    "\n",
    "# Using lambda with higher-order functions (map)\n",
    "numbers = [1, 2, 3, 4]\n",
    "squares = list(map(lambda x: x ** 2, numbers))\n",
    "print(\"Squares of numbers:\", squares)  # Output: [1, 4, 9, 16]\n",
    "\n",
    "# Using lambda with filter to filter even numbers\n",
    "even_numbers = list(filter(lambda x: x % 2 == 0, numbers))\n",
    "print(\"Even numbers:\", even_numbers)  # Output: [2, 4]\n",
    "\n",
    "# Using lambda with sorted for custom sorting\n",
    "names = [\"Alice\", \"bob\", \"Charlie\", \"dave\"]\n",
    "sorted_names = sorted(names, key=lambda name: name.lower())  # Sort case-insensitive\n",
    "print(\"Sorted names:\", sorted_names)  # Output: ['Alice', 'bob', 'Charlie', 'dave']"
   ]
  },
  {
   "cell_type": "markdown",
   "metadata": {},
   "source": [
    "🧠 Bonus Discussion (Markdown)\n",
    "\n",
    "🔸 Lambda vs Regular Functions\n",
    "\t1.\tLambda Function:\n",
    "\t•\tInline: Defined in a single line.\n",
    "\t•\tAnonymous: No need for naming it.\n",
    "\t•\tSingle Expression: The body of a lambda is a single expression.\n",
    "\t2.\tRegular Function:\n",
    "\t•\tMore Complex: Can have multiple expressions, statements, and docstrings.\n",
    "\t•\tNamed: Regular functions are usually named, which helps with code clarity.\n",
    "\n",
    "Example comparison:"
   ]
  },
  {
   "cell_type": "code",
   "execution_count": 14,
   "metadata": {},
   "outputs": [],
   "source": [
    "# Regular function\n",
    "def add(x, y):\n",
    "    return x + y\n",
    "\n",
    "# Lambda function\n",
    "add_lambda = lambda x, y: x + y"
   ]
  },
  {
   "cell_type": "markdown",
   "metadata": {},
   "source": [
    "🔸 When to Avoid Lambda\n",
    "\n",
    "While lambda functions are elegant for simple, one-liner operations, you should avoid them in the following situations:\n",
    "\t•\tWhen the logic is too complex: If the lambda function becomes hard to understand, define a regular function with a proper name.\n",
    "\t•\tWhen debugging: Named functions make it easier to debug and understand stack traces.\n",
    "\n",
    "🔸 Lambda in Quantum Computing\n",
    "\n",
    "In libraries like QuTiP (Quantum Toolbox in Python), lambda functions are frequently used to define small, custom functions or Hamiltonians that are passed to more complex functions like solvers or optimizers. They’re especially helpful when you need a quick function without the overhead of defining a full function.\n",
    "\n",
    "For example, in QuTiP, you might use a lambda function to define a matrix element for a Hamiltonian:"
   ]
  },
  {
   "cell_type": "code",
   "execution_count": 103,
   "metadata": {},
   "outputs": [],
   "source": [
    "from qutip import *\n",
    "import numpy as np\n",
    "H = lambda t, args: np.sin(t) * sigmax() + np.cos(t) * sigmay()"
   ]
  },
  {
   "cell_type": "markdown",
   "metadata": {},
   "source": [
    "This lambda function gives the time-dependent Hamiltonian for a system in quantum optics, which can be used directly in QuTiP’s solver. But we will be back on this story later on..."
   ]
  },
  {
   "cell_type": "markdown",
   "metadata": {},
   "source": [
    "📚 Advanced Concept: Lambda with Closures\n",
    "\n",
    "A closure in Python occurs when a lambda function “remembers” the environment in which it was created, even after that environment has gone out of scope. Closures are often used in functional programming to create functions that behave like objects.\n",
    "\n",
    "Example:"
   ]
  },
  {
   "cell_type": "code",
   "execution_count": 16,
   "metadata": {},
   "outputs": [
    {
     "name": "stdout",
     "output_type": "stream",
     "text": [
      "10\n"
     ]
    }
   ],
   "source": [
    "def multiplier(factor):\n",
    "    return lambda x: x * factor\n",
    "\n",
    "double = multiplier(2)\n",
    "print(double(5))  # Output: 10"
   ]
  },
  {
   "cell_type": "markdown",
   "metadata": {},
   "source": [
    "Here, double is a lambda function that “remembers” the factor (which is 2) from the multiplier() function, even after the function execution is over.\n"
   ]
  },
  {
   "cell_type": "markdown",
   "metadata": {},
   "source": [
    "### Loops and Range Function\n",
    "\n",
    "Python uses `for` and `while` loops similar to C++, but with cleaner syntax.\n",
    "\n",
    "The `range()` function is essential in Python's vectorized logic as it generates sequences efficiently without creating large lists in memory."
   ]
  },
  {
   "cell_type": "code",
   "execution_count": 41,
   "metadata": {},
   "outputs": [
    {
     "name": "stdout",
     "output_type": "stream",
     "text": [
      "0\n",
      "1\n",
      "2\n",
      "3\n",
      "4\n",
      "0\n",
      "1\n",
      "2\n",
      "3\n",
      "4\n"
     ]
    }
   ],
   "source": [
    "# For loop with range\n",
    "for i in range(5):  # 0 to 4\n",
    "    print(i)\n",
    "\n",
    "# While loop\n",
    "count = 0\n",
    "while count < 5:\n",
    "    print(count)\n",
    "    count += 1\n",
    "\n",
    "# Vectorized operation (preferred over loops)\n",
    "import numpy as np\n",
    "arr = np.arange(5)  # similar to range but creates array\n",
    "squared = arr**2    # vectorized operation"
   ]
  },
  {
   "cell_type": "markdown",
   "metadata": {},
   "source": [
    "## 2. Introduction to NumPy\n",
    "\n",
    "🔹 What is NumPy?\n",
    "\n",
    "NumPy (Numerical Python) is a core library in Python that provides support for large, multi-dimensional arrays and matrices, along with a collection of mathematical functions to operate on these arrays efficiently. It is the foundation for much of Python’s scientific computing ecosystem.\n",
    "\n",
    "The main features of NumPy include:\n",
    "\t•\tN-dimensional array objects (ndarray): Fast, memory-efficient arrays that support multi-dimensional data.\n",
    "\t•\tVectorized operations: Operations that are performed element-wise on arrays, allowing for efficient computation.\n",
    "\t•\tBroad functionality: Mathematical functions, linear algebra operations, statistical operations, and more.\n",
    "\n",
    "⸻\n",
    "\n",
    "🔹 Why is NumPy Efficient?\n",
    "\n",
    "NumPy’s efficiency primarily comes from its design and implementation. Under the hood, NumPy arrays are implemented in C, which allows it to use lower-level, highly optimized machine code. This leads to significant performance improvements compared to pure Python lists, which are slower for numerical operations due to Python’s interpreted nature and the overhead of its dynamic typing.\n",
    "\n",
    "⸻\n",
    "\n",
    "🔹 NumPy vs Python Lists\n",
    "\n",
    "In Python, lists are general-purpose containers that can hold objects of different types. However, when you perform mathematical operations on a list of numbers, Python will loop over the list and apply the operation element by element, which is inefficient for large datasets.\n",
    "\n",
    "In contrast, NumPy arrays are optimized to handle large datasets efficiently using vectorized operations. This means that instead of applying a function to each element using a for loop, the operation is carried out directly on the entire array.\n",
    "\n",
    "Example: Summing elements of a list vs a NumPy array:"
   ]
  },
  {
   "cell_type": "code",
   "execution_count": 42,
   "metadata": {},
   "outputs": [
    {
     "name": "stdout",
     "output_type": "stream",
     "text": [
      "Sum using list: 15\n",
      "Sum using NumPy: 15\n"
     ]
    }
   ],
   "source": [
    "import numpy as np\n",
    "\n",
    "# Using a Python list\n",
    "my_list = [1, 2, 3, 4, 5]\n",
    "sum_list = sum(my_list)  # Sum using Python's built-in sum function\n",
    "\n",
    "# Using a NumPy array\n",
    "my_array = np.array([1, 2, 3, 4, 5])\n",
    "sum_array = np.sum(my_array)  # Sum using NumPy's optimized sum function\n",
    "\n",
    "print(\"Sum using list:\", sum_list)\n",
    "print(\"Sum using NumPy:\", sum_array)"
   ]
  },
  {
   "cell_type": "markdown",
   "metadata": {},
   "source": [
    "The key advantage with NumPy is that the operation is vectorized, and NumPy internally uses compiled C code, making it significantly faster than looping through the list in Python."
   ]
  },
  {
   "cell_type": "markdown",
   "metadata": {},
   "source": [
    "#### Performance Comparison\n",
    "\n",
    "Let’s compare the performance between NumPy and Python lists for a simple mathematical operation:"
   ]
  },
  {
   "cell_type": "code",
   "execution_count": 43,
   "metadata": {},
   "outputs": [
    {
     "name": "stdout",
     "output_type": "stream",
     "text": [
      "Python list time: 0.04568314552307129\n",
      "NumPy array time: 0.002629995346069336\n"
     ]
    }
   ],
   "source": [
    "import numpy as np\n",
    "import time\n",
    "\n",
    "# Create large datasets\n",
    "list_data = list(range(1, 1000000))\n",
    "array_data = np.array(list_data)\n",
    "\n",
    "# Timing Python list operation\n",
    "start_time = time.time()\n",
    "list_result = [x * 2 for x in list_data]\n",
    "print(\"Python list time:\", time.time() - start_time)\n",
    "\n",
    "# Timing NumPy array operation\n",
    "start_time = time.time()\n",
    "array_result = array_data * 2  # Vectorized operation\n",
    "print(\"NumPy array time:\", time.time() - start_time)"
   ]
  },
  {
   "cell_type": "markdown",
   "metadata": {},
   "source": [
    "You should observe that NumPy is much faster than the Python list operation, thanks to its optimized C implementation."
   ]
  },
  {
   "cell_type": "markdown",
   "metadata": {},
   "source": [
    "### NumPy’s Relationship with C, C++, and Fortran\n",
    "1.\tC and C++:\n",
    "•\tC is the backbone of NumPy: The core array functionality and most of NumPy’s mathematical operations are implemented in C for performance reasons. The ndarray object is a structure that stores data in contiguous blocks of memory, allowing for fast access and manipulation.\n",
    "•\tMany low-level operations (like array reshaping, broadcasting, and element-wise operations) are implemented in C, and NumPy exposes a Python interface for interacting with them.\n",
    "•\tThis allows NumPy to achieve performance close to that of C or C++ in many cases while retaining the ease of use and high-level nature of Python.\n",
    "2.\tFortran:\n",
    "•\tNumPy has historical roots in Fortran, especially when it comes to linear algebra operations. Many of NumPy’s functions for matrix manipulation (such as solving linear systems or eigenvalue decomposition) are based on Fortran libraries like LAPACK (Linear Algebra PACKage) and BLAS (Basic Linear Algebra Subprograms).\n",
    "•\tLAPACK and BLAS are highly optimized and written in Fortran, and NumPy links to these libraries, allowing Python users to leverage their power without having to directly use Fortran.\n",
    "•\tThese libraries have been around for decades and are widely used in scientific computing for tasks like matrix factorizations, eigenvalue problems, and more.\n"
   ]
  },
  {
   "cell_type": "markdown",
   "metadata": {},
   "source": [
    "#### Performance Comparison: NumPy vs C/C++/Fortran\n",
    "\n",
    "In terms of performance, NumPy often performs very similarly to C and Fortran due to the fact that it relies on highly optimized C and Fortran libraries (like LAPACK, BLAS) for its heavy numerical operations.\n",
    "\t•\tC/C++ are low-level, compiled languages, so they have less overhead than Python. However, writing efficient numerical code in C/C++ requires managing memory manually, and writing highly optimized code can be complex and error-prone.\n",
    "\t•\tNumPy, by contrast, gives you the ease of Python but with C-level performance for many operations.\n",
    "\n",
    "For example, matrix multiplication in C could look like this:"
   ]
  },
  {
   "cell_type": "code",
   "execution_count": null,
   "metadata": {
    "vscode": {
     "languageId": "c"
    }
   },
   "outputs": [],
   "source": [
    "#include <stdio.h>\n",
    "#include <stdlib.h>\n",
    "\n",
    "void matrix_multiply(double *A, double *B, double *C, int n) {\n",
    "    for (int i = 0; i < n; i++) {\n",
    "        for (int j = 0; j < n; j++) {\n",
    "            C[i * n + j] = 0;\n",
    "            for (int k = 0; k < n; k++) {\n",
    "                C[i * n + j] += A[i * n + k] * B[k * n + j];\n",
    "            }\n",
    "        }\n",
    "    }\n",
    "}"
   ]
  },
  {
   "cell_type": "markdown",
   "metadata": {},
   "source": [
    "In NumPy, the same operation is done with:"
   ]
  },
  {
   "cell_type": "code",
   "execution_count": 44,
   "metadata": {},
   "outputs": [],
   "source": [
    "import numpy as np\n",
    "\n",
    "A = np.random.rand(1000, 1000)\n",
    "B = np.random.rand(1000, 1000)\n",
    "C = np.dot(A, B)"
   ]
  },
  {
   "cell_type": "markdown",
   "metadata": {},
   "source": [
    "While the C code requires explicit memory management and iteration through the matrix elements, the NumPy code is concise, readable, and relies on highly optimized C libraries in the background to perform the operation efficiently."
   ]
  },
  {
   "cell_type": "markdown",
   "metadata": {},
   "source": [
    "### Bonus: The NumPy Advantage in Quantum Mechanics\n",
    "\n",
    "In quantum mechanics, matrix operations (like matrix multiplication, trace, tensor product) are frequently used. NumPy provides these operations out-of-the-box with high performance, making it ideal for quantum simulations. Many quantum algorithms can be expressed in terms of matrix manipulations, and NumPy’s vectorized operations ensure that these can be computed efficiently without requiring low-level optimizations.\n",
    "\n",
    "For example, the matrix exponential, which is crucial in simulating quantum evolution, can be computed using scipy.linalg.expm, which in turn relies on LAPACK for efficient computation."
   ]
  },
  {
   "cell_type": "markdown",
   "metadata": {},
   "source": [
    "## 3. Diving into NumPy"
   ]
  },
  {
   "cell_type": "markdown",
   "metadata": {},
   "source": [
    "### Basic operations\n",
    "\n",
    "NumPy is essential for numerical computations in Python. It provides:\n",
    "- Efficient array operations\n",
    "- Linear algebra tools\n",
    "- Vectorized operations (avoid Python loops for performance)"
   ]
  },
  {
   "cell_type": "code",
   "execution_count": 60,
   "metadata": {},
   "outputs": [
    {
     "name": "stdout",
     "output_type": "stream",
     "text": [
      "Element-wise multiplication: [ 4 10 18]\n",
      "Element-wise division: [0.25 0.4  0.5 ]\n",
      "[10 40 90]\n",
      "[5. 5. 6.]\n",
      "Dot product: 250\n",
      "Kronecker product:\n",
      " [[ 20  40  50]\n",
      " [ 40  80 100]\n",
      " [ 60 120 150]]\n",
      "Transpose:\n",
      " [[1 3]\n",
      " [2 4]]\n",
      "[[17]\n",
      " [39]]\n",
      "Diagonal matrix:\n",
      " [[1 0 0]\n",
      " [0 2 0]\n",
      " [0 0 3]]\n",
      "Extracted diagonal: [1 2 3]\n",
      "Zeros:\n",
      " [[0. 0. 0.]\n",
      " [0. 0. 0.]]\n",
      "Ones:\n",
      " [[1. 1.]\n",
      " [1. 1.]\n",
      " [1. 1.]]\n",
      "Identity matrix:\n",
      " [[1. 0. 0. 0.]\n",
      " [0. 1. 0. 0.]\n",
      " [0. 0. 1. 0.]\n",
      " [0. 0. 0. 1.]]\n"
     ]
    }
   ],
   "source": [
    "import numpy as np\n",
    "\n",
    "# Basic array operations\n",
    "a = np.array([1, 2, 3])\n",
    "b = np.array([4, 5, 6])\n",
    "\n",
    "# Element-wise operations\n",
    "print(\"Element-wise multiplication:\", a * b)\n",
    "print(\"Element-wise division:\", a / b)\n",
    "#element-wise multiplication — not matrix multiplication! - can be done also with the function 'multiply' Dimensions must match element-by-element.\n",
    "a = np.array([1, 2, 3])\n",
    "b = np.array([10, 20, 30])\n",
    "\n",
    "elementwise_product = np.multiply(a, b)\n",
    "print(elementwise_product)\n",
    "# and, in the same way, the element-wise division with the function divide\n",
    "a = np.array([10, 20, 30])\n",
    "b = np.array([2, 4, 5])\n",
    "\n",
    "quotient = np.divide(a, b)\n",
    "print(quotient)\n",
    "\n",
    "# Dot product\n",
    "print(\"Dot product:\", np.dot(a, b))\n",
    "\n",
    "# Kronecker product\n",
    "print(\"Kronecker product:\\n\", np.kron(a.reshape(3,1), b.reshape(1,3)))\n",
    "\n",
    "# Transpose\n",
    "matrix = np.array([[1, 2], [3, 4]])\n",
    "print(\"Transpose:\\n\", matrix.T)\n",
    "\n",
    "#matrix multiplication (like the @ operator). It respects matrix rules: inner dimensions must match.\n",
    "A = np.array([[1, 2], [3, 4]])\n",
    "B = np.array([[5], [6]])\n",
    "\n",
    "result = np.matmul(A, B)\n",
    "print(result)\n",
    "#IMPORTANT NOTICE! Be careful that with some functions sometimes 'matmul' gives problem (see the section related to 'Numba'). Then you should use '@' instead.\n",
    "\n",
    "#np.diag(v) and np.diagonal(a)\n",
    "#\t•\tnp.diag(v): creates a diagonal matrix from a vector.\n",
    "#\t•\tnp.diagonal(a): extracts the diagonal of a matrix.\n",
    "\n",
    "v = np.array([1, 2, 3])\n",
    "D = np.diag(v)         # Creates a 3x3 matrix with v on the diagonal\n",
    "print(\"Diagonal matrix:\\n\", D)\n",
    "\n",
    "extracted = np.diagonal(D)  # Extracts the diagonal\n",
    "print(\"Extracted diagonal:\", extracted)\n",
    "\n",
    "#Creating arrays filled with all zeros or all ones.\n",
    "z = np.zeros((2, 3))\n",
    "o = np.ones((3, 2))\n",
    "\n",
    "print(\"Zeros:\\n\", z)\n",
    "print(\"Ones:\\n\", o)\n",
    "\n",
    "#Creating an identity matrix of size n x n.\n",
    "I = np.eye(4)\n",
    "print(\"Identity matrix:\\n\", I)\n"
   ]
  },
  {
   "cell_type": "markdown",
   "metadata": {},
   "source": [
    "### Complex Numbers in Python and NumPy\n",
    "\n",
    "🧠 Complex Numbers in Python\n",
    "\n",
    "Python natively supports complex numbers using the built-in complex type. You can create a complex number simply with:"
   ]
  },
  {
   "cell_type": "code",
   "execution_count": 46,
   "metadata": {},
   "outputs": [],
   "source": [
    "z = 3 + 4j"
   ]
  },
  {
   "cell_type": "markdown",
   "metadata": {},
   "source": [
    "•\tThe real part of z is z.real → 3.0\n",
    "\n",
    "•\tThe imaginary part is z.imag → 4.0\n",
    "\n",
    "•\tYou can also create it using complex(3, 4)\n",
    "\n",
    "\n",
    "This is totally valid in pure Python, and works fine for many mathematical operations."
   ]
  },
  {
   "cell_type": "code",
   "execution_count": 47,
   "metadata": {},
   "outputs": [
    {
     "name": "stdout",
     "output_type": "stream",
     "text": [
      "z: (3+4j)\n",
      "Real part: 3.0\n",
      "Imaginary part: 4.0\n",
      "Absolute value (modulus): 5.0\n"
     ]
    }
   ],
   "source": [
    "z = 3 + 4j\n",
    "print(\"z:\", z)\n",
    "print(\"Real part:\", z.real)\n",
    "print(\"Imaginary part:\", z.imag)\n",
    "print(\"Absolute value (modulus):\", abs(z))"
   ]
  },
  {
   "cell_type": "markdown",
   "metadata": {},
   "source": [
    "#### Complex Numbers in NumPy\n",
    "\n",
    "NumPy provides its own complex number types, such as:\n",
    "\n",
    "•\tnp.complex64: 32-bit complex number (2x 32-bit floats)\n",
    "\n",
    "•\tnp.complex128: 64-bit complex number (2x 64-bit floats, default on most platforms)\n",
    "\n",
    "•\tnp.complex_: Alias for the platform’s default complex type (usually np.complex128)\n",
    "\n",
    "\n",
    "You can create complex arrays like this:"
   ]
  },
  {
   "cell_type": "code",
   "execution_count": 48,
   "metadata": {},
   "outputs": [],
   "source": [
    "import numpy as np\n",
    "\n",
    "a = np.array([1+2j, 3+4j], dtype=np.complex_)"
   ]
  },
  {
   "cell_type": "markdown",
   "metadata": {},
   "source": [
    "This is particularly important when you:\n",
    "\n",
    "•\tNeed array-wide complex operations.\n",
    "\n",
    "•\tInterface with libraries like SciPy, QuTiP, or others that rely on dtype information.\n",
    "\n",
    "•\tWant consistent behavior across NumPy functions and linear algebra routines (e.g., np.linalg.eig, np.dot, etc.).\n"
   ]
  },
  {
   "cell_type": "markdown",
   "metadata": {},
   "source": [
    "💡 Why Prefer np.complex_ in Scientific Code?\n",
    "\n",
    "1.\tCompatibility:\n",
    "\n",
    "•\tNumPy/SciPy and QuTiP functions internally expect NumPy types (np.complex_), not native Python complex.\n",
    "\n",
    "•\tUsing Python complex might lead to subtle type issues, especially during type-checking or casting.\n",
    "\n",
    "2.\tPerformance:\n",
    "\n",
    "•\tNumPy operations on large arrays are optimized for specific dtypes.\n",
    "\n",
    "•\tArrays of np.complex_ are more efficient than arrays of Python object type (which can happen if complex is used inconsistently).\n",
    "\n",
    "3.\tInteroperability:\n",
    "\n",
    "•\tMany scientific libraries (like QuTiP) check for or convert types internally using NumPy’s own dtypes.\n",
    "\n",
    "•\tEnsuring arrays use np.complex_ avoids unnecessary copying or implicit conversions.\n"
   ]
  },
  {
   "cell_type": "code",
   "execution_count": 49,
   "metadata": {},
   "outputs": [
    {
     "name": "stdout",
     "output_type": "stream",
     "text": [
      "v1 dtype: complex128\n",
      "v2 dtype: complex128\n"
     ]
    }
   ],
   "source": [
    "#Code Example: Array with Complex Numbers\n",
    "import numpy as np\n",
    "\n",
    "# Good: Using np.complex_\n",
    "v1 = np.array([1+1j, 2+2j], dtype=np.complex_)\n",
    "\n",
    "# Bad: Using Python complex might lead to object dtype\n",
    "v2 = np.array([complex(1,1), complex(2,2)])  # May infer object dtype if mixed with other types\n",
    "\n",
    "print(\"v1 dtype:\", v1.dtype)\n",
    "print(\"v2 dtype:\", v2.dtype)"
   ]
  },
  {
   "cell_type": "markdown",
   "metadata": {},
   "source": [
    "Try adding a real number to v2 and see how NumPy reacts—it may do a conversion, but it’s less predictable if types are mixed."
   ]
  },
  {
   "cell_type": "markdown",
   "metadata": {},
   "source": [
    "### 🔄 Summary: `complex` vs. `np.complex_`\n",
    "\n",
    "| Feature                          | `complex` (Python built-in) | `np.complex_` (NumPy)      |\n",
    "|----------------------------------|------------------------------|-----------------------------|\n",
    "| Native to Python                 | ✅                           | ❌ (requires NumPy)         |\n",
    "| NumPy Compatibility              | ⚠️ May cause issues          | ✅ Fully compatible         |\n",
    "| Used in QuTiP and SciPy          | ⚠️ Not recommended           | ✅ Preferred                |\n",
    "| Performance with large arrays    | ❌ Slower (may use object dtype) | ✅ Optimized for speed |\n",
    "| Type safety in NumPy operations  | ❌ Mixed types may cause trouble | ✅ Reliable                |\n",
    "| Best choice for scientific computing | ❌                       | ✅                         |"
   ]
  },
  {
   "cell_type": "markdown",
   "metadata": {},
   "source": [
    "### The linalg Module in NumPy\n",
    "\n",
    "🔹 What is linalg?\n",
    "\n",
    "The linalg module in NumPy provides a collection of functions to perform linear algebra operations. These operations include:\n",
    "\t•\tMatrix factorizations (e.g., LU, QR).\n",
    "\t•\tSolving linear systems.\n",
    "\t•\tEigenvalue and eigenvector computations.\n",
    "\t•\tMatrix inverses.\n",
    "\t•\tAnd more…\n",
    "\n",
    "One of the most common tasks in linear algebra is diagonalizing a matrix, which is the process of finding a matrix P that diagonalizes a given square matrix A such that:\n",
    "A = P D P^{-1}\n",
    "where D is a diagonal matrix (containing the eigenvalues of A), and P is the matrix whose columns are the eigenvectors of A."
   ]
  },
  {
   "cell_type": "markdown",
   "metadata": {},
   "source": [
    "#### Diagonalizing a Matrix with linalg.eig\n",
    "\n",
    "To diagonalize a matrix in NumPy, we can use the function np.linalg.eig(). This function computes the eigenvalues and eigenvectors of a square matrix.\n",
    "\n",
    "The syntax is:"
   ]
  },
  {
   "cell_type": "code",
   "execution_count": 50,
   "metadata": {},
   "outputs": [],
   "source": [
    "A = np.random.rand(100, 100)\n",
    "eigenvalues, eigenvectors = np.linalg.eig(A)"
   ]
  },
  {
   "cell_type": "markdown",
   "metadata": {},
   "source": [
    "•\teigenvalues will be a 1D array containing the eigenvalues of A.\n",
    "\n",
    "•\teigenvectors will be a 2D array where each column corresponds to an eigenvector of A.\n",
    "\n",
    "#### Example: Diagonalizing a 2x2 Matrix"
   ]
  },
  {
   "cell_type": "code",
   "execution_count": 51,
   "metadata": {},
   "outputs": [
    {
     "name": "stdout",
     "output_type": "stream",
     "text": [
      "Eigenvalues of A: [4.56155281 0.43844719]\n",
      "Eigenvectors of A (columns):\n",
      "[[ 0.96276969  0.48963374]\n",
      " [-0.27032301  0.87192821]]\n",
      "\n",
      "Reconstructed A from eigenvalues and eigenvectors:\n",
      "[[ 4. -2.]\n",
      " [-1.  1.]]\n"
     ]
    }
   ],
   "source": [
    "import numpy as np\n",
    "\n",
    "# Define a 2x2 matrix A\n",
    "A = np.array([[4, -2], [-1, 1]])\n",
    "\n",
    "# Compute eigenvalues and eigenvectors\n",
    "eigenvalues, eigenvectors = np.linalg.eig(A)\n",
    "\n",
    "print(\"Eigenvalues of A:\", eigenvalues)\n",
    "print(\"Eigenvectors of A (columns):\")\n",
    "print(eigenvectors)\n",
    "\n",
    "# Reconstruct the matrix A from its eigenvalues and eigenvectors\n",
    "D = np.diag(eigenvalues)  # Diagonal matrix with eigenvalues\n",
    "P = eigenvectors           # Matrix with eigenvectors as columns\n",
    "A_reconstructed = P @ D @ np.linalg.inv(P)\n",
    "\n",
    "print(\"\\nReconstructed A from eigenvalues and eigenvectors:\")\n",
    "print(A_reconstructed)"
   ]
  },
  {
   "cell_type": "markdown",
   "metadata": {},
   "source": [
    "Explanation:\n",
    "\n",
    "•\tnp.linalg.eig() computes the eigenvalues and eigenvectors of A.\n",
    "\n",
    "•\tnp.diag(eigenvalues) creates a diagonal matrix D from the eigenvalues.\n",
    "\n",
    "•\tP @ D @ np.linalg.inv(P) reconstructs A by multiplying the eigenvectors matrix P, the diagonal matrix D, and the inverse of P.\n"
   ]
  },
  {
   "cell_type": "markdown",
   "metadata": {},
   "source": [
    "🧠 Key Notes on Diagonalization:\n",
    "\n",
    "1.\tEigenvalue Decomposition:\n",
    "\n",
    "•\tFor a given square matrix A, the eigenvalues and eigenvectors represent the fundamental properties of the matrix that allow us to diagonalize it. The eigenvectors form a basis in which the matrix is diagonal.\n",
    "\n",
    "2.\tNumerical Stability:\n",
    "\n",
    "•\tIn practice, numerical methods may not provide exact eigenvalues and eigenvectors, especially for ill-conditioned matrices. However, NumPy’s linalg.eig is robust enough for most applications.\n",
    "\n",
    "3.\tReal and Complex Eigenvalues:\n",
    "\n",
    "•\tIf the matrix is symmetric (i.e., A = A.T), the eigenvalues will be real. For general matrices, the eigenvalues could be complex."
   ]
  },
  {
   "cell_type": "markdown",
   "metadata": {},
   "source": [
    "📚 Bonus: Diagonalization of Large Matrices\n",
    "\n",
    "When dealing with large matrices, diagonalizing them can be computationally expensive. The complexity of eigenvalue decomposition generally scales as O(n³) for an n x n matrix, meaning the computation becomes expensive for large matrices (e.g., matrices with millions of elements).\n",
    "\n",
    "Example: Diagonalizing a Large Random Matrix"
   ]
  },
  {
   "cell_type": "code",
   "execution_count": 52,
   "metadata": {},
   "outputs": [
    {
     "name": "stdout",
     "output_type": "stream",
     "text": [
      "First 5 eigenvalues of the large matrix: [500.08069156+0.j          -9.08104136+0.4881845j\n",
      "  -9.08104136-0.4881845j   -8.98162858+1.26819201j\n",
      "  -8.98162858-1.26819201j]\n"
     ]
    }
   ],
   "source": [
    "# Generate a large random matrix (1000x1000)\n",
    "A_large = np.random.rand(1000, 1000)\n",
    "\n",
    "# Compute eigenvalues and eigenvectors (this may take a while for large matrices)\n",
    "eigenvalues_large, eigenvectors_large = np.linalg.eig(A_large)\n",
    "\n",
    "# Display the first few eigenvalues\n",
    "print(\"First 5 eigenvalues of the large matrix:\", eigenvalues_large[:5])"
   ]
  },
  {
   "cell_type": "markdown",
   "metadata": {},
   "source": [
    "In this case, depending on the size of the matrix, you might need to use more advanced methods for large matrices, such as:\n",
    "\n",
    "•\tSparse matrices (if the matrix is sparse).\n",
    "\n",
    "•\tIterative eigenvalue solvers, which are implemented in libraries like SciPy.\n",
    "\n",
    "We will go deeper on these topics very soon in the following section on Scipy."
   ]
  },
  {
   "cell_type": "markdown",
   "metadata": {},
   "source": [
    "## 3. Introduction to SciPy"
   ]
  },
  {
   "cell_type": "markdown",
   "metadata": {},
   "source": [
    "The SciPy library (scipy) is a powerful open-source Python library used for scientific and technical computing. It is built on top of NumPy, extending its capabilities by providing a large collection of high-level algorithms and functions.\n",
    "\n",
    "While NumPy focuses on array manipulation and linear algebra, SciPy provides optimized implementations of higher-level numerical operations commonly used in science and engineering.\n",
    "Think of NumPy as the “engine” (efficient array operations), and SciPy as the “toolkit” (scientific tools that use the engine under the hood).\n",
    "\n",
    "| Feature              | NumPy                               | SciPy                                  |\n",
    "|----------------------|--------------------------------------|-----------------------------------------|\n",
    "| Core focus           | Arrays and basic numerical routines | Advanced scientific computing tools     |\n",
    "| Linear algebra       | Basic (`dot`, `inv`, `eig`, etc.)   | More robust (`scipy.linalg`)            |\n",
    "| Sparse matrices      | Not available                       | Extensive support (`scipy.sparse`)      |\n",
    "| Special functions    | Few                                 | Huge collection (`scipy.special`)       |\n",
    "| FFTs                 | Basic (`np.fft`)                    | More options (`scipy.fft`)              |\n",
    "| Integration & ODEs   | Not available                       | Powerful (`scipy.integrate`)            |\n",
    "| Optimization         | Not available                       | Extensive tools (`scipy.optimize`)      |\n",
    "| Underlying language  | C                                   | Wraps C/C++/Fortran libraries           |\n",
    "\n",
    "Why Use SciPy?\n",
    "\n",
    "•\tIt offers ready-to-use implementations of scientific methods — no need to reinvent the wheel.\n",
    "\n",
    "•\tMany of these functions are heavily optimized and tested, often wrapping well-established C/Fortran libraries like BLAS, LAPACK, ARPACK, and UMFPACK.\n",
    "\n",
    "•\tIt’s part of the SciPy ecosystem, which includes Matplotlib, Pandas, and SymPy — making it seamless for scientific workflows.\n",
    "\n",
    "| SciPy Module         | Purpose                                                                 |\n",
    "|----------------------|-------------------------------------------------------------------------|\n",
    "| `scipy.linalg`       | Advanced linear algebra (LAPACK/BLAS-based solvers)                    |\n",
    "| `scipy.integrate`    | Numerical integration and solving differential equations               |\n",
    "| `scipy.optimize`     | Optimization (e.g., curve fitting, root finding)                       |\n",
    "| `scipy.sparse`       | Sparse matrix types and operations                                     |\n",
    "| `scipy.fft`          | Fast Fourier Transforms (more control than `np.fft`)                  |\n",
    "| `scipy.signal`       | Signal processing (filters, convolutions, etc.)                        |\n",
    "| `scipy.interpolate`  | Interpolation of functions and data                                    |\n",
    "| `scipy.special`      | Special functions (gamma, Bessel, orthogonal polynomials, etc.)        |\n",
    "| `scipy.stats`        | Statistical distributions and hypothesis testing                       |\n"
   ]
  },
  {
   "cell_type": "code",
   "execution_count": null,
   "metadata": {},
   "outputs": [],
   "source": [
    "#Example: Solving a Linear System\n",
    "\n",
    "#Using NumPy:\n",
    "import numpy as np\n",
    "\n",
    "A = np.array([[3, 1], [1, 2]])\n",
    "b = np.array([9, 8])\n",
    "\n",
    "x = np.linalg.solve(A, b)\n",
    "print(x)\n",
    "\n",
    "#Using SciPy:\n",
    "from scipy.linalg import solve\n",
    "\n",
    "x = solve(A, b)\n",
    "print(x)\n",
    "\n",
    "#Both approaches solve the same system, but scipy.linalg.solve provides more options and better support for edge cases (e.g., singular matrices, structured matrices)."
   ]
  },
  {
   "cell_type": "markdown",
   "metadata": {},
   "source": [
    "### The linalg module in Scipy\n",
    "In SciPy, scipy.linalg is a submodule within the scipy library that provides linear algebra functions that are more extensive than those in the numpy.linalg module. The scipy.linalg submodule offers a broader range of linear algebra operations, often with enhanced functionality and more specialized algorithms, making it ideal for solving more complex linear algebra problems.\n",
    "\n",
    "Key Functions in scipy.linalg (using the LA alias):\n",
    "\n",
    "Here are some of the important linear algebra functions that scipy.linalg provides:\n",
    "1.\tLA.eig(): Compute the eigenvalues and eigenvectors of a square matrix.\n",
    "\n",
    "•\tSimilar to numpy.linalg.eig() but with more options.\n",
    "\n",
    "2.\tLA.svd(): Singular value decomposition (SVD).\n",
    "\n",
    "3.\tLA.inv(): Matrix inverse.\n",
    "\n",
    "•\tComputes the inverse of a matrix.\n",
    "\n",
    "4.\tLA.det(): Matrix determinant.\n",
    "\n",
    "•\tComputes the determinant of a matrix.\n",
    "\n",
    "5.\tLA.norm(): Matrix or vector norm.\n",
    "\n",
    "•\tComputes different types of norms (e.g., Frobenius norm for matrices).\n",
    "\n",
    "6.\tLA.solve(): Solve a linear system.\n",
    "\n",
    "•\tSolves the linear matrix equation Ax = b for x.\n",
    "\n",
    "7.\tLA.cholesky(): Cholesky decomposition.\n",
    "\n",
    "•\tDecomposes a positive-definite matrix into a product of a lower triangular matrix and its conjugate transpose.\n",
    "\n",
    "8.\tLA.qr(): QR decomposition.\n",
    "\n",
    "•\tDecomposes a matrix into an orthogonal matrix Q and an upper triangular matrix R.\n",
    "\n",
    "9.\tLA.lu(): LU decomposition.\n",
    "\n",
    "•\tDecomposes a matrix into a lower triangular matrix L and an upper triangular matrix U.\n",
    "\n",
    "10.\tLA.cond(): Compute the condition number.\n",
    "\n",
    "•\tProvides a measure of the sensitivity of a system of linear equations.\n",
    "\n",
    "11.\tLA.pinv(): Compute the Moore-Penrose pseudoinverse.\n",
    "\n",
    "•\tComputes the pseudoinverse of a matrix, useful for solving least-squares problems when the matrix is not invertible.\n",
    "\n",
    "\n",
    "Why Use scipy.linalg Over numpy.linalg?\n",
    "\n",
    "•\tExtended functionality: While numpy.linalg covers most basic linear algebra operations, scipy.linalg includes more advanced algorithms and can handle a broader range of cases.\n",
    "\n",
    "•\tPerformance: Some of the functions in scipy.linalg may be optimized or provide more efficient methods for large-scale problems, particularly when using LAPACK or other libraries under the hood.\n",
    "\n",
    "•\tSpecialized solvers: scipy.linalg provides solvers for specific types of problems (e.g., the cholesky solver for positive-definite matrices), which can be faster than general-purpose solvers in numpy.linalg.\n"
   ]
  },
  {
   "cell_type": "code",
   "execution_count": 83,
   "metadata": {},
   "outputs": [
    {
     "name": "stdout",
     "output_type": "stream",
     "text": [
      "Eigenvalues:\n",
      "[-0.29018029+0.64976046j -0.29018029-0.64976046j -0.05256934+0.j        ]\n",
      "Eigenvectors:\n",
      "[[-0.7507226 +0.j         -0.7507226 -0.j          0.21508459+0.j        ]\n",
      " [ 0.38992048-0.38036369j  0.38992048+0.38036369j -0.88012733+0.j        ]\n",
      " [-0.0921649 -0.36222463j -0.0921649 +0.36222463j  0.42321922+0.j        ]]\n",
      "Determinant of A: -0.026620757732002735\n"
     ]
    }
   ],
   "source": [
    "#Here is an example of how to use the LA alias for linear algebra operations:\n",
    "import scipy.linalg as LA\n",
    "import numpy as np\n",
    "\n",
    "# Create a random matrix\n",
    "A = np.random.randn(3, 3)\n",
    "\n",
    "# Compute the eigenvalues and eigenvectors\n",
    "eigenvalues, eigenvectors = LA.eig(A)\n",
    "\n",
    "# Print results\n",
    "print(\"Eigenvalues:\")\n",
    "print(eigenvalues)\n",
    "print(\"Eigenvectors:\")\n",
    "print(eigenvectors)\n",
    "\n",
    "# Compute the determinant of A\n",
    "det_A = LA.det(A)\n",
    "print(f\"Determinant of A: {det_A}\")"
   ]
  },
  {
   "cell_type": "markdown",
   "metadata": {},
   "source": [
    "### Sparse Matrices with scipy.sparse\n",
    "\n",
    "For very large matrices, especially those that are sparse (i.e., most of their entries are zero), using the dense matrix representation might not be efficient. In such cases, SciPy’s sparse matrix module can be leveraged for more efficient memory and computation usage.\n",
    "\n",
    "You can use scipy.sparse.linalg to compute eigenvalues and eigenvectors of sparse matrices.\n",
    "\n",
    "❓But, what is a Sparse Matrix?\n",
    "\n",
    "A sparse matrix is a matrix in which most of the elements are zero. Storing all these zeroes explicitly (as in a regular NumPy array) is a waste of memory and computational time, especially for large matrices.\n",
    "\n",
    "| Benefit                 | Description |\n",
    "|-------------------------|-------------|\n",
    "| 💽 Memory efficiency    | Only stores non-zero entries |\n",
    "| ⚡ Faster operations     | Many linear algebra operations skip zero entries |\n",
    "| 🧠 Natural for physics   | Hamiltonians with local terms often yield sparse structure |\n",
    "\n",
    "In quantum mechanics, sparse matrices are common — for instance, in large Hamiltonians for many-body systems, where only a few elements are non-zero due to local interactions.\n"
   ]
  },
  {
   "cell_type": "markdown",
   "metadata": {},
   "source": [
    "#### SciPy’s scipy.sparse Module\n",
    "\n",
    "SciPy provides several efficient formats for working with sparse matrices:\n",
    "| Format       | Best For                          | Description                                  |\n",
    "|--------------|-----------------------------------|----------------------------------------------|\n",
    "| `csr_matrix` | Row slicing and matrix-vector ops | Compressed Sparse Row format (common)        |\n",
    "| `csc_matrix` | Column slicing                    | Compressed Sparse Column format              |\n",
    "| `coo_matrix` | Easy construction                 | Coordinate list (triplet) format             |\n",
    "| `dia_matrix` | Diagonal matrices                 | Stores only diagonals                        |\n",
    "| `lil_matrix` | Incremental construction          | List of Lists format                         |\n",
    "| `dok_matrix` | Dictionary-based construction     | Dictionary of Keys format                    |\n",
    "\n",
    "You can convert between these formats using .tocsr(), .tocoo(), etc."
   ]
  },
  {
   "cell_type": "code",
   "execution_count": 63,
   "metadata": {},
   "outputs": [
    {
     "name": "stdout",
     "output_type": "stream",
     "text": [
      "  (0, 4)\t5\n",
      "  (1, 1)\t8\n",
      "  (3, 2)\t3\n",
      "  (4, 3)\t6\n"
     ]
    }
   ],
   "source": [
    "#Example: Creating and Inspecting a Sparse Matrix\n",
    "import numpy as np\n",
    "from scipy.sparse import csr_matrix\n",
    "\n",
    "# Create a 5x5 dense matrix\n",
    "dense = np.array([\n",
    "    [0, 0, 0, 0, 5],\n",
    "    [0, 8, 0, 0, 0],\n",
    "    [0, 0, 0, 0, 0],\n",
    "    [0, 0, 3, 0, 0],\n",
    "    [0, 0, 0, 6, 0]\n",
    "])\n",
    "\n",
    "# Convert it to a sparse CSR matrix\n",
    "sparse = csr_matrix(dense)\n",
    "\n",
    "print(sparse)"
   ]
  },
  {
   "cell_type": "code",
   "execution_count": 64,
   "metadata": {},
   "outputs": [
    {
     "name": "stdout",
     "output_type": "stream",
     "text": [
      "Sparse dot time: 0.00017499923706054688\n",
      "Dense dot time: 0.014010906219482422\n"
     ]
    }
   ],
   "source": [
    "#Let’s compare the memory and performance of dense vs. sparse:\n",
    "from scipy.sparse import random\n",
    "import time\n",
    "\n",
    "# Create a large sparse matrix (10000 x 10000) with 0.1% density\n",
    "size = 10000\n",
    "density = 0.001\n",
    "A_sparse = random(size, size, density=density, format='csr')\n",
    "A_dense = A_sparse.toarray()\n",
    "\n",
    "# Sparse matrix-vector multiplication\n",
    "x = np.ones(size)\n",
    "\n",
    "start = time.time()\n",
    "y_sparse = A_sparse.dot(x)\n",
    "print(\"Sparse dot time:\", time.time() - start)\n",
    "\n",
    "start = time.time()\n",
    "y_dense = A_dense @ x\n",
    "print(\"Dense dot time:\", time.time() - start)"
   ]
  },
  {
   "cell_type": "code",
   "execution_count": 65,
   "metadata": {},
   "outputs": [
    {
     "name": "stdout",
     "output_type": "stream",
     "text": [
      "[[ 1  0  0  0]\n",
      " [ 0 -1  0  0]\n",
      " [ 0  0 -1  0]\n",
      " [ 0  0  0  1]]\n"
     ]
    }
   ],
   "source": [
    "#Quantum Example: Sparse Hamiltonian\n",
    "from scipy.sparse import kron, identity\n",
    "from scipy.sparse import csr_matrix\n",
    "\n",
    "# Pauli-Z in sparse form\n",
    "Z = csr_matrix(np.array([[1, 0], [0, -1]]))\n",
    "\n",
    "# Identity\n",
    "I = identity(2, format='csr')\n",
    "\n",
    "# 2-qubit interaction: Z ⊗ Z\n",
    "H = kron(Z, Z)\n",
    "\n",
    "print(H.toarray())"
   ]
  },
  {
   "cell_type": "markdown",
   "metadata": {},
   "source": [
    "We can build a sparse matrix starting only from its entries and their respective coordinates in the matrix. This means that we have an array for the entries $A_{ij}$ and another array containing the indices of each entry $(i,j)$. This is particularly useful when we are dealing with large matrices, but we now that the non-zero matrix elements are only a very small number, and we can directly have access to them."
   ]
  },
  {
   "cell_type": "code",
   "execution_count": 80,
   "metadata": {},
   "outputs": [
    {
     "name": "stdout",
     "output_type": "stream",
     "text": [
      "Dense Representation of the Sparse Matrix:\n",
      "[[10  0  0  0  0]\n",
      " [ 0 20  0  0  0]\n",
      " [ 0  0 30  0  0]\n",
      " [ 0  0  0 40  0]\n",
      " [ 0  0  0  0 50]]\n"
     ]
    }
   ],
   "source": [
    "import numpy as np\n",
    "from scipy.sparse import coo_matrix\n",
    "\n",
    "# Define the size of the matrix (e.g., 5x5)\n",
    "size = 5\n",
    "\n",
    "# Define the array of non-zero values (entries in the sparse matrix)\n",
    "values = np.array([10, 20, 30, 40, 50])\n",
    "\n",
    "# Define the array of coordinates (row and column indices)\n",
    "# Each pair of coordinates corresponds to a value in the 'values' array\n",
    "# Format: (row_indices, column_indices)\n",
    "row_indices = np.array([0, 1, 2, 3, 4])  # Rows where the values will be placed\n",
    "col_indices = np.array([0, 1, 2, 3, 4])  # Columns where the values will be placed\n",
    "\n",
    "# Create the sparse matrix using COO format\n",
    "sparse_matrix = coo_matrix((values, (row_indices, col_indices)), shape=(size, size))\n",
    "\n",
    "# Convert to dense format to view it\n",
    "dense_matrix = sparse_matrix.toarray()\n",
    "\n",
    "# Print the sparse matrix in dense form\n",
    "print(\"Dense Representation of the Sparse Matrix:\")\n",
    "print(dense_matrix)"
   ]
  },
  {
   "cell_type": "markdown",
   "metadata": {},
   "source": [
    "#### Eigenvalue Solvers for Sparse Matrices\n",
    "For large sparse Hermitian matrices, use scipy.sparse.linalg.eigsh, which uses ARPACK under the hood:"
   ]
  },
  {
   "cell_type": "code",
   "execution_count": null,
   "metadata": {},
   "outputs": [],
   "source": [
    "from scipy.sparse.linalg import eigsh\n",
    "\n",
    "# Random sparse symmetric matrix\n",
    "from scipy.sparse import rand\n",
    "A = rand(1000, 1000, density=0.01, format='csr')\n",
    "A = (A + A.T) / 2  # Make it symmetric\n",
    "\n",
    "# Compute 3 lowest eigenvalues\n",
    "evals, evecs = eigsh(A, k=3, which='SA')  # SA = smallest algebraic\n",
    "\n",
    "print(evals)"
   ]
  },
  {
   "cell_type": "markdown",
   "metadata": {},
   "source": [
    "Use sparse matrices when:\n",
    "\n",
    "•\tYour matrix is large and mostly zero\n",
    "\n",
    "•\tYou need to perform linear algebra (e.g., matrix-vector products, eigenvalue problems)\n",
    "\n",
    "•\tYou work with many-body quantum systems or PDEs\n",
    "\n",
    "\n",
    "Avoid sparse matrices for:\n",
    "\n",
    "•\tSmall matrices (overhead dominates)\n",
    "\n",
    "•\tFully dense data\n",
    "\n",
    "Attention! In general, sparse matrices are efficient when most of the matrix entries are zero, but if the matrix is dense (i.e., most of the entries are non-zero), using sparse matrices could incur additional overhead and make them less efficient than dense matrices.\n"
   ]
  },
  {
   "cell_type": "code",
   "execution_count": 72,
   "metadata": {},
   "outputs": [
    {
     "name": "stdout",
     "output_type": "stream",
     "text": [
      "Time for dense matrix eigenstate calculation: 0.2450 seconds\n",
      "Time for sparse matrix eigenstate calculation: 3.7047 seconds\n"
     ]
    }
   ],
   "source": [
    "#Example: Dense vs Sparse Matrix for Eigenstate Calculation\n",
    "import numpy as np\n",
    "from scipy.sparse import random\n",
    "from scipy.sparse.linalg import eigsh\n",
    "from scipy.linalg import eigh\n",
    "import time\n",
    "\n",
    "# Create a dense matrix\n",
    "size = 1000\n",
    "A_dense = np.random.rand(size, size)\n",
    "\n",
    "# Compute eigenstates using dense matrix\n",
    "start = time.time()\n",
    "eigenvalues_dense, eigenvectors_dense = eigh(A_dense)  # Using dense matrix function\n",
    "dense_time = time.time() - start\n",
    "\n",
    "# Now create a sparse matrix that is actually dense in nature (not sparse)\n",
    "A_sparse = random(size, size, density=0.9, format='csr')\n",
    "A_sparse = (A_sparse + A_sparse.T) / 2  # Make the matrix symmetric, making it dense in content\n",
    "\n",
    "# Compute eigenstates using sparse matrix\n",
    "start = time.time()\n",
    "eigenvalues_sparse, eigenvectors_sparse = eigsh(A_sparse, k=size-2, which='LM')  # Using sparse matrix function. ATTENTION! k < size-1!\n",
    "sparse_time = time.time() - start\n",
    "\n",
    "# Output the results\n",
    "print(f\"Time for dense matrix eigenstate calculation: {dense_time:.4f} seconds\")\n",
    "print(f\"Time for sparse matrix eigenstate calculation: {sparse_time:.4f} seconds\")"
   ]
  },
  {
   "cell_type": "markdown",
   "metadata": {},
   "source": [
    "Explanation:\n",
    "1.\tDense Matrix:\n",
    "\n",
    "•\tWe create a dense matrix A_dense with random entries.\n",
    "\n",
    "•\tWe use scipy.linalg.eigh to calculate all eigenvalues and eigenvectors. This function is designed for dense matrices and is very efficient for them.\n",
    "\n",
    "2.\tSparse Matrix:\n",
    "\n",
    "•\tWe create a sparse matrix A_sparse with a high density (90% non-zero entries), making it effectively a dense matrix.\n",
    "\n",
    "•\tWe use scipy.sparse.linalg.eigsh to calculate eigenvalues and eigenvectors, which is typically designed for sparse matrices, but here the matrix is dense in nature, so the sparse solver is not as efficient.\n",
    "\n",
    "\n",
    "Expected Outcome:\n",
    "\n",
    "•\tDense Matrix: The eigh function is highly optimized for dense matrices, and since the matrix is truly dense, it will likely perform better in this case.\n",
    "\n",
    "•\tSparse Matrix: Even though A_sparse is technically a sparse matrix, the high density (90%) means the overhead of sparse matrix management outweighs the benefits, and thus it might take longer to compute the eigenstates compared to using a dense matrix.\n",
    "\n",
    "\n",
    "Conclusion:\n",
    "\n",
    "For matrices that are not sparse (i.e., with many non-zero entries), using dense matrices is more efficient because the overhead of managing sparse structures and performing sparse-specific optimizations becomes counterproductive. In this case, the dense matrix will be much faster for computing the eigenstates."
   ]
  },
  {
   "cell_type": "markdown",
   "metadata": {},
   "source": [
    "#### Recap and more...\n",
    "🔹 Eigenvalue Solvers and Other Techniques\n",
    "\n",
    "•\tscipy.linalg.eig(): Computes all eigenvalues and eigenvectors for dense matrices.\n",
    "\n",
    "•\tscipy.sparse.linalg.eigs(): Computes a small number of eigenvalues for large sparse matrices using an iterative method.\n",
    "\n",
    "•\tscipy.linalg.svd(): Computes the Singular Value Decomposition (SVD), often used for rank and condition number analysis.\n",
    "\n",
    "⚡ Performance Considerations\n",
    "\n",
    "•\tDense matrices: For small to moderately sized dense matrices, np.linalg.eig() is typically sufficient.\n",
    "\n",
    "•\tLarge sparse matrices: Use SciPy’s sparse solvers, which are optimized to handle sparse structures efficiently.\n"
   ]
  },
  {
   "cell_type": "markdown",
   "metadata": {},
   "source": [
    "### ARPACK Eigensolver Overview\n",
    "\n",
    "The ARPACK library is a collection of Fortran subroutines designed to solve large-scale eigenvalue problems, particularly those involving sparse matrices. In the context of SciPy, the ARPACK solver is available through the function scipy.sparse.linalg.eigsh.\n",
    "\n",
    "The ARPACK algorithm is specifically designed for solving the eigenvalue problem for large, sparse, and symmetric matrices. It is an iterative solver that computes a few eigenvalues and their corresponding eigenvectors. It does this efficiently by starting with an initial guess and iteratively improving the approximation of the eigenvalues and eigenvectors.\n",
    "\n",
    "Why ARPACK is Useful for Sparse Matrices\n",
    "\n",
    "Sparse matrices are matrices where most of the elements are zero. These matrices arise naturally in many areas of scientific computing, particularly when modeling physical systems such as quantum mechanics, graph theory, and optimization. Handling sparse matrices efficiently is important to save both memory and computational resources.\n",
    "\n",
    "In contrast to dense matrices, sparse matrices are stored in a compressed form (e.g., compressed sparse row (CSR) format or compressed sparse column (CSC) format), which allows them to be stored in memory more efficiently, especially for large-scale systems.\n",
    "\n",
    "Why ARPACK is Efficient for Sparse Matrices\n",
    "1.\tMemory Efficiency: Sparse matrices often store only the non-zero entries, saving memory. ARPACK leverages this by working directly with sparse matrices rather than converting them to dense forms, which would be memory-inefficient.\n",
    "2.\tIterative Methods: ARPACK does not compute the full eigenvalue spectrum. Instead, it uses iterative methods (such as the Lanczos or Arnoldi iterations) to approximate the eigenvalues and eigenvectors. These methods focus on the largest or smallest eigenvalues, depending on the choice of parameters, making them ideal for cases where we are only interested in a subset of eigenvalues.\n",
    "\n",
    "How ARPACK Works: Extracting a Few Eigenvalues\n",
    "\n",
    "When dealing with large sparse matrices, it is often not feasible or efficient to compute all of the eigenvalues and eigenvectors. This is because:\n",
    "\n",
    "•\tComputing the entire spectrum of a large matrix (i.e., all eigenvalues and eigenvectors) requires performing operations that scale quadratically with the size of the matrix, making it computationally expensive and memory-intensive for large matrices.\n",
    "\n",
    "•\tARPACK uses an iterative approach, where it computes only a few eigenvalues at a time. You can specify the number of eigenvalues you want to extract (denoted as k in eigsh).\n",
    "\n",
    "\n",
    "Key Parameters in scipy.sparse.linalg.eigsh\n",
    "\n",
    "•\tk: The number of eigenvalues (and corresponding eigenvectors) to compute. Since ARPACK is designed for sparse matrices, it is efficient when you want to extract only the smallest or largest eigenvalues.\n",
    "\n",
    "which: Specifies which eigenvalues to compute. This can be one of:\n",
    "\n",
    "•\t'LM' (Largest Magnitude Eigenvalues): The largest eigenvalues by absolute magnitude.\n",
    "\n",
    "•\t'SM' (Smallest Magnitude Eigenvalues): The smallest eigenvalues by absolute magnitude.\n",
    "\n",
    "•\t'LA' (Largest Algebraic Eigenvalues): The largest eigenvalues in terms of algebraic value.\n",
    "\n",
    "•\t'SA' (Smallest Algebraic Eigenvalues): The smallest eigenvalues in terms of algebraic value.\n",
    "\n",
    "The choice of which depends on the problem at hand. For example, in quantum mechanics, you often want the lowest eigenvalue (ground state) and perhaps a few excited states.\n",
    "\n",
    "Why It’s Good for Extracting Only a Few Eigenstates\n",
    "\n",
    "In many applications, such as quantum mechanics, you are typically interested in only a few eigenstates, particularly the ground state (the eigenstate with the smallest eigenvalue) and a small number of excited states. Extracting the entire spectrum can be overkill and computationally expensive. ARPACK solves this problem by allowing you to compute only the eigenvalues and eigenvectors you need.\n",
    "\t•\tComputational Efficiency: Since ARPACK computes only a few eigenvalues and their corresponding eigenvectors, the time complexity is much lower compared to methods that compute the full spectrum. For instance, extracting a small number of eigenstates can be done in approximately O(n) time, where n is the size of the matrix, as opposed to O(n^3) for full diagonalization methods (e.g., eig from scipy.linalg).\n",
    "\t•\tMemory Efficiency: Storing the full eigenvalue spectrum and eigenvectors for large matrices would require a significant amount of memory, which could be prohibitive. ARPACK avoids this by only storing the eigenvalues and eigenvectors you need.\n",
    "\n",
    "Computing All Eigenstates: Not Efficient for Sparse Matrices\n",
    "\n",
    "If you attempt to extract the entire spectrum of a matrix using ARPACK, it may still work, but it would not be efficient. This is because ARPACK is optimized for partial spectral problems, not for full diagonalization.\n",
    "\n",
    "For example, to compute all eigenstates of a large matrix, ARPACK would still need to perform an iterative process that scales poorly for large matrices. The dense solvers like scipy.linalg.eigh (for dense matrices) or numpy.linalg.eig would be more appropriate for extracting all eigenstates."
   ]
  },
  {
   "cell_type": "code",
   "execution_count": 76,
   "metadata": {},
   "outputs": [
    {
     "name": "stdout",
     "output_type": "stream",
     "text": [
      "Time taken to compute 10 largest eigenvalues: 0.3316 seconds\n",
      "Largest Eigenvalues: [-7.87838266 -7.75484291 -7.68662749 -7.61272602  7.55686679  7.60410221\n",
      "  7.65568616  7.72014695  7.81554411 50.23775996]\n"
     ]
    }
   ],
   "source": [
    "#Example of Using ARPACK in SciPy: Extracting Largest Eigenvalues\n",
    "\n",
    "import numpy as np\n",
    "from scipy.sparse import random\n",
    "from scipy.sparse.linalg import eigsh\n",
    "import time\n",
    "\n",
    "# Create a sparse symmetric matrix\n",
    "size = 1000\n",
    "A_sparse = random(size, size, density=0.1, format='csr')\n",
    "A_sparse = (A_sparse + A_sparse.T) / 2  # Make the matrix symmetric\n",
    "\n",
    "# Compute the largest eigenvalues using ARPACK\n",
    "start = time.time()\n",
    "k = 10  # Number of eigenvalues to extract\n",
    "eigenvalues, eigenvectors = eigsh(A_sparse, k=k, which='LM')  # 'LM' for largest magnitude\n",
    "elapsed_time = time.time() - start\n",
    "\n",
    "print(f\"Time taken to compute {k} largest eigenvalues: {elapsed_time:.4f} seconds\")\n",
    "print(\"Largest Eigenvalues:\", eigenvalues)"
   ]
  },
  {
   "cell_type": "code",
   "execution_count": 81,
   "metadata": {},
   "outputs": [
    {
     "name": "stdout",
     "output_type": "stream",
     "text": [
      "Time taken to compute 20 smallest eigenvalues: 16.0059 seconds\n",
      "Smallest Eigenvalues: [-0.12659436 -0.11363204 -0.09101481 -0.07431464 -0.07170012 -0.05834798\n",
      " -0.03502368 -0.0306265  -0.01883978 -0.0104887   0.00192971  0.01370445\n",
      "  0.02632371  0.03638325  0.04507588  0.06227804  0.07357886  0.08013643\n",
      "  0.10890045  0.11729386]\n"
     ]
    }
   ],
   "source": [
    "#Example of Using ARPACK for the Smallest Eigenvalues\n",
    "# Create a sparse symmetric matrix\n",
    "size = 1000\n",
    "A_sparse = random(size, size, density=0.1, format='csr')\n",
    "A_sparse = (A_sparse + A_sparse.T) / 2  # Make the matrix symmetric\n",
    "\n",
    "# Compute the smallest eigenvalues using ARPACK\n",
    "start = time.time()\n",
    "k = 20  # Number of eigenvalues to extract\n",
    "eigenvalues, eigenvectors = eigsh(A_sparse, k=k, which='SM')  # 'SM' for smallest magnitude\n",
    "elapsed_time = time.time() - start\n",
    "\n",
    "print(f\"Time taken to compute {k} smallest eigenvalues: {elapsed_time:.4f} seconds\")\n",
    "print(\"Smallest Eigenvalues:\", eigenvalues)"
   ]
  },
  {
   "cell_type": "code",
   "execution_count": 82,
   "metadata": {},
   "outputs": [
    {
     "name": "stdout",
     "output_type": "stream",
     "text": [
      "Sparse matrix time: 0.0063 seconds\n",
      "Ground state energy: -1.7785015282600556\n",
      "Dense matrix time: 0.4277 seconds\n",
      "Ground state energy (dense): -1.7785015282600547\n"
     ]
    }
   ],
   "source": [
    "#Example: compute the ground state\n",
    "import scipy.sparse as sp\n",
    "import scipy.sparse.linalg as spla\n",
    "import scipy.linalg as LA\n",
    "import time\n",
    "\n",
    "# Create a large sparse Hermitian matrix (1000x1000)\n",
    "N = 1000\n",
    "diag = np.random.rand(N)\n",
    "off_diag = sp.random(N, N, density=0.001, format='csr')\n",
    "off_diag = off_diag + off_diag.T.conj()  # Make Hermitian\n",
    "H_sparse = sp.diags(diag) + off_diag\n",
    "\n",
    "# Find ground state (smallest eigenvalue)\n",
    "start = time.time()\n",
    "evals_small, evecs_small = spla.eigsh(H_sparse, k=1, which='SA')\n",
    "print(f\"Sparse matrix time: {time.time()-start:.4f} seconds\")\n",
    "print(\"Ground state energy:\", evals_small[0])\n",
    "\n",
    "# Compare with dense matrix\n",
    "H_dense = H_sparse.toarray()\n",
    "start = time.time()\n",
    "evals_dense = LA.eigh(H_dense)[0]\n",
    "print(f\"Dense matrix time: {time.time()-start:.4f} seconds\")\n",
    "print(\"Ground state energy (dense):\", evals_dense[0])"
   ]
  },
  {
   "cell_type": "markdown",
   "metadata": {},
   "source": [
    "### Special Functions in scipy.special\n",
    "\n",
    "The scipy.special module includes a vast collection of special functions used in scientific computing. These include orthogonal polynomials, gamma functions, Bessel functions, error functions, and more.\n",
    "\n",
    "In quantum mechanics, many of these functions appear naturally as solutions to differential equations — for example:\n",
    "\n",
    "•\tHermite polynomials: appear in the quantum harmonic oscillator.\n",
    "\n",
    "•\tLaguerre polynomials: appear in the radial part of the hydrogen atom wavefunctions.\n",
    "\n",
    "•\tLegendre polynomials: used in angular parts of central potentials.\n",
    "\n",
    "These functions are:\n",
    "\n",
    "•\tOptimized and numerically stable.\n",
    "\n",
    "•\tAccurate for a wide range of input values.\n",
    "\n",
    "•\tOften implemented using robust C/Fortran libraries behind the scenes.\n",
    "\n",
    "| Function                          | Description                                              |\n",
    "|----------------------------------|----------------------------------------------------------|\n",
    "| `hermite(n)`                     | Physicist’s Hermite polynomial \\( H_n(x) \\)             |\n",
    "| `genlaguerre(n, alpha)`          | Generalized Laguerre polynomial \\( L_n^{(\\alpha)}(x) \\) |\n",
    "| `legendre(n)`                    | Legendre polynomial \\( P_n(x) \\)                         |\n",
    "| `eval_chebyt(n, x)`              | Chebyshev polynomial of the first kind                   |\n",
    "| `gamma(x)`                       | Gamma function (generalization of factorial)             |\n",
    "| `jv(v, x)`                       | Bessel function of the first kind                        |\n",
    "| `sph_harm(m, l, theta, phi)`     | Spherical harmonics \\( Y_l^m(\\theta, \\phi) \\)           |\n",
    "\n",
    "You can evaluate these polynomials at given points, or even work with recurrence relations, derivatives, and zeros."
   ]
  },
  {
   "cell_type": "code",
   "execution_count": 102,
   "metadata": {},
   "outputs": [
    {
     "data": {
      "image/png": "[encoded data removed]",
      "text/plain": [
       "<Figure size 640x480 with 1 Axes>"
      ]
     },
     "metadata": {},
     "output_type": "display_data"
    }
   ],
   "source": [
    "#Example 1: Hermite Polynomials (Quantum Harmonic Oscillator)\n",
    "from scipy.special import hermite\n",
    "import numpy as np\n",
    "import matplotlib.pyplot as plt\n",
    "\n",
    "# Generate the n-th Hermite polynomial (probabilist's version)\n",
    "n = 3\n",
    "Hn = hermite(n)\n",
    "\n",
    "# Evaluate it over a range\n",
    "x = np.linspace(-5, 5, 200)\n",
    "y = Hn(x)\n",
    "\n",
    "plt.plot(x, y)\n",
    "plt.title(r\"Hermite polynomial $H_{n}(x)$\")\n",
    "plt.xlabel(\"x\")\n",
    "plt.ylabel(r\"$H_{n}(x)$\")\n",
    "plt.grid(True)\n",
    "plt.show()"
   ]
  },
  {
   "cell_type": "code",
   "execution_count": 101,
   "metadata": {},
   "outputs": [
    {
     "data": {
      "image/png": "[encoded data removed]",
      "text/plain": [
       "<Figure size 640x480 with 1 Axes>"
      ]
     },
     "metadata": {},
     "output_type": "display_data"
    }
   ],
   "source": [
    "#Example 2: Generalized Laguerre Polynomials (Hydrogen Atom)\n",
    "from scipy.special import genlaguerre\n",
    "\n",
    "# n=2, alpha=1 corresponds to L_2^1(x)\n",
    "n, alpha = 2, 1\n",
    "L = genlaguerre(n, alpha)\n",
    "\n",
    "x = np.linspace(0, 10, 200)\n",
    "y = L(x)\n",
    "\n",
    "plt.plot(x, y)\n",
    "plt.title(r\"Generalized Laguerre Polynomial $L_{n}^{\\alpha}(x)$\")\n",
    "plt.xlabel(\"x\")\n",
    "plt.ylabel(r\"$L_{n}^{\\alpha}(x)$\")\n",
    "plt.grid(True)\n",
    "plt.show()"
   ]
  },
  {
   "cell_type": "markdown",
   "metadata": {},
   "source": [
    "## 5. Introduction to JAX\n",
    "\n",
    "[JAX](https://github.com/google/jax) is a Python library developed by Google for high-performance numerical computing and machine learning research. It extends NumPy with powerful features like automatic differentiation, GPU/TPU acceleration, and composable transformations.\n",
    "\n",
    "### Key Features\n",
    "\n",
    "- **NumPy-compatible API**: You can use JAX with code that looks almost identical to NumPy, but with extra capabilities.\n",
    "- **Autograd**: JAX provides `grad` for computing gradients of scalar-valued functions.\n",
    "- **JIT compilation**: Just-In-Time compilation via `jax.jit` makes your Python functions run much faster.\n",
    "- **Vectorization**: Use `jax.vmap` to vectorize functions automatically across batch dimensions.\n",
    "- **Parallelization**: With `jax.pmap`, you can parallelize computation across multiple devices (e.g., multiple GPUs).\n",
    "\n",
    "### Why use JAX in quantum optics?\n",
    "\n",
    "JAX is particularly useful for:\n",
    "- Fast simulation of parameter-dependent quantum dynamics.\n",
    "- Gradient-based optimization (e.g., for quantum control or variational algorithms).\n",
    "- Leveraging GPUs for large-scale simulations without leaving Python.\n",
    "\n",
    "### Simple Example\n",
    "\n",
    "Here's how you might compute the gradient of a function using JAX:"
   ]
  },
  {
   "cell_type": "code",
   "execution_count": null,
   "metadata": {},
   "outputs": [],
   "source": [
    "import jax\n",
    "import jax.numpy as jnp\n",
    "\n",
    "def f(x):\n",
    "    return jnp.sin(x) * jnp.exp(-x**2)\n",
    "\n",
    "grad_f = jax.grad(f)\n",
    "\n",
    "x = 1.0\n",
    "print(f(x))        # Function value\n",
    "print(grad_f(x))   # Derivative at x = 1.0"
   ]
  },
  {
   "cell_type": "markdown",
   "metadata": {},
   "source": [
    "## 5. Introduction to Numba\n",
    "\n",
    "Numba is a Just-In-Time (JIT) compiler for Python that translates a subset of Python and NumPy code into fast machine code using the LLVM compiler infrastructure. It is especially useful for numerical computations and is commonly used when:\n",
    "\n",
    "•\tPython loops are too slow\n",
    "\n",
    "•\tVectorization is too complex or not possible\n",
    "\n",
    "•\tYou want to avoid rewriting code in C/C++\n",
    "\t\n",
    "\n",
    "Python is a high-level, interpreted language, which makes it slow for tight loops and low-level numerical operations, especially compared to C or Fortran. Numba allows you to write Python code that executes at near-C speed, often by just adding a single decorator.\n",
    "\n",
    "Numba works by compiling your Python functions at runtime. When a function is called for the first time, Numba inspects the types of the arguments and compiles a machine code version of the function specialized for those types.\n"
   ]
  },
  {
   "cell_type": "code",
   "execution_count": 84,
   "metadata": {},
   "outputs": [],
   "source": [
    "#The most common decorator:\n",
    "from numba import njit\n",
    "\n",
    "@njit\n",
    "def my_function(x):\n",
    "    return x**2 + 1"
   ]
  },
  {
   "cell_type": "code",
   "execution_count": 99,
   "metadata": {},
   "outputs": [
    {
     "name": "stdout",
     "output_type": "stream",
     "text": [
      "Slow sum: 499658.7916482066\n",
      "Time: 0.06450605392456055\n",
      "Fast sum: 499658.7916482066\n",
      "Time: 0.0007181167602539062\n"
     ]
    }
   ],
   "source": [
    "#Performance Comparison Example\n",
    "import numpy as np\n",
    "from numba import njit\n",
    "import time\n",
    "\n",
    "# Without Numba\n",
    "def slow_sum(arr):\n",
    "    total = 0.0\n",
    "    for i in range(len(arr)):\n",
    "        total += arr[i]\n",
    "    return total\n",
    "\n",
    "# With Numba\n",
    "@njit\n",
    "def fast_sum(arr):\n",
    "    total = 0.0\n",
    "    for i in range(len(arr)):\n",
    "        total += arr[i]\n",
    "    return total\n",
    "\n",
    "arr = np.random.rand(10**6)\n",
    "\n",
    "# Timing the slow version\n",
    "start = time.time()\n",
    "print(\"Slow sum:\", slow_sum(arr))\n",
    "print(\"Time:\", time.time() - start)\n",
    "\n",
    "firstsum = fast_sum(arr)    #the first time you use the @njit is very slow cause it has to compile it\n",
    "# Timing the fast version\n",
    "start = time.time()\n",
    "print(\"Fast sum:\", fast_sum(arr))\n",
    "print(\"Time:\", time.time() - start)"
   ]
  },
  {
   "cell_type": "markdown",
   "metadata": {},
   "source": [
    "@njit (No Python mode): The most efficient compilation mode. It disallows use of Python objects and some features but results in maximum speed.\n",
    "\n",
    "✅ Supported Features\n",
    "\n",
    "Numba supports:\n",
    "\n",
    "•\tMost NumPy operations (e.g., np.sum, np.mean, slicing)\n",
    "\n",
    "•\tLoops (for, while)\n",
    "\n",
    "•\tConditionals (if, else)\n",
    "\n",
    "•\tRecursion\n",
    "\n",
    "•\tRandom number generation\n",
    "\n",
    "•\tSimple math functions (sin, exp, log, etc.)\n",
    "\n",
    "\n",
    "❌ Unsupported or Limited Features\n",
    "\n",
    "•\tArbitrary Python objects (e.g., strings, lists of objects)\n",
    "\n",
    "•\tClasses and methods (unless using @jitclass)\n",
    "\n",
    "•\tSome NumPy features (e.g., broadcasting, fancy indexing)\n",
    "\n",
    "•\tFile I/O, printing, and OS operations\n",
    "\n",
    "\n",
    "#### ✅ Tips & Gotchas for Using Numba\n",
    "\n",
    "| ✅ Do This                 | ❌ Avoid This                          |\n",
    "|---------------------------|----------------------------------------|\n",
    "| Use `@njit`               | Avoid using Python lists               |\n",
    "| Use NumPy arrays          | Avoid `print()` inside compiled code   |\n",
    "| Preallocate arrays        | Avoid object dtype arrays              |\n",
    "| Use standard math funcs   | Avoid importing `random` from Python   |\n",
    "| Use `prange` for parallel | Avoid file I/O inside JIT-compiled code|"
   ]
  },
  {
   "cell_type": "markdown",
   "metadata": {},
   "source": [
    "🧰 Advanced Use: Parallel Computing\n",
    "prange enables automatic multithreading, leveraging multiple CPU cores."
   ]
  },
  {
   "cell_type": "code",
   "execution_count": null,
   "metadata": {},
   "outputs": [],
   "source": [
    "#Parallel Computing\n",
    "from numba import prange\n",
    "\n",
    "@njit(parallel=True)\n",
    "def parallel_sum(arr):\n",
    "    total = 0.0\n",
    "    for i in prange(len(arr)):\n",
    "        total += arr[i]\n",
    "    return total"
   ]
  },
  {
   "cell_type": "markdown",
   "metadata": {},
   "source": [
    "Vectorize Functions\n",
    "\n",
    "You can also use Numba to vectorize scalar functions (like np.vectorize, but fast):"
   ]
  },
  {
   "cell_type": "code",
   "execution_count": 86,
   "metadata": {},
   "outputs": [],
   "source": [
    "from numba import vectorize\n",
    "\n",
    "@vectorize\n",
    "def myfunc(x):\n",
    "    return x**2 + 3*x + 1\n",
    "\n",
    "#This creates a fast universal function (ufunc) that works over NumPy arrays."
   ]
  },
  {
   "cell_type": "markdown",
   "metadata": {},
   "source": [
    "💡 When to Use Numba\n",
    "\t•\tWhen loops are unavoidable\n",
    "\t•\tWhen vectorization is difficult or unreadable\n",
    "\t•\tWhen you want C-like speed but keep Python’s simplicity\n",
    "\t•\tWhen you’re dealing with large data and performance is critical\n",
    "\n",
    "| Feature                     | Numba Support          | Notes                                   |\n",
    "|-----------------------------|------------------------|-----------------------------------------|\n",
    "| Standard `for`/`while`      | ✅ Fully supported      | Greatly accelerated                     |\n",
    "| NumPy Arrays                | ✅ Fully supported      | Use instead of Python lists             |\n",
    "| Broadcasting (NumPy)        | ⚠️ Partial support      | Use with care                           |\n",
    "| Python Lists & Dicts        | ❌ Not supported        | Use NumPy or structured arrays instead  |\n",
    "| Classes                     | ⚠️ With `@jitclass`     | Limited support                         |\n",
    "| Printing/Logging            | ❌ Not supported        | Use outside of `@njit` functions        |\n",
    "| File I/O                    | ❌ Not supported        | Do outside of compiled functions        |\n",
    "| Multithreading              | ✅ With `prange`        | Use `@njit(parallel=True)`              |\n",
    "| Universal Functions (ufunc) | ✅ With `@vectorize`    | Creates fast element-wise functions     |"
   ]
  },
  {
   "cell_type": "markdown",
   "metadata": {},
   "source": []
  },
  {
   "cell_type": "markdown",
   "metadata": {},
   "source": []
  }
 ],
 "metadata": {
  "kernelspec": {
   "display_name": "Python 3",
   "language": "python",
   "name": "python3"
  },
  "language_info": {
   "codemirror_mode": {
    "name": "ipython",
    "version": 3
   },
   "file_extension": ".py",
   "mimetype": "text/x-python",
   "name": "python",
   "nbconvert_exporter": "python",
   "pygments_lexer": "ipython3",
   "version": "3.12.2"
  }
 },
 "nbformat": 4,
 "nbformat_minor": 4
}
