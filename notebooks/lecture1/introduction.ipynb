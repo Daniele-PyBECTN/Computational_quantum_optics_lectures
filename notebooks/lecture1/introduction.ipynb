{
  "cells": [
    {
      "cell_type": "markdown",
      "metadata": {},
      "source": [
        "# Introduction to Python\n",
        "\n",
        "This notebook provides a brief introduction to Python, covering the\n",
        "basics of the language and its ecosystem.\n",
        "\n",
        "## Python Lists"
      ],
      "id": "ea156969-2661-4708-bd47-f92abc80a246"
    },
    {
      "cell_type": "code",
      "execution_count": 1,
      "metadata": {},
      "outputs": [
        {
          "output_type": "stream",
          "name": "stdout",
          "text": [
            "First fruit: apple"
          ]
        }
      ],
      "source": [
        "fruits = ['apple', 'banana', 'cherry']\n",
        "print(f'First fruit: {fruits[0]}')"
      ],
      "id": "python-list"
    },
    {
      "cell_type": "markdown",
      "metadata": {},
      "source": [
        "## For loops"
      ],
      "id": "21a1614b-6e7f-461a-8aca-2138ddf4ae60"
    },
    {
      "cell_type": "code",
      "execution_count": 2,
      "metadata": {},
      "outputs": [
        {
          "output_type": "stream",
          "name": "stdout",
          "text": [
            "I like apple\n",
            "I like banana\n",
            "I like cherry"
          ]
        }
      ],
      "source": [
        "for fruit in fruits:\n",
        "    print(f'I like {fruit}')"
      ],
      "id": "python-for-loop"
    },
    {
      "cell_type": "markdown",
      "metadata": {},
      "source": [
        "## Functions"
      ],
      "id": "40109d70-d3e3-48bb-9aaf-9c426e820eff"
    },
    {
      "cell_type": "code",
      "execution_count": 3,
      "metadata": {},
      "outputs": [
        {
          "output_type": "stream",
          "name": "stdout",
          "text": [
            "25"
          ]
        }
      ],
      "source": [
        "def square(x):\n",
        "    return x * x\n",
        "\n",
        "print(square(5))"
      ],
      "id": "python-function"
    },
    {
      "cell_type": "markdown",
      "metadata": {},
      "source": [
        "## Lambda functions"
      ],
      "id": "d088494d-627a-4912-9be4-e53a970ceede"
    },
    {
      "cell_type": "code",
      "execution_count": 4,
      "metadata": {},
      "outputs": [
        {
          "output_type": "stream",
          "name": "stdout",
          "text": [
            "25"
          ]
        }
      ],
      "source": [
        "square_lambda = lambda x: x * x\n",
        "print(square_lambda(5))"
      ],
      "id": "python-lambda"
    },
    {
      "cell_type": "markdown",
      "metadata": {},
      "source": [
        "## Complex numbers"
      ],
      "id": "6ccc161a-e2f6-472c-9eda-c07325f3d66f"
    },
    {
      "cell_type": "code",
      "execution_count": 5,
      "metadata": {},
      "outputs": [
        {
          "output_type": "stream",
          "name": "stdout",
          "text": [
            "Complex number: (1+2j)\n",
            "Real part: 1.0\n",
            "Magnitude: 2.23606797749979"
          ]
        }
      ],
      "source": [
        "z = 1 + 2j\n",
        "print(f'Complex number: {z}')\n",
        "print(f'Real part: {z.real}')\n",
        "print(f'Magnitude: {abs(z)}')"
      ],
      "id": "python-complex-number"
    },
    {
      "cell_type": "markdown",
      "metadata": {},
      "source": [
        "## Numpy arrays"
      ],
      "id": "699d0b95-1d27-46b5-8335-baa65d125c32"
    },
    {
      "cell_type": "code",
      "execution_count": 6,
      "metadata": {},
      "outputs": [
        {
          "output_type": "stream",
          "name": "stdout",
          "text": [
            "Sum using list: 499999.5, Time taken: 7.7751 milliseconds\n",
            "Sum using numpy: 499999.5, Time taken: 0.4165 milliseconds"
          ]
        }
      ],
      "source": [
        "import numpy as np\n",
        "import time # Only for benchmarking\n",
        "\n",
        "my_list = [i / 1_000_000 for i in range(1_000_000)]\n",
        "\n",
        "start = time.time() # start timer\n",
        "sum_list = sum(my_list)  # sum using Python list\n",
        "end = time.time()  # end timer\n",
        "print(f'Sum using list: {sum_list}, '\n",
        "      f'Time taken: {1e3*(end - start):.4f} milliseconds')\n",
        "\n",
        "my_list_numpy = np.array(my_list)\n",
        "start = time.time()  # start timer\n",
        "sum_numpy = np.sum(my_list_numpy)  # sum using numpy array\n",
        "end = time.time()  # end timer\n",
        "print(f'Sum using numpy: {sum_numpy}, '\n",
        "      f'Time taken: {1e3*(end - start):.4f} milliseconds')"
      ],
      "id": "python-sum-list-vs-numpy"
    },
    {
      "cell_type": "markdown",
      "metadata": {},
      "source": [
        "## Vectorized Numpy operations"
      ],
      "id": "11ad7f96-c1db-436e-8268-720c7102bd72"
    },
    {
      "cell_type": "code",
      "execution_count": 7,
      "metadata": {},
      "outputs": [
        {
          "output_type": "stream",
          "name": "stdout",
          "text": [
            "[0.         0.00010001 0.00020002 0.00030005 0.00040008]"
          ]
        }
      ],
      "source": [
        "# Vectorized array operations\n",
        "x = np.linspace(0, 100, 1_000_000)\n",
        "y = np.sin(x) + 0.5 * x**2\n",
        "print(y[:5])  # show first five results"
      ],
      "id": "python-numpy"
    }
  ],
  "nbformat": 4,
  "nbformat_minor": 5,
  "metadata": {
    "kernelspec": {
      "name": "python3",
      "display_name": "Python 3 (ipykernel)",
      "language": "python",
      "path": "/opt/hostedtoolcache/Python/3.13.3/x64/share/jupyter/kernels/python3"
    },
    "language_info": {
      "name": "python",
      "codemirror_mode": {
        "name": "ipython",
        "version": "3"
      },
      "file_extension": ".py",
      "mimetype": "text/x-python",
      "nbconvert_exporter": "python",
      "pygments_lexer": "ipython3",
      "version": "3.13.3"
    }
  }
}