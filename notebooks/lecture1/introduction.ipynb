{
  "cells": [
    {
      "cell_type": "markdown",
      "metadata": {},
      "source": [
        "# Python Lists\n",
        "\n",
        "# Introduction to Python\n",
        "\n",
        "This notebook provides a brief introduction to Python, covering the\n",
        "basics of the language and its ecosystem.\n",
        "\n",
        "## Colab Setup\n",
        "\n",
        "Run this cell only if you are using Google Colab. It installs the\n",
        "required packages and sets up the environment."
      ],
      "id": "fc3bbbab-b682-4f14-9496-880f46be8078"
    },
    {
      "cell_type": "code",
      "execution_count": 1,
      "metadata": {},
      "outputs": [],
      "source": [
        "import sys\n",
        "if 'google.colab' in sys.modules:\n",
        "  !pip install -r https://raw.githubusercontent.com/Daniele-PyBECTN/Computational_quantum_optics_lectures/refs/heads/notebooks/requirements.txt"
      ],
      "id": "cd63e3a6"
    },
    {
      "cell_type": "code",
      "execution_count": 2,
      "metadata": {},
      "outputs": [
        {
          "output_type": "stream",
          "name": "stdout",
          "text": [
            "First fruit: apple"
          ]
        }
      ],
      "source": [
        "fruits = ['apple', 'banana', 'cherry']\n",
        "print(f'First fruit: {fruits[0]}')"
      ],
      "id": "python-list"
    },
    {
      "cell_type": "code",
      "execution_count": 3,
      "metadata": {},
      "outputs": [
        {
          "output_type": "stream",
          "name": "stdout",
          "text": [
            "I like apple\n",
            "I like banana\n",
            "I like cherry"
          ]
        }
      ],
      "source": [
        "for fruit in fruits:\n",
        "    print(f'I like {fruit}')"
      ],
      "id": "python-for-loop"
    },
    {
      "cell_type": "code",
      "execution_count": 4,
      "metadata": {},
      "outputs": [
        {
          "output_type": "stream",
          "name": "stdout",
          "text": [
            "25"
          ]
        }
      ],
      "source": [
        "def square(x):\n",
        "    return x * x\n",
        "\n",
        "print(square(5))"
      ],
      "id": "python-function"
    },
    {
      "cell_type": "code",
      "execution_count": 5,
      "metadata": {},
      "outputs": [
        {
          "output_type": "stream",
          "name": "stdout",
          "text": [
            "25"
          ]
        }
      ],
      "source": [
        "square_lambda = lambda x: x * x\n",
        "print(square_lambda(5))"
      ],
      "id": "python-lambda"
    },
    {
      "cell_type": "code",
      "execution_count": 6,
      "metadata": {},
      "outputs": [
        {
          "output_type": "stream",
          "name": "stdout",
          "text": [
            "[0.         0.00010001 0.00020002 0.00030005 0.00040008]"
          ]
        }
      ],
      "source": [
        "import numpy as np\n",
        "\n",
        "# Vectorized array operations\n",
        "x = np.linspace(0, 100, 1_000_000)\n",
        "y = np.sin(x) + 0.5 * x**2\n",
        "print(y[:5])  # show first five results"
      ],
      "id": "python-numpy"
    }
  ],
  "nbformat": 4,
  "nbformat_minor": 5,
  "metadata": {
    "kernelspec": {
      "name": "python3",
      "display_name": "Python 3 (ipykernel)",
      "language": "python",
      "path": "/home/runner/.local/share/jupyter/kernels/python3"
    },
    "language_info": {
      "name": "python",
      "codemirror_mode": {
        "name": "ipython",
        "version": "3"
      },
      "file_extension": ".py",
      "mimetype": "text/x-python",
      "nbconvert_exporter": "python",
      "pygments_lexer": "ipython3",
      "version": "3.12.3"
    }
  }
}