{
  "cells": [
    {
      "cell_type": "markdown",
      "metadata": {},
      "source": [
        "# Introduction to Python\n",
        "\n",
        "This notebook provides a brief introduction to Python, covering the\n",
        "basics of the language and its ecosystem.\n",
        "\n",
        "## Colab Setup\n",
        "\n",
        "Run this cell only if you are using Google Colab. It installs the\n",
        "required packages and sets up the environment."
      ],
      "id": "7940c1ab-f786-4c96-9bd7-0ecbf1fc9f96"
    },
    {
      "cell_type": "code",
      "execution_count": 1,
      "metadata": {},
      "outputs": [],
      "source": [
        "import sys\n",
        "if 'google.colab' in sys.modules:\n",
        "  !pip install -r https://raw.githubusercontent.com/Daniele-PyBECTN/Computational_quantum_optics_lectures/refs/heads/notebooks/requirements.txt"
      ],
      "id": "abf2a4f5"
    },
    {
      "cell_type": "markdown",
      "metadata": {},
      "source": [
        "## Python Lists"
      ],
      "id": "7ff637fb-84b9-4191-ba78-b35a76782410"
    },
    {
      "cell_type": "code",
      "execution_count": 2,
      "metadata": {},
      "outputs": [
        {
          "output_type": "stream",
          "name": "stdout",
          "text": [
            "First fruit: apple"
          ]
        }
      ],
      "source": [
        "fruits = ['apple', 'banana', 'cherry']\n",
        "print(f'First fruit: {fruits[0]}')"
      ],
      "id": "python-list"
    },
    {
      "cell_type": "markdown",
      "metadata": {},
      "source": [
        "## For loops"
      ],
      "id": "679e4391-7bd3-46ae-8391-566ecfb18a15"
    },
    {
      "cell_type": "code",
      "execution_count": 3,
      "metadata": {},
      "outputs": [
        {
          "output_type": "stream",
          "name": "stdout",
          "text": [
            "I like apple\n",
            "I like banana\n",
            "I like cherry"
          ]
        }
      ],
      "source": [
        "for fruit in fruits:\n",
        "    print(f'I like {fruit}')"
      ],
      "id": "python-for-loop"
    },
    {
      "cell_type": "markdown",
      "metadata": {},
      "source": [
        "## Functions"
      ],
      "id": "38746acc-20d2-4082-80b9-a6d0cd30139d"
    },
    {
      "cell_type": "code",
      "execution_count": 4,
      "metadata": {},
      "outputs": [
        {
          "output_type": "stream",
          "name": "stdout",
          "text": [
            "25"
          ]
        }
      ],
      "source": [
        "def square(x):\n",
        "    return x * x\n",
        "\n",
        "print(square(5))"
      ],
      "id": "python-function"
    },
    {
      "cell_type": "markdown",
      "metadata": {},
      "source": [
        "## Lambda functions"
      ],
      "id": "97555bc3-f09f-4247-a91c-6fcfdd70a10b"
    },
    {
      "cell_type": "code",
      "execution_count": 5,
      "metadata": {},
      "outputs": [
        {
          "output_type": "stream",
          "name": "stdout",
          "text": [
            "25"
          ]
        }
      ],
      "source": [
        "square_lambda = lambda x: x * x\n",
        "print(square_lambda(5))"
      ],
      "id": "python-lambda"
    },
    {
      "cell_type": "markdown",
      "metadata": {},
      "source": [
        "## Complex numbers"
      ],
      "id": "2e43b3b9-3ac3-41bf-adfb-e1bd34fcada3"
    },
    {
      "cell_type": "code",
      "execution_count": 6,
      "metadata": {},
      "outputs": [
        {
          "output_type": "stream",
          "name": "stdout",
          "text": [
            "Complex number: (1+2j)\n",
            "Real part: 1.0\n",
            "Magnitude: 2.23606797749979"
          ]
        }
      ],
      "source": [
        "z = 1 + 2j\n",
        "print(f'Complex number: {z}')\n",
        "print(f'Real part: {z.real}')\n",
        "print(f'Magnitude: {abs(z)}')"
      ],
      "id": "python-complex-number"
    },
    {
      "cell_type": "markdown",
      "metadata": {},
      "source": [
        "## Numpy arrays"
      ],
      "id": "4ea9c7e1-be22-4dea-9313-0e94fc41d2a2"
    },
    {
      "cell_type": "code",
      "execution_count": 7,
      "metadata": {},
      "outputs": [
        {
          "output_type": "stream",
          "name": "stdout",
          "text": [
            "Sum using list: 499999.5, Time taken: 7.8187 milliseconds\n",
            "Sum using numpy: 499999.5, Time taken: 0.5782 milliseconds"
          ]
        }
      ],
      "source": [
        "import numpy as np\n",
        "import time # Only for benchmarking\n",
        "\n",
        "my_list = [i / 1_000_000 for i in range(1_000_000)]\n",
        "\n",
        "start = time.time() # start timer\n",
        "sum_list = sum(my_list)  # sum using Python list\n",
        "end = time.time()  # end timer\n",
        "print(f'Sum using list: {sum_list}, '\n",
        "      f'Time taken: {1e3*(end - start):.4f} milliseconds')\n",
        "\n",
        "my_list_numpy = np.array(my_list)\n",
        "start = time.time()  # start timer\n",
        "sum_numpy = np.sum(my_list_numpy)  # sum using numpy array\n",
        "end = time.time()  # end timer\n",
        "print(f'Sum using numpy: {sum_numpy}, '\n",
        "      f'Time taken: {1e3*(end - start):.4f} milliseconds')"
      ],
      "id": "python-sum-list-vs-numpy"
    },
    {
      "cell_type": "markdown",
      "metadata": {},
      "source": [
        "## Vectorized Numpy operations"
      ],
      "id": "f3e04504-a590-4ed6-be2b-be8d862a3650"
    },
    {
      "cell_type": "code",
      "execution_count": 8,
      "metadata": {},
      "outputs": [
        {
          "output_type": "stream",
          "name": "stdout",
          "text": [
            "[0.         0.00010001 0.00020002 0.00030005 0.00040008]"
          ]
        }
      ],
      "source": [
        "# Vectorized array operations\n",
        "x = np.linspace(0, 100, 1_000_000)\n",
        "y = np.sin(x) + 0.5 * x**2\n",
        "print(y[:5])  # show first five results"
      ],
      "id": "python-numpy"
    }
  ],
  "nbformat": 4,
  "nbformat_minor": 5,
  "metadata": {
    "kernelspec": {
      "name": "python3",
      "display_name": "Python 3 (ipykernel)",
      "language": "python",
      "path": "/opt/hostedtoolcache/Python/3.13.3/x64/share/jupyter/kernels/python3"
    },
    "language_info": {
      "name": "python",
      "codemirror_mode": {
        "name": "ipython",
        "version": "3"
      },
      "file_extension": ".py",
      "mimetype": "text/x-python",
      "nbconvert_exporter": "python",
      "pygments_lexer": "ipython3",
      "version": "3.13.3"
    }
  }
}