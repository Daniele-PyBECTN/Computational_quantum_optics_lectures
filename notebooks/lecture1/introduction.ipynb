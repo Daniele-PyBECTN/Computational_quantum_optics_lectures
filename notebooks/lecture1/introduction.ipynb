{
  "cells": [
    {
      "cell_type": "markdown",
      "metadata": {},
      "source": [
        "# Introduction to Python\n",
        "\n",
        "This notebook provides a brief introduction to Python, covering the\n",
        "basics of the language and its ecosystem.\n",
        "\n",
        "## Colab Setup\n",
        "\n",
        "Run this cell only if you are using Google Colab. It installs the\n",
        "required packages and sets up the environment."
      ],
      "id": "818727dd-9a23-4fcb-ab09-41066f358a30"
    },
    {
      "cell_type": "code",
      "execution_count": 1,
      "metadata": {},
      "outputs": [],
      "source": [
        "import sys\n",
        "if 'google.colab' in sys.modules:\n",
        "  !pip install -r https://raw.githubusercontent.com/Daniele-PyBECTN/Computational_quantum_optics_lectures/refs/heads/notebooks/requirements.txt"
      ],
      "id": "613cf86e"
    },
    {
      "cell_type": "markdown",
      "metadata": {},
      "source": [
        "## Python Lists"
      ],
      "id": "cfb3661a-cad2-4ed0-bb43-b371b0e46e83"
    },
    {
      "cell_type": "code",
      "execution_count": 2,
      "metadata": {},
      "outputs": [
        {
          "output_type": "stream",
          "name": "stdout",
          "text": [
            "First fruit: apple"
          ]
        }
      ],
      "source": [
        "fruits = ['apple', 'banana', 'cherry']\n",
        "print(f'First fruit: {fruits[0]}')"
      ],
      "id": "python-list"
    },
    {
      "cell_type": "markdown",
      "metadata": {},
      "source": [
        "## For loops"
      ],
      "id": "3da1a64a-8c44-4868-860b-865d66bda303"
    },
    {
      "cell_type": "code",
      "execution_count": 3,
      "metadata": {},
      "outputs": [
        {
          "output_type": "stream",
          "name": "stdout",
          "text": [
            "I like apple\n",
            "I like banana\n",
            "I like cherry"
          ]
        }
      ],
      "source": [
        "for fruit in fruits:\n",
        "    print(f'I like {fruit}')"
      ],
      "id": "python-for-loop"
    },
    {
      "cell_type": "markdown",
      "metadata": {},
      "source": [
        "## Functions"
      ],
      "id": "1dc1affd-720e-4412-be27-716892bfb4ef"
    },
    {
      "cell_type": "code",
      "execution_count": 4,
      "metadata": {},
      "outputs": [
        {
          "output_type": "stream",
          "name": "stdout",
          "text": [
            "25"
          ]
        }
      ],
      "source": [
        "def square(x):\n",
        "    return x * x\n",
        "\n",
        "print(square(5))"
      ],
      "id": "python-function"
    },
    {
      "cell_type": "markdown",
      "metadata": {},
      "source": [
        "## Lambda functions"
      ],
      "id": "f6c6f2a4-d676-4c11-bba8-a77826c2d4fe"
    },
    {
      "cell_type": "code",
      "execution_count": 5,
      "metadata": {},
      "outputs": [
        {
          "output_type": "stream",
          "name": "stdout",
          "text": [
            "25"
          ]
        }
      ],
      "source": [
        "square_lambda = lambda x: x * x\n",
        "print(square_lambda(5))"
      ],
      "id": "python-lambda"
    },
    {
      "cell_type": "markdown",
      "metadata": {},
      "source": [
        "## Complex numbers"
      ],
      "id": "18164832-9a31-4f7d-a1d9-66ee4ee40e71"
    },
    {
      "cell_type": "code",
      "execution_count": 6,
      "metadata": {},
      "outputs": [
        {
          "output_type": "stream",
          "name": "stdout",
          "text": [
            "Complex number: (1+2j)\n",
            "Real part: 1.0\n",
            "Magnitude: 2.23606797749979"
          ]
        }
      ],
      "source": [
        "z = 1 + 2j\n",
        "print(f'Complex number: {z}')\n",
        "print(f'Real part: {z.real}')\n",
        "print(f'Magnitude: {abs(z)}')"
      ],
      "id": "python-complex-number"
    },
    {
      "cell_type": "markdown",
      "metadata": {},
      "source": [
        "## Numpy arrays"
      ],
      "id": "88ea943a-500c-4ecb-82aa-d47bd02b5923"
    },
    {
      "cell_type": "code",
      "execution_count": 7,
      "metadata": {},
      "outputs": [
        {
          "output_type": "stream",
          "name": "stdout",
          "text": [
            "Sum using list: 499999.5, Time taken: 7.7567 milliseconds\n",
            "Sum using numpy: 499999.5, Time taken: 0.3989 milliseconds"
          ]
        }
      ],
      "source": [
        "import numpy as np\n",
        "import time # Only for benchmarking\n",
        "\n",
        "my_list = [i / 1_000_000 for i in range(1_000_000)]\n",
        "\n",
        "start = time.time() # start timer\n",
        "sum_list = sum(my_list)  # sum using Python list\n",
        "end = time.time()  # end timer\n",
        "print(f'Sum using list: {sum_list}, '\n",
        "      f'Time taken: {1e3*(end - start):.4f} milliseconds')\n",
        "\n",
        "my_list_numpy = np.array(my_list)\n",
        "start = time.time()  # start timer\n",
        "sum_numpy = np.sum(my_list_numpy)  # sum using numpy array\n",
        "end = time.time()  # end timer\n",
        "print(f'Sum using numpy: {sum_numpy}, '\n",
        "      f'Time taken: {1e3*(end - start):.4f} milliseconds')"
      ],
      "id": "python-sum-list-vs-numpy"
    },
    {
      "cell_type": "markdown",
      "metadata": {},
      "source": [
        "## Vectorized Numpy operations"
      ],
      "id": "2748d061-2e33-4db1-9a6d-203176b478dc"
    },
    {
      "cell_type": "code",
      "execution_count": 8,
      "metadata": {},
      "outputs": [
        {
          "output_type": "stream",
          "name": "stdout",
          "text": [
            "[0.         0.00010001 0.00020002 0.00030005 0.00040008]"
          ]
        }
      ],
      "source": [
        "# Vectorized array operations\n",
        "x = np.linspace(0, 100, 1_000_000)\n",
        "y = np.sin(x) + 0.5 * x**2\n",
        "print(y[:5])  # show first five results"
      ],
      "id": "python-numpy"
    }
  ],
  "nbformat": 4,
  "nbformat_minor": 5,
  "metadata": {
    "kernelspec": {
      "name": "python3",
      "display_name": "Python 3 (ipykernel)",
      "language": "python",
      "path": "/home/runner/.local/share/jupyter/kernels/python3"
    },
    "language_info": {
      "name": "python",
      "codemirror_mode": {
        "name": "ipython",
        "version": "3"
      },
      "file_extension": ".py",
      "mimetype": "text/x-python",
      "nbconvert_exporter": "python",
      "pygments_lexer": "ipython3",
      "version": "3.12.3"
    }
  }
}