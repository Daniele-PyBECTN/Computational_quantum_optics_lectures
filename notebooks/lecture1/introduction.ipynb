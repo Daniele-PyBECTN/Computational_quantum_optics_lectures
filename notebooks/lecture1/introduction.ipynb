{
  "cells": [
    {
      "cell_type": "markdown",
      "metadata": {},
      "source": [
        "# Python Lists\n",
        "\n",
        "# Introduction to Python\n",
        "\n",
        "This notebook provides a brief introduction to Python, covering the\n",
        "basics of the language and its ecosystem.\n",
        "\n",
        "## Colab Setup\n",
        "\n",
        "Run this cell only if you are using Google Colab. It installs the\n",
        "required packages and sets up the environment."
      ],
      "id": "2639bb9d-6492-4e34-a0b6-7fb2c3722774"
    },
    {
      "cell_type": "code",
      "execution_count": 1,
      "metadata": {},
      "outputs": [
        {
          "output_type": "stream",
          "name": "stdout",
          "text": [
            "Defaulting to user installation because normal site-packages is not writeable\n",
            "Requirement already satisfied: anyio==4.9.0 in /home/runner/.local/lib/python3.12/site-packages (from -r https://raw.githubusercontent.com/Daniele-PyBECTN/Computational_quantum_optics_lectures/refs/heads/notebooks/requirements.txt (line 1)) (4.9.0)\n",
            "Requirement already satisfied: appnope==0.1.4 in /home/runner/.local/lib/python3.12/site-packages (from -r https://raw.githubusercontent.com/Daniele-PyBECTN/Computational_quantum_optics_lectures/refs/heads/notebooks/requirements.txt (line 2)) (0.1.4)\n",
            "Requirement already satisfied: argon2-cffi==23.1.0 in /home/runner/.local/lib/python3.12/site-packages (from -r https://raw.githubusercontent.com/Daniele-PyBECTN/Computational_quantum_optics_lectures/refs/heads/notebooks/requirements.txt (line 3)) (23.1.0)\n",
            "Requirement already satisfied: argon2-cffi-bindings==21.2.0 in /home/runner/.local/lib/python3.12/site-packages (from -r https://raw.githubusercontent.com/Daniele-PyBECTN/Computational_quantum_optics_lectures/refs/heads/notebooks/requirements.txt (line 4)) (21.2.0)\n",
            "Requirement already satisfied: arrow==1.3.0 in /home/runner/.local/lib/python3.12/site-packages (from -r https://raw.githubusercontent.com/Daniele-PyBECTN/Computational_quantum_optics_lectures/refs/heads/notebooks/requirements.txt (line 5)) (1.3.0)\n",
            "Requirement already satisfied: asttokens==3.0.0 in /home/runner/.local/lib/python3.12/site-packages (from -r https://raw.githubusercontent.com/Daniele-PyBECTN/Computational_quantum_optics_lectures/refs/heads/notebooks/requirements.txt (line 6)) (3.0.0)\n",
            "Requirement already satisfied: async-lru==2.0.5 in /home/runner/.local/lib/python3.12/site-packages (from -r https://raw.githubusercontent.com/Daniele-PyBECTN/Computational_quantum_optics_lectures/refs/heads/notebooks/requirements.txt (line 7)) (2.0.5)\n",
            "Requirement already satisfied: attrs==25.3.0 in /home/runner/.local/lib/python3.12/site-packages (from -r https://raw.githubusercontent.com/Daniele-PyBECTN/Computational_quantum_optics_lectures/refs/heads/notebooks/requirements.txt (line 8)) (25.3.0)\n",
            "Requirement already satisfied: babel==2.17.0 in /home/runner/.local/lib/python3.12/site-packages (from -r https://raw.githubusercontent.com/Daniele-PyBECTN/Computational_quantum_optics_lectures/refs/heads/notebooks/requirements.txt (line 9)) (2.17.0)\n",
            "Requirement already satisfied: beautifulsoup4==4.13.4 in /home/runner/.local/lib/python3.12/site-packages (from -r https://raw.githubusercontent.com/Daniele-PyBECTN/Computational_quantum_optics_lectures/refs/heads/notebooks/requirements.txt (line 10)) (4.13.4)\n",
            "Requirement already satisfied: bleach==6.2.0 in /home/runner/.local/lib/python3.12/site-packages (from -r https://raw.githubusercontent.com/Daniele-PyBECTN/Computational_quantum_optics_lectures/refs/heads/notebooks/requirements.txt (line 11)) (6.2.0)\n",
            "Requirement already satisfied: certifi==2025.4.26 in /home/runner/.local/lib/python3.12/site-packages (from -r https://raw.githubusercontent.com/Daniele-PyBECTN/Computational_quantum_optics_lectures/refs/heads/notebooks/requirements.txt (line 12)) (2025.4.26)\n",
            "Requirement already satisfied: cffi==1.17.1 in /home/runner/.local/lib/python3.12/site-packages (from -r https://raw.githubusercontent.com/Daniele-PyBECTN/Computational_quantum_optics_lectures/refs/heads/notebooks/requirements.txt (line 13)) (1.17.1)\n",
            "Requirement already satisfied: charset-normalizer==3.4.2 in /home/runner/.local/lib/python3.12/site-packages (from -r https://raw.githubusercontent.com/Daniele-PyBECTN/Computational_quantum_optics_lectures/refs/heads/notebooks/requirements.txt (line 14)) (3.4.2)\n",
            "Requirement already satisfied: click==8.2.0 in /home/runner/.local/lib/python3.12/site-packages (from -r https://raw.githubusercontent.com/Daniele-PyBECTN/Computational_quantum_optics_lectures/refs/heads/notebooks/requirements.txt (line 15)) (8.2.0)\n",
            "Requirement already satisfied: comm==0.2.2 in /home/runner/.local/lib/python3.12/site-packages (from -r https://raw.githubusercontent.com/Daniele-PyBECTN/Computational_quantum_optics_lectures/refs/heads/notebooks/requirements.txt (line 16)) (0.2.2)\n",
            "Requirement already satisfied: contourpy==1.3.2 in /home/runner/.local/lib/python3.12/site-packages (from -r https://raw.githubusercontent.com/Daniele-PyBECTN/Computational_quantum_optics_lectures/refs/heads/notebooks/requirements.txt (line 17)) (1.3.2)\n",
            "Requirement already satisfied: cycler==0.12.1 in /home/runner/.local/lib/python3.12/site-packages (from -r https://raw.githubusercontent.com/Daniele-PyBECTN/Computational_quantum_optics_lectures/refs/heads/notebooks/requirements.txt (line 18)) (0.12.1)\n",
            "Requirement already satisfied: Cython==3.1.0 in /home/runner/.local/lib/python3.12/site-packages (from -r https://raw.githubusercontent.com/Daniele-PyBECTN/Computational_quantum_optics_lectures/refs/heads/notebooks/requirements.txt (line 19)) (3.1.0)\n",
            "Requirement already satisfied: debugpy==1.8.14 in /home/runner/.local/lib/python3.12/site-packages (from -r https://raw.githubusercontent.com/Daniele-PyBECTN/Computational_quantum_optics_lectures/refs/heads/notebooks/requirements.txt (line 20)) (1.8.14)\n",
            "Requirement already satisfied: decorator==5.2.1 in /home/runner/.local/lib/python3.12/site-packages (from -r https://raw.githubusercontent.com/Daniele-PyBECTN/Computational_quantum_optics_lectures/refs/heads/notebooks/requirements.txt (line 21)) (5.2.1)\n",
            "Requirement already satisfied: defusedxml==0.7.1 in /home/runner/.local/lib/python3.12/site-packages (from -r https://raw.githubusercontent.com/Daniele-PyBECTN/Computational_quantum_optics_lectures/refs/heads/notebooks/requirements.txt (line 22)) (0.7.1)\n",
            "Requirement already satisfied: exceptiongroup==1.3.0 in /home/runner/.local/lib/python3.12/site-packages (from -r https://raw.githubusercontent.com/Daniele-PyBECTN/Computational_quantum_optics_lectures/refs/heads/notebooks/requirements.txt (line 23)) (1.3.0)\n",
            "Requirement already satisfied: executing==2.2.0 in /home/runner/.local/lib/python3.12/site-packages (from -r https://raw.githubusercontent.com/Daniele-PyBECTN/Computational_quantum_optics_lectures/refs/heads/notebooks/requirements.txt (line 24)) (2.2.0)\n",
            "Requirement already satisfied: fastjsonschema==2.21.1 in /home/runner/.local/lib/python3.12/site-packages (from -r https://raw.githubusercontent.com/Daniele-PyBECTN/Computational_quantum_optics_lectures/refs/heads/notebooks/requirements.txt (line 25)) (2.21.1)\n",
            "Requirement already satisfied: fonttools==4.58.0 in /home/runner/.local/lib/python3.12/site-packages (from -r https://raw.githubusercontent.com/Daniele-PyBECTN/Computational_quantum_optics_lectures/refs/heads/notebooks/requirements.txt (line 26)) (4.58.0)\n",
            "Requirement already satisfied: fqdn==1.5.1 in /home/runner/.local/lib/python3.12/site-packages (from -r https://raw.githubusercontent.com/Daniele-PyBECTN/Computational_quantum_optics_lectures/refs/heads/notebooks/requirements.txt (line 27)) (1.5.1)\n",
            "Requirement already satisfied: h11==0.16.0 in /home/runner/.local/lib/python3.12/site-packages (from -r https://raw.githubusercontent.com/Daniele-PyBECTN/Computational_quantum_optics_lectures/refs/heads/notebooks/requirements.txt (line 28)) (0.16.0)\n",
            "Requirement already satisfied: httpcore==1.0.9 in /home/runner/.local/lib/python3.12/site-packages (from -r https://raw.githubusercontent.com/Daniele-PyBECTN/Computational_quantum_optics_lectures/refs/heads/notebooks/requirements.txt (line 29)) (1.0.9)\n",
            "Requirement already satisfied: httpx==0.28.1 in /home/runner/.local/lib/python3.12/site-packages (from -r https://raw.githubusercontent.com/Daniele-PyBECTN/Computational_quantum_optics_lectures/refs/heads/notebooks/requirements.txt (line 30)) (0.28.1)\n",
            "Requirement already satisfied: idna==3.10 in /home/runner/.local/lib/python3.12/site-packages (from -r https://raw.githubusercontent.com/Daniele-PyBECTN/Computational_quantum_optics_lectures/refs/heads/notebooks/requirements.txt (line 31)) (3.10)\n",
            "Requirement already satisfied: importlib_metadata==8.7.0 in /home/runner/.local/lib/python3.12/site-packages (from -r https://raw.githubusercontent.com/Daniele-PyBECTN/Computational_quantum_optics_lectures/refs/heads/notebooks/requirements.txt (line 32)) (8.7.0)\n",
            "Requirement already satisfied: ipykernel==6.29.5 in /home/runner/.local/lib/python3.12/site-packages (from -r https://raw.githubusercontent.com/Daniele-PyBECTN/Computational_quantum_optics_lectures/refs/heads/notebooks/requirements.txt (line 33)) (6.29.5)\n",
            "Requirement already satisfied: ipython==8.36.0 in /home/runner/.local/lib/python3.12/site-packages (from -r https://raw.githubusercontent.com/Daniele-PyBECTN/Computational_quantum_optics_lectures/refs/heads/notebooks/requirements.txt (line 34)) (8.36.0)\n",
            "Requirement already satisfied: ipywidgets==8.1.7 in /home/runner/.local/lib/python3.12/site-packages (from -r https://raw.githubusercontent.com/Daniele-PyBECTN/Computational_quantum_optics_lectures/refs/heads/notebooks/requirements.txt (line 35)) (8.1.7)\n",
            "Requirement already satisfied: isoduration==20.11.0 in /home/runner/.local/lib/python3.12/site-packages (from -r https://raw.githubusercontent.com/Daniele-PyBECTN/Computational_quantum_optics_lectures/refs/heads/notebooks/requirements.txt (line 36)) (20.11.0)\n",
            "Requirement already satisfied: jedi==0.19.2 in /home/runner/.local/lib/python3.12/site-packages (from -r https://raw.githubusercontent.com/Daniele-PyBECTN/Computational_quantum_optics_lectures/refs/heads/notebooks/requirements.txt (line 37)) (0.19.2)\n",
            "Requirement already satisfied: Jinja2==3.1.6 in /home/runner/.local/lib/python3.12/site-packages (from -r https://raw.githubusercontent.com/Daniele-PyBECTN/Computational_quantum_optics_lectures/refs/heads/notebooks/requirements.txt (line 38)) (3.1.6)\n",
            "Requirement already satisfied: json5==0.12.0 in /home/runner/.local/lib/python3.12/site-packages (from -r https://raw.githubusercontent.com/Daniele-PyBECTN/Computational_quantum_optics_lectures/refs/heads/notebooks/requirements.txt (line 39)) (0.12.0)\n",
            "Requirement already satisfied: jsonpointer==3.0.0 in /home/runner/.local/lib/python3.12/site-packages (from -r https://raw.githubusercontent.com/Daniele-PyBECTN/Computational_quantum_optics_lectures/refs/heads/notebooks/requirements.txt (line 40)) (3.0.0)\n",
            "Requirement already satisfied: jsonschema==4.23.0 in /home/runner/.local/lib/python3.12/site-packages (from -r https://raw.githubusercontent.com/Daniele-PyBECTN/Computational_quantum_optics_lectures/refs/heads/notebooks/requirements.txt (line 41)) (4.23.0)\n",
            "Requirement already satisfied: jsonschema-specifications==2025.4.1 in /home/runner/.local/lib/python3.12/site-packages (from -r https://raw.githubusercontent.com/Daniele-PyBECTN/Computational_quantum_optics_lectures/refs/heads/notebooks/requirements.txt (line 42)) (2025.4.1)\n",
            "Requirement already satisfied: jupyter==1.1.1 in /home/runner/.local/lib/python3.12/site-packages (from -r https://raw.githubusercontent.com/Daniele-PyBECTN/Computational_quantum_optics_lectures/refs/heads/notebooks/requirements.txt (line 43)) (1.1.1)\n",
            "Requirement already satisfied: jupyter-cache==1.0.1 in /home/runner/.local/lib/python3.12/site-packages (from -r https://raw.githubusercontent.com/Daniele-PyBECTN/Computational_quantum_optics_lectures/refs/heads/notebooks/requirements.txt (line 44)) (1.0.1)\n",
            "Requirement already satisfied: jupyter-console==6.6.3 in /home/runner/.local/lib/python3.12/site-packages (from -r https://raw.githubusercontent.com/Daniele-PyBECTN/Computational_quantum_optics_lectures/refs/heads/notebooks/requirements.txt (line 45)) (6.6.3)\n",
            "Requirement already satisfied: jupyter-events==0.12.0 in /home/runner/.local/lib/python3.12/site-packages (from -r https://raw.githubusercontent.com/Daniele-PyBECTN/Computational_quantum_optics_lectures/refs/heads/notebooks/requirements.txt (line 46)) (0.12.0)\n",
            "Requirement already satisfied: jupyter-lsp==2.2.5 in /home/runner/.local/lib/python3.12/site-packages (from -r https://raw.githubusercontent.com/Daniele-PyBECTN/Computational_quantum_optics_lectures/refs/heads/notebooks/requirements.txt (line 47)) (2.2.5)\n",
            "Requirement already satisfied: jupyter_client==8.6.3 in /home/runner/.local/lib/python3.12/site-packages (from -r https://raw.githubusercontent.com/Daniele-PyBECTN/Computational_quantum_optics_lectures/refs/heads/notebooks/requirements.txt (line 48)) (8.6.3)\n",
            "Requirement already satisfied: jupyter_core==5.7.2 in /home/runner/.local/lib/python3.12/site-packages (from -r https://raw.githubusercontent.com/Daniele-PyBECTN/Computational_quantum_optics_lectures/refs/heads/notebooks/requirements.txt (line 49)) (5.7.2)\n",
            "Requirement already satisfied: jupyter_server==2.16.0 in /home/runner/.local/lib/python3.12/site-packages (from -r https://raw.githubusercontent.com/Daniele-PyBECTN/Computational_quantum_optics_lectures/refs/heads/notebooks/requirements.txt (line 50)) (2.16.0)\n",
            "Requirement already satisfied: jupyter_server_terminals==0.5.3 in /home/runner/.local/lib/python3.12/site-packages (from -r https://raw.githubusercontent.com/Daniele-PyBECTN/Computational_quantum_optics_lectures/refs/heads/notebooks/requirements.txt (line 51)) (0.5.3)\n",
            "Requirement already satisfied: jupyterlab==4.4.2 in /home/runner/.local/lib/python3.12/site-packages (from -r https://raw.githubusercontent.com/Daniele-PyBECTN/Computational_quantum_optics_lectures/refs/heads/notebooks/requirements.txt (line 52)) (4.4.2)\n",
            "Requirement already satisfied: jupyterlab_pygments==0.3.0 in /home/runner/.local/lib/python3.12/site-packages (from -r https://raw.githubusercontent.com/Daniele-PyBECTN/Computational_quantum_optics_lectures/refs/heads/notebooks/requirements.txt (line 53)) (0.3.0)\n",
            "Requirement already satisfied: jupyterlab_server==2.27.3 in /home/runner/.local/lib/python3.12/site-packages (from -r https://raw.githubusercontent.com/Daniele-PyBECTN/Computational_quantum_optics_lectures/refs/heads/notebooks/requirements.txt (line 54)) (2.27.3)\n",
            "Requirement already satisfied: jupyterlab_widgets==3.0.15 in /home/runner/.local/lib/python3.12/site-packages (from -r https://raw.githubusercontent.com/Daniele-PyBECTN/Computational_quantum_optics_lectures/refs/heads/notebooks/requirements.txt (line 55)) (3.0.15)\n",
            "Requirement already satisfied: kiwisolver==1.4.8 in /home/runner/.local/lib/python3.12/site-packages (from -r https://raw.githubusercontent.com/Daniele-PyBECTN/Computational_quantum_optics_lectures/refs/heads/notebooks/requirements.txt (line 56)) (1.4.8)\n",
            "Requirement already satisfied: MarkupSafe==3.0.2 in /home/runner/.local/lib/python3.12/site-packages (from -r https://raw.githubusercontent.com/Daniele-PyBECTN/Computational_quantum_optics_lectures/refs/heads/notebooks/requirements.txt (line 57)) (3.0.2)\n",
            "Requirement already satisfied: matplotlib==3.10.3 in /home/runner/.local/lib/python3.12/site-packages (from -r https://raw.githubusercontent.com/Daniele-PyBECTN/Computational_quantum_optics_lectures/refs/heads/notebooks/requirements.txt (line 58)) (3.10.3)\n",
            "Requirement already satisfied: matplotlib-inline==0.1.7 in /home/runner/.local/lib/python3.12/site-packages (from -r https://raw.githubusercontent.com/Daniele-PyBECTN/Computational_quantum_optics_lectures/refs/heads/notebooks/requirements.txt (line 59)) (0.1.7)\n",
            "Requirement already satisfied: mistune==3.1.3 in /home/runner/.local/lib/python3.12/site-packages (from -r https://raw.githubusercontent.com/Daniele-PyBECTN/Computational_quantum_optics_lectures/refs/heads/notebooks/requirements.txt (line 60)) (3.1.3)\n",
            "Requirement already satisfied: nbclient==0.10.2 in /home/runner/.local/lib/python3.12/site-packages (from -r https://raw.githubusercontent.com/Daniele-PyBECTN/Computational_quantum_optics_lectures/refs/heads/notebooks/requirements.txt (line 61)) (0.10.2)\n",
            "Requirement already satisfied: nbconvert==7.16.6 in /home/runner/.local/lib/python3.12/site-packages (from -r https://raw.githubusercontent.com/Daniele-PyBECTN/Computational_quantum_optics_lectures/refs/heads/notebooks/requirements.txt (line 62)) (7.16.6)\n",
            "Requirement already satisfied: nbformat==5.10.4 in /home/runner/.local/lib/python3.12/site-packages (from -r https://raw.githubusercontent.com/Daniele-PyBECTN/Computational_quantum_optics_lectures/refs/heads/notebooks/requirements.txt (line 63)) (5.10.4)\n",
            "Requirement already satisfied: nest-asyncio==1.6.0 in /home/runner/.local/lib/python3.12/site-packages (from -r https://raw.githubusercontent.com/Daniele-PyBECTN/Computational_quantum_optics_lectures/refs/heads/notebooks/requirements.txt (line 64)) (1.6.0)\n",
            "Requirement already satisfied: notebook==7.4.2 in /home/runner/.local/lib/python3.12/site-packages (from -r https://raw.githubusercontent.com/Daniele-PyBECTN/Computational_quantum_optics_lectures/refs/heads/notebooks/requirements.txt (line 65)) (7.4.2)\n",
            "Requirement already satisfied: notebook_shim==0.2.4 in /home/runner/.local/lib/python3.12/site-packages (from -r https://raw.githubusercontent.com/Daniele-PyBECTN/Computational_quantum_optics_lectures/refs/heads/notebooks/requirements.txt (line 66)) (0.2.4)\n",
            "Requirement already satisfied: numpy==2.2.5 in /home/runner/.local/lib/python3.12/site-packages (from -r https://raw.githubusercontent.com/Daniele-PyBECTN/Computational_quantum_optics_lectures/refs/heads/notebooks/requirements.txt (line 67)) (2.2.5)\n",
            "Requirement already satisfied: overrides==7.7.0 in /home/runner/.local/lib/python3.12/site-packages (from -r https://raw.githubusercontent.com/Daniele-PyBECTN/Computational_quantum_optics_lectures/refs/heads/notebooks/requirements.txt (line 68)) (7.7.0)\n",
            "Requirement already satisfied: packaging==25.0 in /home/runner/.local/lib/python3.12/site-packages (from -r https://raw.githubusercontent.com/Daniele-PyBECTN/Computational_quantum_optics_lectures/refs/heads/notebooks/requirements.txt (line 69)) (25.0)\n",
            "Requirement already satisfied: pandocfilters==1.5.1 in /home/runner/.local/lib/python3.12/site-packages (from -r https://raw.githubusercontent.com/Daniele-PyBECTN/Computational_quantum_optics_lectures/refs/heads/notebooks/requirements.txt (line 70)) (1.5.1)\n",
            "Requirement already satisfied: parso==0.8.4 in /home/runner/.local/lib/python3.12/site-packages (from -r https://raw.githubusercontent.com/Daniele-PyBECTN/Computational_quantum_optics_lectures/refs/heads/notebooks/requirements.txt (line 71)) (0.8.4)\n",
            "Requirement already satisfied: pexpect==4.9.0 in /usr/lib/python3/dist-packages (from -r https://raw.githubusercontent.com/Daniele-PyBECTN/Computational_quantum_optics_lectures/refs/heads/notebooks/requirements.txt (line 72)) (4.9.0)\n",
            "Requirement already satisfied: pillow==11.2.1 in /home/runner/.local/lib/python3.12/site-packages (from -r https://raw.githubusercontent.com/Daniele-PyBECTN/Computational_quantum_optics_lectures/refs/heads/notebooks/requirements.txt (line 73)) (11.2.1)\n",
            "Requirement already satisfied: platformdirs==4.3.8 in /usr/local/lib/python3.12/dist-packages (from -r https://raw.githubusercontent.com/Daniele-PyBECTN/Computational_quantum_optics_lectures/refs/heads/notebooks/requirements.txt (line 74)) (4.3.8)\n",
            "Requirement already satisfied: prometheus_client==0.22.0 in /home/runner/.local/lib/python3.12/site-packages (from -r https://raw.githubusercontent.com/Daniele-PyBECTN/Computational_quantum_optics_lectures/refs/heads/notebooks/requirements.txt (line 75)) (0.22.0)\n",
            "Requirement already satisfied: prompt_toolkit==3.0.51 in /home/runner/.local/lib/python3.12/site-packages (from -r https://raw.githubusercontent.com/Daniele-PyBECTN/Computational_quantum_optics_lectures/refs/heads/notebooks/requirements.txt (line 76)) (3.0.51)\n",
            "Requirement already satisfied: psutil==7.0.0 in /home/runner/.local/lib/python3.12/site-packages (from -r https://raw.githubusercontent.com/Daniele-PyBECTN/Computational_quantum_optics_lectures/refs/heads/notebooks/requirements.txt (line 77)) (7.0.0)\n",
            "Requirement already satisfied: ptyprocess==0.7.0 in /usr/lib/python3/dist-packages (from -r https://raw.githubusercontent.com/Daniele-PyBECTN/Computational_quantum_optics_lectures/refs/heads/notebooks/requirements.txt (line 78)) (0.7.0)\n",
            "Requirement already satisfied: pure_eval==0.2.3 in /home/runner/.local/lib/python3.12/site-packages (from -r https://raw.githubusercontent.com/Daniele-PyBECTN/Computational_quantum_optics_lectures/refs/heads/notebooks/requirements.txt (line 79)) (0.2.3)\n",
            "Requirement already satisfied: pycparser==2.22 in /home/runner/.local/lib/python3.12/site-packages (from -r https://raw.githubusercontent.com/Daniele-PyBECTN/Computational_quantum_optics_lectures/refs/heads/notebooks/requirements.txt (line 80)) (2.22)\n",
            "Requirement already satisfied: Pygments==2.19.1 in /home/runner/.local/lib/python3.12/site-packages (from -r https://raw.githubusercontent.com/Daniele-PyBECTN/Computational_quantum_optics_lectures/refs/heads/notebooks/requirements.txt (line 81)) (2.19.1)\n",
            "Requirement already satisfied: pyparsing==3.2.3 in /home/runner/.local/lib/python3.12/site-packages (from -r https://raw.githubusercontent.com/Daniele-PyBECTN/Computational_quantum_optics_lectures/refs/heads/notebooks/requirements.txt (line 82)) (3.2.3)\n",
            "Requirement already satisfied: python-dateutil==2.9.0.post0 in /home/runner/.local/lib/python3.12/site-packages (from -r https://raw.githubusercontent.com/Daniele-PyBECTN/Computational_quantum_optics_lectures/refs/heads/notebooks/requirements.txt (line 83)) (2.9.0.post0)\n",
            "Requirement already satisfied: python-json-logger==3.3.0 in /home/runner/.local/lib/python3.12/site-packages (from -r https://raw.githubusercontent.com/Daniele-PyBECTN/Computational_quantum_optics_lectures/refs/heads/notebooks/requirements.txt (line 84)) (3.3.0)\n",
            "Requirement already satisfied: PyYAML==6.0.2 in /home/runner/.local/lib/python3.12/site-packages (from -r https://raw.githubusercontent.com/Daniele-PyBECTN/Computational_quantum_optics_lectures/refs/heads/notebooks/requirements.txt (line 85)) (6.0.2)\n",
            "Requirement already satisfied: pyzmq==26.4.0 in /home/runner/.local/lib/python3.12/site-packages (from -r https://raw.githubusercontent.com/Daniele-PyBECTN/Computational_quantum_optics_lectures/refs/heads/notebooks/requirements.txt (line 86)) (26.4.0)\n",
            "Requirement already satisfied: qutip==5.1.1 in /home/runner/.local/lib/python3.12/site-packages (from -r https://raw.githubusercontent.com/Daniele-PyBECTN/Computational_quantum_optics_lectures/refs/heads/notebooks/requirements.txt (line 87)) (5.1.1)\n",
            "Requirement already satisfied: referencing==0.36.2 in /home/runner/.local/lib/python3.12/site-packages (from -r https://raw.githubusercontent.com/Daniele-PyBECTN/Computational_quantum_optics_lectures/refs/heads/notebooks/requirements.txt (line 88)) (0.36.2)\n",
            "Requirement already satisfied: requests==2.32.3 in /home/runner/.local/lib/python3.12/site-packages (from -r https://raw.githubusercontent.com/Daniele-PyBECTN/Computational_quantum_optics_lectures/refs/heads/notebooks/requirements.txt (line 89)) (2.32.3)\n",
            "Requirement already satisfied: rfc3339-validator==0.1.4 in /home/runner/.local/lib/python3.12/site-packages (from -r https://raw.githubusercontent.com/Daniele-PyBECTN/Computational_quantum_optics_lectures/refs/heads/notebooks/requirements.txt (line 90)) (0.1.4)\n",
            "Requirement already satisfied: rfc3986-validator==0.1.1 in /home/runner/.local/lib/python3.12/site-packages (from -r https://raw.githubusercontent.com/Daniele-PyBECTN/Computational_quantum_optics_lectures/refs/heads/notebooks/requirements.txt (line 91)) (0.1.1)\n",
            "Requirement already satisfied: rpds-py==0.25.0 in /home/runner/.local/lib/python3.12/site-packages (from -r https://raw.githubusercontent.com/Daniele-PyBECTN/Computational_quantum_optics_lectures/refs/heads/notebooks/requirements.txt (line 92)) (0.25.0)\n",
            "Requirement already satisfied: scipy==1.15.3 in /home/runner/.local/lib/python3.12/site-packages (from -r https://raw.githubusercontent.com/Daniele-PyBECTN/Computational_quantum_optics_lectures/refs/heads/notebooks/requirements.txt (line 93)) (1.15.3)\n",
            "Requirement already satisfied: Send2Trash==1.8.3 in /home/runner/.local/lib/python3.12/site-packages (from -r https://raw.githubusercontent.com/Daniele-PyBECTN/Computational_quantum_optics_lectures/refs/heads/notebooks/requirements.txt (line 94)) (1.8.3)\n",
            "Requirement already satisfied: six==1.17.0 in /home/runner/.local/lib/python3.12/site-packages (from -r https://raw.githubusercontent.com/Daniele-PyBECTN/Computational_quantum_optics_lectures/refs/heads/notebooks/requirements.txt (line 95)) (1.17.0)\n",
            "Requirement already satisfied: sniffio==1.3.1 in /home/runner/.local/lib/python3.12/site-packages (from -r https://raw.githubusercontent.com/Daniele-PyBECTN/Computational_quantum_optics_lectures/refs/heads/notebooks/requirements.txt (line 96)) (1.3.1)\n",
            "Requirement already satisfied: soupsieve==2.7 in /home/runner/.local/lib/python3.12/site-packages (from -r https://raw.githubusercontent.com/Daniele-PyBECTN/Computational_quantum_optics_lectures/refs/heads/notebooks/requirements.txt (line 97)) (2.7)\n",
            "Requirement already satisfied: SQLAlchemy==2.0.41 in /home/runner/.local/lib/python3.12/site-packages (from -r https://raw.githubusercontent.com/Daniele-PyBECTN/Computational_quantum_optics_lectures/refs/heads/notebooks/requirements.txt (line 98)) (2.0.41)\n",
            "Requirement already satisfied: stack-data==0.6.3 in /home/runner/.local/lib/python3.12/site-packages (from -r https://raw.githubusercontent.com/Daniele-PyBECTN/Computational_quantum_optics_lectures/refs/heads/notebooks/requirements.txt (line 99)) (0.6.3)\n",
            "Requirement already satisfied: tabulate==0.9.0 in /home/runner/.local/lib/python3.12/site-packages (from -r https://raw.githubusercontent.com/Daniele-PyBECTN/Computational_quantum_optics_lectures/refs/heads/notebooks/requirements.txt (line 100)) (0.9.0)\n",
            "Requirement already satisfied: terminado==0.18.1 in /home/runner/.local/lib/python3.12/site-packages (from -r https://raw.githubusercontent.com/Daniele-PyBECTN/Computational_quantum_optics_lectures/refs/heads/notebooks/requirements.txt (line 101)) (0.18.1)\n",
            "Requirement already satisfied: tinycss2==1.4.0 in /home/runner/.local/lib/python3.12/site-packages (from -r https://raw.githubusercontent.com/Daniele-PyBECTN/Computational_quantum_optics_lectures/refs/heads/notebooks/requirements.txt (line 102)) (1.4.0)\n",
            "Requirement already satisfied: tomli==2.2.1 in /home/runner/.local/lib/python3.12/site-packages (from -r https://raw.githubusercontent.com/Daniele-PyBECTN/Computational_quantum_optics_lectures/refs/heads/notebooks/requirements.txt (line 103)) (2.2.1)\n",
            "Requirement already satisfied: tornado==6.5 in /home/runner/.local/lib/python3.12/site-packages (from -r https://raw.githubusercontent.com/Daniele-PyBECTN/Computational_quantum_optics_lectures/refs/heads/notebooks/requirements.txt (line 104)) (6.5)\n",
            "Requirement already satisfied: traitlets==5.14.3 in /home/runner/.local/lib/python3.12/site-packages (from -r https://raw.githubusercontent.com/Daniele-PyBECTN/Computational_quantum_optics_lectures/refs/heads/notebooks/requirements.txt (line 105)) (5.14.3)\n",
            "Requirement already satisfied: types-python-dateutil==2.9.0.20250516 in /home/runner/.local/lib/python3.12/site-packages (from -r https://raw.githubusercontent.com/Daniele-PyBECTN/Computational_quantum_optics_lectures/refs/heads/notebooks/requirements.txt (line 106)) (2.9.0.20250516)\n",
            "Requirement already satisfied: typing_extensions==4.13.2 in /home/runner/.local/lib/python3.12/site-packages (from -r https://raw.githubusercontent.com/Daniele-PyBECTN/Computational_quantum_optics_lectures/refs/heads/notebooks/requirements.txt (line 107)) (4.13.2)\n",
            "Requirement already satisfied: uri-template==1.3.0 in /home/runner/.local/lib/python3.12/site-packages (from -r https://raw.githubusercontent.com/Daniele-PyBECTN/Computational_quantum_optics_lectures/refs/heads/notebooks/requirements.txt (line 108)) (1.3.0)\n",
            "Requirement already satisfied: urllib3==2.4.0 in /home/runner/.local/lib/python3.12/site-packages (from -r https://raw.githubusercontent.com/Daniele-PyBECTN/Computational_quantum_optics_lectures/refs/heads/notebooks/requirements.txt (line 109)) (2.4.0)\n",
            "Requirement already satisfied: wcwidth==0.2.13 in /home/runner/.local/lib/python3.12/site-packages (from -r https://raw.githubusercontent.com/Daniele-PyBECTN/Computational_quantum_optics_lectures/refs/heads/notebooks/requirements.txt (line 110)) (0.2.13)\n",
            "Requirement already satisfied: webcolors==24.11.1 in /home/runner/.local/lib/python3.12/site-packages (from -r https://raw.githubusercontent.com/Daniele-PyBECTN/Computational_quantum_optics_lectures/refs/heads/notebooks/requirements.txt (line 111)) (24.11.1)\n",
            "Requirement already satisfied: webencodings==0.5.1 in /home/runner/.local/lib/python3.12/site-packages (from -r https://raw.githubusercontent.com/Daniele-PyBECTN/Computational_quantum_optics_lectures/refs/heads/notebooks/requirements.txt (line 112)) (0.5.1)\n",
            "Requirement already satisfied: websocket-client==1.8.0 in /home/runner/.local/lib/python3.12/site-packages (from -r https://raw.githubusercontent.com/Daniele-PyBECTN/Computational_quantum_optics_lectures/refs/heads/notebooks/requirements.txt (line 113)) (1.8.0)\n",
            "Requirement already satisfied: widgetsnbextension==4.0.14 in /home/runner/.local/lib/python3.12/site-packages (from -r https://raw.githubusercontent.com/Daniele-PyBECTN/Computational_quantum_optics_lectures/refs/heads/notebooks/requirements.txt (line 114)) (4.0.14)\n",
            "Requirement already satisfied: zipp==3.21.0 in /home/runner/.local/lib/python3.12/site-packages (from -r https://raw.githubusercontent.com/Daniele-PyBECTN/Computational_quantum_optics_lectures/refs/heads/notebooks/requirements.txt (line 115)) (3.21.0)\n",
            "Requirement already satisfied: setuptools>=41.1.0 in /usr/lib/python3/dist-packages (from jupyterlab==4.4.2->-r https://raw.githubusercontent.com/Daniele-PyBECTN/Computational_quantum_optics_lectures/refs/heads/notebooks/requirements.txt (line 52)) (68.1.2)\n",
            "Requirement already satisfied: greenlet>=1 in /home/runner/.local/lib/python3.12/site-packages (from SQLAlchemy==2.0.41->-r https://raw.githubusercontent.com/Daniele-PyBECTN/Computational_quantum_optics_lectures/refs/heads/notebooks/requirements.txt (line 98)) (3.2.2)"
          ]
        }
      ],
      "source": [
        "!pip install -r https://raw.githubusercontent.com/Daniele-PyBECTN/Computational_quantum_optics_lectures/refs/heads/notebooks/requirements.txt"
      ],
      "id": "colab-setup"
    },
    {
      "cell_type": "code",
      "execution_count": 2,
      "metadata": {},
      "outputs": [
        {
          "output_type": "stream",
          "name": "stdout",
          "text": [
            "First fruit: apple"
          ]
        }
      ],
      "source": [
        "fruits = ['apple', 'banana', 'cherry']\n",
        "print(f'First fruit: {fruits[0]}')"
      ],
      "id": "python-list"
    },
    {
      "cell_type": "code",
      "execution_count": 3,
      "metadata": {},
      "outputs": [
        {
          "output_type": "stream",
          "name": "stdout",
          "text": [
            "I like apple\n",
            "I like banana\n",
            "I like cherry"
          ]
        }
      ],
      "source": [
        "for fruit in fruits:\n",
        "    print(f'I like {fruit}')"
      ],
      "id": "python-for-loop"
    },
    {
      "cell_type": "code",
      "execution_count": 4,
      "metadata": {},
      "outputs": [
        {
          "output_type": "stream",
          "name": "stdout",
          "text": [
            "25"
          ]
        }
      ],
      "source": [
        "def square(x):\n",
        "    return x * x\n",
        "\n",
        "print(square(5))"
      ],
      "id": "python-function"
    },
    {
      "cell_type": "code",
      "execution_count": 5,
      "metadata": {},
      "outputs": [
        {
          "output_type": "stream",
          "name": "stdout",
          "text": [
            "25"
          ]
        }
      ],
      "source": [
        "square_lambda = lambda x: x * x\n",
        "print(square_lambda(5))"
      ],
      "id": "python-lambda"
    },
    {
      "cell_type": "code",
      "execution_count": 6,
      "metadata": {},
      "outputs": [
        {
          "output_type": "stream",
          "name": "stdout",
          "text": [
            "[0.         0.00010001 0.00020002 0.00030005 0.00040008]"
          ]
        }
      ],
      "source": [
        "import numpy as np\n",
        "\n",
        "# Vectorized array operations\n",
        "x = np.linspace(0, 100, 1_000_000)\n",
        "y = np.sin(x) + 0.5 * x**2\n",
        "print(y[:5])  # show first five results"
      ],
      "id": "python-numpy"
    }
  ],
  "nbformat": 4,
  "nbformat_minor": 5,
  "metadata": {
    "kernelspec": {
      "name": "python3",
      "display_name": "Python 3 (ipykernel)",
      "language": "python",
      "path": "/home/runner/.local/share/jupyter/kernels/python3"
    },
    "language_info": {
      "name": "python",
      "codemirror_mode": {
        "name": "ipython",
        "version": "3"
      },
      "file_extension": ".py",
      "mimetype": "text/x-python",
      "nbconvert_exporter": "python",
      "pygments_lexer": "ipython3",
      "version": "3.12.3"
    }
  }
}