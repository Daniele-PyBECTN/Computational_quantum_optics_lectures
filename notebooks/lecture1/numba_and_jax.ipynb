{
  "cells": [
    {
      "cell_type": "markdown",
      "metadata": {},
      "source": [
        "# Speeding up Python for Linear Algebra Tasks\n",
        "\n",
        "## Numba: Just-In-Time Compilation\n",
        "\n",
        "Numba uses LLVM to compile Python functions to machine code at runtime.\n",
        "Key points:\n",
        "\n",
        "-   **Decorators**: Use `@njit` (nopython mode) for best speed.  \n",
        "-   **Type inference**: Numba infers types on first run, then compiles\n",
        "    specialized code.  \n",
        "-   **Compilation overhead**: The first call incurs compilation time;\n",
        "    subsequent calls are fast.  \n",
        "-   **Object mode vs nopython mode**: Always aim for nopython mode to\n",
        "    avoid Python object overhead.\n",
        "\n",
        "**Example: Matrix–Vector Multiplication**"
      ],
      "id": "f0484311-9104-4e48-a08a-d3eeedce703a"
    },
    {
      "cell_type": "code",
      "execution_count": 1,
      "metadata": {},
      "outputs": [
        {
          "output_type": "stream",
          "name": "stdout",
          "text": [
            "NumPy time (ms):  0.316619873046875\n",
            "Numba time (ms):  0.3342628479003906"
          ]
        }
      ],
      "source": [
        "from numba import njit\n",
        "import numpy as np\n",
        "import time # for timing\n",
        "\n",
        "@njit\n",
        "def matvec(A, x):\n",
        "    m, n = A.shape\n",
        "    y = np.zeros(m)\n",
        "    for i in range(m):\n",
        "        temp = 0.0\n",
        "        for j in range(n):\n",
        "            temp += A[i, j] * x[j]\n",
        "        y[i] = temp\n",
        "    return y\n",
        "\n",
        "# Prepare data\n",
        "dim = 500\n",
        "A = np.random.rand(dim, dim)\n",
        "x = np.random.rand(dim)\n",
        "\n",
        "# Using NumPy's dot product\n",
        "start = time.time()\n",
        "y0 = A @ x\n",
        "end = time.time()\n",
        "print(\"NumPy time (ms): \", 1e3*(end - start))\n",
        "\n",
        "# Using Numba's compiled function\n",
        "y0 = matvec(A, x) # First call for compilation\n",
        "\n",
        "start = time.time()\n",
        "y1 = matvec(A, x)\n",
        "end = time.time()\n",
        "print(\"Numba time (ms): \", 1e3*(end - start))"
      ],
      "id": "numba"
    },
    {
      "cell_type": "markdown",
      "metadata": {},
      "source": [
        "## JAX: XLA Compilation and Automatic Differentiation\n",
        "\n",
        "JAX is a high-performance library from Google Research that extends\n",
        "NumPy with just-in-time compilation and automatic differentiation. It -\n",
        "Compiles array operations via XLA, fusing kernels and reducing Python\n",
        "overhead. - Supports GPU and TPU backends with minimal code changes. -\n",
        "Provides `grad` for gradients of scalar functions, enabling optimisation\n",
        "and machine-learning tasks. - Offers advanced transformations like\n",
        "`vmap` (vectorisation) and `pmap` (parallelism on multiple devices).\n",
        "\n",
        "JAX is widely used in deep learning frameworks (e.g. Flax, Haiku),\n",
        "reinforcement learning, and scientific research (including physics\n",
        "simulations), thanks to its blend of speed and flexibility.\n",
        "\n",
        "### Comparing Accuracy: AD vs Finite Differences\n",
        "\n",
        "Below is a Quarto code cell that plots the error of finite differences\n",
        "(varying step size $h$) and automatic differentiation against the true\n",
        "derivative of $f(x) = e^{\\sin(x)}$ at $x=1.0$."
      ],
      "id": "4ba479ef-cbb7-45d0-8403-4d804b520b2a"
    },
    {
      "cell_type": "code",
      "execution_count": 2,
      "metadata": {},
      "outputs": [
        {
          "output_type": "stream",
          "name": "stdout",
          "text": [
            "AD error: 0.0\n",
            "FD minimum error: 7.006839553014288e-12"
          ]
        },
        {
          "output_type": "display_data",
          "metadata": {},
          "data": {
            "image/png": "[encoded data removed]"
          }
        }
      ],
      "source": [
        "import jax\n",
        "import jax.numpy as jnp\n",
        "import matplotlib.pyplot as plt # for plotting\n",
        "\n",
        "# Set JAX to use 64-bit floats\n",
        "jax.config.update(\"jax_enable_x64\", True)\n",
        "\n",
        "# Define function and true derivative\n",
        "def f_np(x):\n",
        "    return np.exp(np.sin(x))\n",
        "\n",
        "def df_true(x):\n",
        "    return np.cos(x) * np.exp(np.sin(x))\n",
        "\n",
        "# Point of evaluation\n",
        "x0 = 1.0\n",
        "\n",
        "# Finite-difference errors for varying h\n",
        "hs = np.logspace(-8, -1, 50)\n",
        "errors_fd = []\n",
        "for h in hs:\n",
        "    df_fd = (f_np(x0 + h) - f_np(x0 - h)) / (2 * h)\n",
        "    errors_fd.append(abs(df_fd - df_true(x0)))\n",
        "\n",
        "# Automatic differentiation error (constant)\n",
        "df_ad = jax.grad(lambda x: jnp.exp(jnp.sin(x)))(x0)\n",
        "error_ad = abs(np.array(df_ad) - df_true(x0))\n",
        "\n",
        "print(f\"AD error: {error_ad}\")\n",
        "print(f\"FD minimum error: {min(errors_fd)}\")\n",
        "\n",
        "# Plot\n",
        "fig, ax = plt.subplots()\n",
        "ax.loglog(hs, errors_fd, marker=\"o\")\n",
        "ax.set_xlabel(\"Step size $h$\")\n",
        "ax.set_ylabel(\"Error of Finite Differences\")\n",
        "plt.show()"
      ],
      "id": "cell-jax"
    }
  ],
  "nbformat": 4,
  "nbformat_minor": 5,
  "metadata": {
    "kernelspec": {
      "name": "python3",
      "display_name": "Python 3 (ipykernel)",
      "language": "python",
      "path": "/opt/hostedtoolcache/Python/3.13.3/x64/share/jupyter/kernels/python3"
    },
    "language_info": {
      "name": "python",
      "codemirror_mode": {
        "name": "ipython",
        "version": "3"
      },
      "file_extension": ".py",
      "mimetype": "text/x-python",
      "nbconvert_exporter": "python",
      "pygments_lexer": "ipython3",
      "version": "3.13.3"
    }
  }
}