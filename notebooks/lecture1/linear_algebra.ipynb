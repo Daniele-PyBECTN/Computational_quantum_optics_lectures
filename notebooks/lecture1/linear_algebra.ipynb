{
  "cells": [
    {
      "cell_type": "markdown",
      "metadata": {},
      "source": [
        "# Linear Algebra with NumPy and SciPy\n",
        "\n",
        "## Numpy\n",
        "\n",
        "NumPy offers efficient dense-array operations that underpin many\n",
        "quantum-simulation tasks.\n",
        "\n",
        "### Matrix–Matrix and Matrix–Vector Multiplication\n",
        "\n",
        "Understanding an operator’s action on itself and on quantum states is\n",
        "key: matrix–matrix products show operator composition, while\n",
        "matrix–vector products illustrate state evolution."
      ],
      "id": "123d3d10-c7d8-4718-b536-017fc94996f1"
    },
    {
      "cell_type": "code",
      "execution_count": 1,
      "metadata": {},
      "outputs": [
        {
          "output_type": "display_data",
          "metadata": {},
          "data": {
            "text/plain": [
              "'A @ A ='"
            ]
          }
        },
        {
          "output_type": "display_data",
          "metadata": {},
          "data": {
            "text/plain": [
              "array([[ 7, 10],\n",
              "       [15, 22]])"
            ]
          }
        },
        {
          "output_type": "display_data",
          "metadata": {},
          "data": {
            "text/plain": [
              "'A @ v ='"
            ]
          }
        },
        {
          "output_type": "display_data",
          "metadata": {},
          "data": {
            "text/plain": [
              "array([17, 39])"
            ]
          }
        }
      ],
      "source": [
        "import numpy as np\n",
        "\n",
        "# Define a 2×2 matrix and a 2-vector\n",
        "A = np.array([[1, 2], [3, 4]])\n",
        "v = np.array([5, 6])\n",
        "\n",
        "# Matrix–matrix product\n",
        "c = A @ A  # same as A.dot(A)\n",
        "display(\"A @ A =\", c)\n",
        "\n",
        "# Matrix–vector product\n",
        "w = A @ v  # same as A.dot(v)\n",
        "display(\"A @ v =\", w)"
      ],
      "id": "numpy-matrix-matrix-vector"
    },
    {
      "cell_type": "markdown",
      "metadata": {},
      "source": [
        "### Eigenvalues and Eigenvectors of a dense matrix\n",
        "\n",
        "Eigen-decomposition reveals the energy spectrum and stationary states of\n",
        "a quantum system, making it fundamental for analysis."
      ],
      "id": "9a7da07c-f582-464b-b694-7635af6cfc19"
    },
    {
      "cell_type": "code",
      "execution_count": 2,
      "metadata": {},
      "outputs": [
        {
          "output_type": "display_data",
          "metadata": {},
          "data": {
            "text/plain": [
              "'Eigenvalues:'"
            ]
          }
        },
        {
          "output_type": "display_data",
          "metadata": {},
          "data": {
            "text/plain": [
              "array([-0.37228132,  5.37228132])"
            ]
          }
        },
        {
          "output_type": "display_data",
          "metadata": {},
          "data": {
            "text/plain": [
              "'Eigenvectors (as columns):\\n'"
            ]
          }
        },
        {
          "output_type": "display_data",
          "metadata": {},
          "data": {
            "text/plain": [
              "array([[-0.82456484, -0.41597356],\n",
              "       [ 0.56576746, -0.90937671]])"
            ]
          }
        }
      ],
      "source": [
        "w, v = np.linalg.eig(A)\n",
        "display(\"Eigenvalues:\", w)\n",
        "display(\"Eigenvectors (as columns):\\n\", v)"
      ],
      "id": "numpy-eigenvalues"
    },
    {
      "cell_type": "markdown",
      "metadata": {},
      "source": [
        "### Kronecker Product\n",
        "\n",
        "The Kronecker product builds operators on composite systems by combining\n",
        "subsystem operators into a larger Hilbert space."
      ],
      "id": "ab114c67-e538-4415-b2ad-eb350bd3373d"
    },
    {
      "cell_type": "code",
      "execution_count": 3,
      "metadata": {},
      "outputs": [
        {
          "output_type": "display_data",
          "metadata": {},
          "data": {
            "text/plain": [
              "'A ⊗ B ='"
            ]
          }
        },
        {
          "output_type": "display_data",
          "metadata": {},
          "data": {
            "text/plain": [
              "array([[0, 1, 0, 2],\n",
              "       [1, 0, 2, 0],\n",
              "       [0, 3, 0, 4],\n",
              "       [3, 0, 4, 0]])"
            ]
          }
        }
      ],
      "source": [
        "B = np.array([[0, 1], [1, 0]])  # Pauli-X matrix\n",
        "kron = np.kron(A, B)\n",
        "display(\"A ⊗ B =\", kron)"
      ],
      "id": "numpy-kron"
    },
    {
      "cell_type": "markdown",
      "metadata": {},
      "source": [
        "## SciPy\n",
        "\n",
        "SciPy extends NumPy with advanced routines and sparse data structures,\n",
        "enabling efficient handling of larger, structured problems.\n",
        "\n",
        "### Some Useful Functions\n",
        "\n",
        "Determinant, inverse, and norm computations provide quick diagnostics on\n",
        "operator properties."
      ],
      "id": "c4695e93-8315-4f71-81ec-c68f847cb1b8"
    },
    {
      "cell_type": "code",
      "execution_count": 4,
      "metadata": {},
      "outputs": [
        {
          "output_type": "display_data",
          "metadata": {},
          "data": {
            "text/plain": [
              "np.float64(-2.0)"
            ]
          }
        },
        {
          "output_type": "display_data",
          "metadata": {},
          "data": {
            "text/plain": [
              "array([[-2. ,  1. ],\n",
              "       [ 1.5, -0.5]])"
            ]
          }
        },
        {
          "output_type": "display_data",
          "metadata": {},
          "data": {
            "text/plain": [
              "np.float64(5.477225575051661)"
            ]
          }
        }
      ],
      "source": [
        "import scipy.linalg as la\n",
        "\n",
        "det = la.det(A)\n",
        "inv = la.inv(A)\n",
        "norm_f = la.norm(A)\n",
        "display(det, inv, norm_f)"
      ],
      "id": "scipy-functions"
    },
    {
      "cell_type": "markdown",
      "metadata": {},
      "source": [
        "### Solving Linear Systems\n",
        "\n",
        "Solving linear systems (Ax = b) appears in contexts from steady states\n",
        "to implicit integration schemes."
      ],
      "id": "97090fc7-c158-42e2-91fc-85f1635daf6b"
    },
    {
      "cell_type": "code",
      "execution_count": 5,
      "metadata": {},
      "outputs": [
        {
          "output_type": "display_data",
          "metadata": {},
          "data": {
            "text/plain": [
              "'Solution x='"
            ]
          }
        },
        {
          "output_type": "display_data",
          "metadata": {},
          "data": {
            "text/plain": [
              "array([1., 2.])"
            ]
          }
        }
      ],
      "source": [
        "A = np.array([[1, 2], [3, 4]])\n",
        "b = np.array([5, 11])\n",
        "x = np.linalg.solve(A, b)\n",
        "display(\"Solution x=\", x)"
      ],
      "id": "scipy-linear-systems"
    },
    {
      "cell_type": "markdown",
      "metadata": {},
      "source": [
        "### Sparse Matrices\n",
        "\n",
        "Sparse formats store only nonzeros, saving memory and accelerating\n",
        "matrix–vector operations for large systems. Here we use the **COO**\n",
        "(coordinate) format, which is simple and efficient for constructing\n",
        "sparse matrices."
      ],
      "id": "63d658d3-563c-4386-9b50-c263318a3208"
    },
    {
      "cell_type": "code",
      "execution_count": 6,
      "metadata": {},
      "outputs": [
        {
          "output_type": "display_data",
          "metadata": {},
          "data": {
            "text/plain": [
              "<COOrdinate sparse matrix of dtype 'int64'\n",
              "    with 5 stored elements and shape (5, 5)>"
            ]
          }
        }
      ],
      "source": [
        "from scipy import sparse\n",
        "\n",
        "# Create a sparse COO matrix\n",
        "i = [0, 0, 1, 2, 4] # row indices\n",
        "j = [0, 4, 2, 1, 0] # column indices\n",
        "data = [7, 1, 2, 3, 4] # nonzero values\n",
        "coo = sparse.coo_matrix((data, (i, j)), shape=(5, 5))\n",
        "coo"
      ],
      "id": "cell-scipy-sparse-coo"
    },
    {
      "cell_type": "markdown",
      "metadata": {},
      "source": [
        "We can convert the COO matrix to other formats, such as **CSR**\n",
        "(Compressed Sparse Row), which is more efficient for matrix–vector\n",
        "products."
      ],
      "id": "414b8980-289d-4183-8fe4-62f8d19fafb9"
    },
    {
      "cell_type": "code",
      "execution_count": 7,
      "metadata": {},
      "outputs": [
        {
          "output_type": "display_data",
          "metadata": {},
          "data": {
            "text/plain": [
              "<Compressed Sparse Row sparse matrix of dtype 'int64'\n",
              "    with 5 stored elements and shape (5, 5)>"
            ]
          }
        }
      ],
      "source": [
        "# Convert COO to CSR format\n",
        "csr = coo.tocsr()\n",
        "csr"
      ],
      "id": "cell-scipy-sparse-coo-tocsr"
    },
    {
      "cell_type": "markdown",
      "metadata": {},
      "source": [
        "Matrix–vector products are efficient with sparse matrices, as they only\n",
        "compute the nonzero contributions."
      ],
      "id": "9e98b38e-2c6f-41cf-9dd2-5e4d512d2ed6"
    },
    {
      "cell_type": "code",
      "execution_count": 8,
      "metadata": {},
      "outputs": [
        {
          "output_type": "display_data",
          "metadata": {},
          "data": {
            "text/plain": [
              "array([12,  6,  6,  0,  4])"
            ]
          }
        }
      ],
      "source": [
        "# Matrix–vector product\n",
        "v = np.array([1, 2, 3, 4, 5])\n",
        "w = coo @ v  # same as coo.dot(v)\n",
        "w"
      ],
      "id": "cell-scipy-sparse-matrix-vector"
    },
    {
      "cell_type": "markdown",
      "metadata": {},
      "source": [
        "### Eigenvalues of Sparse Matrices\n",
        "\n",
        "Krylov-subspace methods extract a few extremal eigenvalues from large\n",
        "sparse operators, essential when full diagonalization is infeasible."
      ],
      "id": "6dd6a212-a705-4c6b-9bf1-b53b42ed7ec4"
    },
    {
      "cell_type": "code",
      "execution_count": 9,
      "metadata": {},
      "outputs": [
        {
          "output_type": "display_data",
          "metadata": {},
          "data": {
            "text/plain": [
              "'Sparse eigenvalues:'"
            ]
          }
        },
        {
          "output_type": "display_data",
          "metadata": {},
          "data": {
            "text/plain": [
              "array([7.53112887+0.j, 2.44948974+0.j])"
            ]
          }
        }
      ],
      "source": [
        "from scipy.sparse.linalg import eigs\n",
        "\n",
        "# Compute the 2 largest-magnitude eigenvalues of coo\n",
        "vals, vecs = eigs(coo, k=2)\n",
        "display(\"Sparse eigenvalues:\", vals)"
      ],
      "id": "scipy-sparse-eigenvalues"
    }
  ],
  "nbformat": 4,
  "nbformat_minor": 5,
  "metadata": {
    "kernelspec": {
      "name": "python3",
      "display_name": "Python 3 (ipykernel)",
      "language": "python",
      "path": "/opt/hostedtoolcache/Python/3.13.3/x64/share/jupyter/kernels/python3"
    },
    "language_info": {
      "name": "python",
      "codemirror_mode": {
        "name": "ipython",
        "version": "3"
      },
      "file_extension": ".py",
      "mimetype": "text/x-python",
      "nbconvert_exporter": "python",
      "pygments_lexer": "ipython3",
      "version": "3.13.3"
    }
  }
}