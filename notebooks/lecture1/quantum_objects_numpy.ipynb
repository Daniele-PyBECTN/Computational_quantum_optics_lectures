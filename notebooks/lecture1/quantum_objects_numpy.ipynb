{
  "cells": [
    {
      "cell_type": "markdown",
      "metadata": {},
      "source": [
        "# Representing Quantum States and Operators with NumPy\n",
        "\n",
        "## Quantum States and Operators in truncated Hilbert Spaces\n",
        "\n",
        "### Examples\n",
        "\n",
        "#### Pauli Operators"
      ],
      "id": "d816959c-c614-461e-a081-900ded942056"
    },
    {
      "cell_type": "code",
      "execution_count": 1,
      "metadata": {},
      "outputs": [],
      "source": [
        "import numpy as np\n",
        "\n",
        "sx = np.array([[0, 1], [1, 0]])\n",
        "sy = np.array([[0, 1j], [-1j, 0]])\n",
        "sz = np.array([[1, 0], [0, -1]])"
      ],
      "id": "pauli-operators"
    },
    {
      "cell_type": "markdown",
      "metadata": {},
      "source": [
        "#### Harmonic Oscillator"
      ],
      "id": "e03197b7-67e1-47af-9c1e-51d2f27c09a2"
    },
    {
      "cell_type": "code",
      "execution_count": 2,
      "metadata": {},
      "outputs": [
        {
          "output_type": "display_data",
          "metadata": {},
          "data": {
            "text/plain": [
              "array([[0.        , 0.        , 0.        , 0.        , 0.        ,\n",
              "        0.        , 0.        ],\n",
              "       [0.        , 0.        , 1.        , 0.        , 0.        ,\n",
              "        0.        , 0.        ],\n",
              "       [0.        , 0.        , 0.        , 1.41421356, 0.        ,\n",
              "        0.        , 0.        ],\n",
              "       [0.        , 0.        , 0.        , 0.        , 1.73205081,\n",
              "        0.        , 0.        ],\n",
              "       [0.        , 0.        , 0.        , 0.        , 0.        ,\n",
              "        2.        , 0.        ],\n",
              "       [0.        , 0.        , 0.        , 0.        , 0.        ,\n",
              "        0.        , 2.23606798],\n",
              "       [0.        , 0.        , 0.        , 0.        , 0.        ,\n",
              "        0.        , 0.        ]])"
            ]
          }
        }
      ],
      "source": [
        "def destroy(d):\n",
        "    # creates a vector of the d-1 off-diagonal elements\n",
        "    v=np.sqrt( np.arange(d-1) )\n",
        "    # matrix with the elements of vec placed in the upper diagonal\n",
        "    a=np.diag(v,k=1)\n",
        "    return a\n",
        "\n",
        "# Define the fock states\n",
        "def fock(d, i):\n",
        "    res = np.zeros(d)\n",
        "    res[i] = 1\n",
        "    return res\n",
        "\n",
        "d = 7\n",
        "zero_state = fock(d, 0)\n",
        "one_state = fock(d, 1)\n",
        "two_state = fock(d, 2)\n",
        "three_state = fock(d, 3)\n",
        "\n",
        "destroy_operator = destroy(d)\n",
        "destroy_operator"
      ],
      "id": "cell-destroy-and-fock"
    },
    {
      "cell_type": "markdown",
      "metadata": {},
      "source": [
        "## Action of the Destroy Operator on a Fock State"
      ],
      "id": "9c559478-9c81-4389-b9c0-e019ffc3468e"
    },
    {
      "cell_type": "code",
      "execution_count": 3,
      "metadata": {},
      "outputs": [
        {
          "output_type": "stream",
          "name": "stdout",
          "text": [
            "Resulting State:"
          ]
        },
        {
          "output_type": "display_data",
          "metadata": {},
          "data": {
            "text/plain": [
              "array([0.        , 0.        , 1.41421356, 0.        , 0.        ,\n",
              "       0.        , 0.        ])"
            ]
          }
        }
      ],
      "source": [
        "# Apply the destroy operator on the one state\n",
        "result_state = np.dot(destroy_operator, three_state)\n",
        "\n",
        "print(\"Resulting State:\")\n",
        "result_state"
      ],
      "id": "cell-destroy-apply"
    },
    {
      "cell_type": "markdown",
      "metadata": {},
      "source": [
        "------------------------------------------------------------------------\n",
        "\n",
        "> **Exercise!**\n",
        ">\n",
        "> Write a function `expect(O, psi)` that calculates the expectation\n",
        "> value of an operator $\\hat{O}$ with a given state $\\psi$. Then\n",
        "> calculate $\\langle 2 \\vert \\hat{a} \\vert 2 \\rangle$ and\n",
        "> $\\langle 2 \\vert \\hat{a}^\\dagger \\hat{a} \\vert 2 \\rangle$."
      ],
      "id": "fbdd7d6f-1d1e-4a33-9b88-cf4676d0bdd6"
    },
    {
      "cell_type": "code",
      "execution_count": 4,
      "metadata": {},
      "outputs": [],
      "source": [
        "# Write your code here...\n"
      ],
      "id": "99b8e67e"
    },
    {
      "cell_type": "code",
      "execution_count": 5,
      "metadata": {},
      "outputs": [
        {
          "output_type": "stream",
          "name": "stdout",
          "text": [
            "Expectation Value 1: 0.0\n",
            "Expectation Value 2: 1.0"
          ]
        }
      ],
      "source": [
        "def expect(O, psi):\n",
        "    return np.dot(np.conj(psi), np.dot(O, psi))\n",
        "\n",
        "print(\"Expectation Value 1:\", expect(destroy_operator, fock(d, 2)))\n",
        "print(\"Expectation Value 2:\", expect(destroy_operator.T.conj().dot(destroy_operator), fock(d, 2)))"
      ],
      "id": "8c766230"
    },
    {
      "cell_type": "markdown",
      "metadata": {},
      "source": [
        "------------------------------------------------------------------------\n",
        "\n",
        "## Partial Trace"
      ],
      "id": "06544fec-3e90-4829-addc-1e80f9454003"
    },
    {
      "cell_type": "code",
      "execution_count": 6,
      "metadata": {},
      "outputs": [
        {
          "output_type": "display_data",
          "metadata": {},
          "data": {
            "text/plain": [
              "array([[0.5, 0. ],\n",
              "       [0. , 0.5]])"
            ]
          }
        }
      ],
      "source": [
        "def ptrace(psi, subspace_to_keep, dim_subspace):\n",
        "    dim1, dim2 = dim_subspace\n",
        "\n",
        "    rho = np.outer(psi, psi.conj())\n",
        "\n",
        "    # Reshape rho to separate the subsystems' degrees of freedom\n",
        "    rho_reshaped = rho.reshape(dim1, dim2, dim1, dim2)\n",
        "\n",
        "    if subspace_to_keep == 1:\n",
        "        # Perform the trace over the second subsystem\n",
        "        traced_out = np.trace(rho_reshaped, axis1=1, axis2=3)\n",
        "    elif subspace_to_keep == 2:\n",
        "        # Perform the trace over the first subsystem\n",
        "        traced_out = np.trace(rho_reshaped, axis1=0, axis2=2)\n",
        "    else:\n",
        "        raise ValueError(\"subspace_to_keep must be either 1 or 2.\")\n",
        "\n",
        "    return traced_out\n",
        "\n",
        "# Bell state between two qubits\n",
        "phi_plus = ( np.kron(fock(2, 1), fock(2, 1)) + np.kron(fock(2, 0), fock(2, 0)) ) / np.sqrt(2)\n",
        "\n",
        "# Reduced density matrix of the first qubit\n",
        "rho_1 = ptrace(phi_plus, 1, (2, 2))\n",
        "rho_1"
      ],
      "id": "cell-ptrace"
    }
  ],
  "nbformat": 4,
  "nbformat_minor": 5,
  "metadata": {
    "kernelspec": {
      "name": "python3",
      "display_name": "Python 3 (ipykernel)",
      "language": "python",
      "path": "/opt/hostedtoolcache/Python/3.13.3/x64/share/jupyter/kernels/python3"
    },
    "language_info": {
      "name": "python",
      "codemirror_mode": {
        "name": "ipython",
        "version": "3"
      },
      "file_extension": ".py",
      "mimetype": "text/x-python",
      "nbconvert_exporter": "python",
      "pygments_lexer": "ipython3",
      "version": "3.13.3"
    }
  }
}