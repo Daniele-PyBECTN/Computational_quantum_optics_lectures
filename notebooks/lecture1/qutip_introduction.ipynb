{
  "cells": [
    {
      "cell_type": "markdown",
      "metadata": {},
      "source": [
        "# Introduction to QuTiP\n",
        "\n",
        "The QuTiP package can be imported with"
      ],
      "id": "c2aaa21c-3088-4dcf-8613-e5de5a19befb"
    },
    {
      "cell_type": "code",
      "execution_count": 1,
      "metadata": {},
      "outputs": [],
      "source": [
        "import qutip"
      ],
      "id": "qutip-import"
    },
    {
      "cell_type": "markdown",
      "metadata": {},
      "source": [
        "It can also be imported with the command `from qutip import *`, that\n",
        "automatically imports all the QuTiP functions. However, here we use the\n",
        "first method, in order to explicitly see the QuTiP functions."
      ],
      "id": "e6482a3c-46c4-43e1-8bd0-d15edbd43d00"
    },
    {
      "cell_type": "code",
      "execution_count": 2,
      "metadata": {},
      "outputs": [
        {
          "output_type": "stream",
          "name": "stdout",
          "text": [
            "\n",
            "QuTiP: Quantum Toolbox in Python\n",
            "================================\n",
            "Copyright (c) QuTiP team 2011 and later.\n",
            "Current admin team: Alexander Pitchford, Nathan Shammah, Shahnawaz Ahmed, Neill Lambert, Eric Giguère, Boxi Li, Simon Cross, Asier Galicia, Paul Menczel, and Patrick Hopf.\n",
            "Board members: Daniel Burgarth, Robert Johansson, Anton F. Kockum, Franco Nori and Will Zeng.\n",
            "Original developers: R. J. Johansson & P. D. Nation.\n",
            "Previous lead developers: Chris Granade & A. Grimsmo.\n",
            "Currently developed through wide collaboration. See https://github.com/qutip for details.\n",
            "\n",
            "QuTiP Version:      5.1.1\n",
            "Numpy Version:      2.2.6\n",
            "Scipy Version:      1.15.3\n",
            "Cython Version:     3.1.1\n",
            "Matplotlib Version: 3.10.3\n",
            "Python Version:     3.13.3\n",
            "Number of CPUs:     4\n",
            "BLAS Info:          Generic\n",
            "INTEL MKL Ext:      None\n",
            "Platform Info:      Linux (x86_64)\n",
            "Installation path:  /opt/hostedtoolcache/Python/3.13.3/x64/lib/python3.13/site-packages/qutip\n",
            "\n",
            "Installed QuTiP family packages\n",
            "-------------------------------\n",
            "\n",
            "No QuTiP family packages installed.\n",
            "\n",
            "================================================================================\n",
            "Please cite QuTiP in your publication.\n",
            "================================================================================\n",
            "For your convenience a bibtex reference can be easily generated using `qutip.cite()`"
          ]
        }
      ],
      "source": [
        "qutip.about()"
      ],
      "id": "qutip-about"
    },
    {
      "cell_type": "markdown",
      "metadata": {},
      "source": [
        "## Quantum Operators\n",
        "\n",
        "### Creating Operators\n",
        "\n",
        "Operators in quantum mechanics can represent measurements, such as\n",
        "position or momentum, and transformations, such as rotation. Let’s see\n",
        "how we can define some common operators in QuTiP.\n",
        "\n",
        "#### The Annihilation Operator of the Quantum Harmonic oscillator\n",
        "\n",
        "The matrix representation of the annihilation operator in an\n",
        "$d$-dimensional Hilbert space is given by an upper triangular matrix\n",
        "with the square roots of natural numbers as its off-diagonal elements."
      ],
      "id": "f4159cac-d940-4046-8bca-2c536892bce1"
    },
    {
      "cell_type": "code",
      "execution_count": 3,
      "metadata": {},
      "outputs": [
        {
          "output_type": "stream",
          "name": "stdout",
          "text": [
            "Annihilation operator (a) for d=7:"
          ]
        },
        {
          "output_type": "display_data",
          "metadata": {},
          "data": {
            "text/plain": [
              "Quantum object: dims=[[10], [10]], shape=(10, 10), type='oper', dtype=Dia, isherm=False\n",
              "Qobj data =\n",
              "[[0.         1.         0.         0.         0.         0.\n",
              "  0.         0.         0.         0.        ]\n",
              " [0.         0.         1.41421356 0.         0.         0.\n",
              "  0.         0.         0.         0.        ]\n",
              " [0.         0.         0.         1.73205081 0.         0.\n",
              "  0.         0.         0.         0.        ]\n",
              " [0.         0.         0.         0.         2.         0.\n",
              "  0.         0.         0.         0.        ]\n",
              " [0.         0.         0.         0.         0.         2.23606798\n",
              "  0.         0.         0.         0.        ]\n",
              " [0.         0.         0.         0.         0.         0.\n",
              "  2.44948974 0.         0.         0.        ]\n",
              " [0.         0.         0.         0.         0.         0.\n",
              "  0.         2.64575131 0.         0.        ]\n",
              " [0.         0.         0.         0.         0.         0.\n",
              "  0.         0.         2.82842712 0.        ]\n",
              " [0.         0.         0.         0.         0.         0.\n",
              "  0.         0.         0.         3.        ]\n",
              " [0.         0.         0.         0.         0.         0.\n",
              "  0.         0.         0.         0.        ]]"
            ]
          }
        }
      ],
      "source": [
        "# Define the annihilation operator for d-dimensional Hilbert space\n",
        "d = 10\n",
        "\n",
        "a = qutip.destroy(d)\n",
        "\n",
        "print(\"Annihilation operator (a) for d=7:\")\n",
        "a"
      ],
      "id": "cell-annihilation-operator"
    },
    {
      "cell_type": "markdown",
      "metadata": {},
      "source": [
        "#### Pauli Matrices\n",
        "\n",
        "We can define the Pauli matrices in QuTiP as follows:"
      ],
      "id": "da0f04b9-9226-4534-a597-ba2154fed831"
    },
    {
      "cell_type": "code",
      "execution_count": 4,
      "metadata": {},
      "outputs": [
        {
          "output_type": "stream",
          "name": "stdout",
          "text": [
            "Sigma X:"
          ]
        },
        {
          "output_type": "display_data",
          "metadata": {},
          "data": {
            "text/plain": [
              "Quantum object: dims=[[2], [2]], shape=(2, 2), type='oper', dtype=CSR, isherm=True\n",
              "Qobj data =\n",
              "[[0. 1.]\n",
              " [1. 0.]]"
            ]
          }
        },
        {
          "output_type": "stream",
          "name": "stdout",
          "text": [
            "\n",
            "\n",
            "Sigma Y:"
          ]
        },
        {
          "output_type": "display_data",
          "metadata": {},
          "data": {
            "text/plain": [
              "Quantum object: dims=[[2], [2]], shape=(2, 2), type='oper', dtype=CSR, isherm=True\n",
              "Qobj data =\n",
              "[[0.+0.j 0.-1.j]\n",
              " [0.+1.j 0.+0.j]]"
            ]
          }
        },
        {
          "output_type": "stream",
          "name": "stdout",
          "text": [
            "\n",
            "\n",
            "Sigma Z:"
          ]
        },
        {
          "output_type": "display_data",
          "metadata": {},
          "data": {
            "text/plain": [
              "Quantum object: dims=[[2], [2]], shape=(2, 2), type='oper', dtype=CSR, isherm=True\n",
              "Qobj data =\n",
              "[[ 1.  0.]\n",
              " [ 0. -1.]]"
            ]
          }
        }
      ],
      "source": [
        "sigma_x = qutip.sigmax()\n",
        "sigma_y = qutip.sigmay()\n",
        "sigma_z = qutip.sigmaz()\n",
        "\n",
        "print(\"Sigma X:\")\n",
        "display(sigma_x)\n",
        "print(\"\\n\")\n",
        "print(\"Sigma Y:\")\n",
        "display(sigma_y)\n",
        "print(\"\\n\")\n",
        "print(\"Sigma Z:\")\n",
        "sigma_z"
      ],
      "id": "pauli-matrices"
    },
    {
      "cell_type": "markdown",
      "metadata": {},
      "source": [
        "### Operator Functions and Operations\n",
        "\n",
        "QuTiP supports various operations on operators, including addition,\n",
        "multiplication (both scalar and matrix), and the commutator.\n",
        "\n",
        "#### Example: Commutator of Pauli Matrices\n",
        "\n",
        "Let’s calculate the commutator of $\\sigma_x$ and $\\sigma_y$."
      ],
      "id": "13f2a46e-1c18-4581-b25e-7ee6adc63699"
    },
    {
      "cell_type": "code",
      "execution_count": 5,
      "metadata": {},
      "outputs": [
        {
          "output_type": "stream",
          "name": "stdout",
          "text": [
            "Commutator of Sigma X and Sigma Y:"
          ]
        },
        {
          "output_type": "display_data",
          "metadata": {},
          "data": {
            "text/plain": [
              "Quantum object: dims=[[2], [2]], shape=(2, 2), type='oper', dtype=CSR, isherm=False\n",
              "Qobj data =\n",
              "[[0.+2.j 0.+0.j]\n",
              " [0.+0.j 0.-2.j]]"
            ]
          }
        },
        {
          "output_type": "display_data",
          "metadata": {},
          "data": {
            "text/plain": [
              "True"
            ]
          }
        }
      ],
      "source": [
        "commutator_xy = qutip.commutator(sigma_x, sigma_y)\n",
        "print(\"Commutator of Sigma X and Sigma Y:\")\n",
        "display(commutator_xy)\n",
        "commutator_xy == 2j * sigma_z"
      ],
      "id": "commutator-example"
    },
    {
      "cell_type": "markdown",
      "metadata": {},
      "source": [
        "## Quantum States\n",
        "\n",
        "This section focuses on the representation and manipulation of quantum\n",
        "states.\n",
        "\n",
        "### Fock States\n",
        "\n",
        "The most basic quantum states are the fock states, often denoted as\n",
        "$|n\\rangle$ (with $n \\in \\mathbb{N}$). Let’s see how we can create these\n",
        "in QuTiP.\n",
        "\n",
        "> **Exercise!**\n",
        ">\n",
        "> Taking as an example **?@sec-quantum-objects-numpy**, create two fock\n",
        "> states $\\vert 0 \\rangle$ and $\\vert 1 \\rangle$ with Hilbert space\n",
        "> dimension $d$, using the QuTiP routines instead of a handmade\n",
        "> functions. Call them `fock_0` and `fock_1`, respectively."
      ],
      "id": "84ebc4df-a59d-4537-a188-5eed5e6949eb"
    },
    {
      "cell_type": "code",
      "execution_count": 6,
      "metadata": {},
      "outputs": [],
      "source": [
        "# Write your code here...\n"
      ],
      "id": "b92d4b1b"
    },
    {
      "cell_type": "code",
      "execution_count": 7,
      "metadata": {},
      "outputs": [
        {
          "output_type": "stream",
          "name": "stdout",
          "text": [
            "|0> state:"
          ]
        },
        {
          "output_type": "display_data",
          "metadata": {},
          "data": {
            "text/plain": [
              "Quantum object: dims=[[10], [1]], shape=(10, 1), type='ket', dtype=Dense\n",
              "Qobj data =\n",
              "[[1.]\n",
              " [0.]\n",
              " [0.]\n",
              " [0.]\n",
              " [0.]\n",
              " [0.]\n",
              " [0.]\n",
              " [0.]\n",
              " [0.]\n",
              " [0.]]"
            ]
          }
        },
        {
          "output_type": "stream",
          "name": "stdout",
          "text": [
            "\n",
            "\n",
            "|1> state:"
          ]
        },
        {
          "output_type": "display_data",
          "metadata": {},
          "data": {
            "text/plain": [
              "Quantum object: dims=[[10], [1]], shape=(10, 1), type='ket', dtype=Dense\n",
              "Qobj data =\n",
              "[[0.]\n",
              " [1.]\n",
              " [0.]\n",
              " [0.]\n",
              " [0.]\n",
              " [0.]\n",
              " [0.]\n",
              " [0.]\n",
              " [0.]\n",
              " [0.]]"
            ]
          }
        }
      ],
      "source": [
        "fock_0 = qutip.fock(d, 0)  # |0>\n",
        "fock_1 = qutip.fock(d, 1)  # |1>\n",
        "\n",
        "print(\"|0> state:\")\n",
        "display(fock_0)\n",
        "print(\"\\n\")\n",
        "print(\"|1> state:\")\n",
        "display(fock_1)"
      ],
      "id": "59b33536"
    },
    {
      "cell_type": "markdown",
      "metadata": {},
      "source": [
        "### Superposition States\n",
        "\n",
        "Quantum mechanics allows particles to be in a superposition of states.\n",
        "Let’s create a superposition state.\n",
        "\n",
        "$$\n",
        "\\vert \\psi \\rangle = \\frac{1}{\\sqrt{2}} \\left( \\vert 0 \\rangle + \\vert 1 \\rangle \\right)\n",
        "$$"
      ],
      "id": "46855478-924b-478b-84a1-e37ce6939422"
    },
    {
      "cell_type": "code",
      "execution_count": 8,
      "metadata": {},
      "outputs": [
        {
          "output_type": "stream",
          "name": "stdout",
          "text": [
            "Superposition state:"
          ]
        },
        {
          "output_type": "display_data",
          "metadata": {},
          "data": {
            "text/plain": [
              "Quantum object: dims=[[10], [1]], shape=(10, 1), type='ket', dtype=Dense\n",
              "Qobj data =\n",
              "[[0.70710678]\n",
              " [0.70710678]\n",
              " [0.        ]\n",
              " [0.        ]\n",
              " [0.        ]\n",
              " [0.        ]\n",
              " [0.        ]\n",
              " [0.        ]\n",
              " [0.        ]\n",
              " [0.        ]]"
            ]
          }
        }
      ],
      "source": [
        "fock_0 = qutip.fock(d, 0)  # Fock state |0>\n",
        "fock_1 = qutip.fock(d, 1)  # Fock state |1>\n",
        "\n",
        "# Creating a superposition state\n",
        "superposition_state = (fock_0 + fock_1).unit()  # Normalize the state\n",
        "\n",
        "print(\"Superposition state:\")\n",
        "superposition_state"
      ],
      "id": "cell-superposition-state"
    },
    {
      "cell_type": "markdown",
      "metadata": {},
      "source": [
        "### Coherent States\n",
        "\n",
        "Coherent states in QuTiP represent quantum states closest to classical\n",
        "waves, defined as $$\n",
        "|\\alpha\\rangle = e^{-|\\alpha|^2/2} \\sum_{n=0}^{\\infty} \\frac{\\alpha^n}{\\sqrt{n!}} |n\\rangle \\, ,\n",
        "$$\n",
        "\n",
        "with minimal uncertainty.\n",
        "\n",
        "The coherent state is an eigenstate of the annihilation operator $$\n",
        "\\hat{a} \\vert \\alpha \\rangle = \\alpha \\vert \\alpha \\rangle\n",
        "$$\n",
        "\n",
        "> **Warning!**\n",
        ">\n",
        "> Remember that every `Qobj` lives in a truncated Hilbert space. If the\n",
        "> $\\alpha$ value is too large, the state will become a non-physical\n",
        "> state because it will touch the high energy levels of the truncated\n",
        "> Hilbert space."
      ],
      "id": "5e1e5fae-af8c-49b9-8ae2-174e1bd31517"
    },
    {
      "cell_type": "code",
      "execution_count": 9,
      "metadata": {},
      "outputs": [
        {
          "output_type": "display_data",
          "metadata": {},
          "data": {
            "text/plain": [
              "Quantum object: dims=[[10], [1]], shape=(10, 1), type='ket', dtype=Dense\n",
              "Qobj data =\n",
              "[[7.26149037e-01]\n",
              " [5.80919230e-01]\n",
              " [3.28617541e-01]\n",
              " [1.51781941e-01]\n",
              " [6.07127755e-02]\n",
              " [2.17212702e-02]\n",
              " [7.09408207e-03]\n",
              " [2.14540751e-03]\n",
              " [6.04780881e-04]\n",
              " [1.71316475e-04]]"
            ]
          }
        }
      ],
      "source": [
        "alpha = 0.8\n",
        "coherent_state = qutip.coherent(d, alpha)\n",
        "\n",
        "coherent_state"
      ],
      "id": "cell-coherent-state"
    },
    {
      "cell_type": "markdown",
      "metadata": {},
      "source": [
        "Let’s compute the fidelity between $\\vert \\alpha \\rangle$ and\n",
        "$\\hat{a} \\vert \\alpha \\rangle / \\alpha$."
      ],
      "id": "e522ad58-8a52-4cd3-8c38-f19630001332"
    },
    {
      "cell_type": "code",
      "execution_count": 10,
      "metadata": {},
      "outputs": [
        {
          "output_type": "display_data",
          "metadata": {},
          "data": {
            "text/plain": [
              "np.float64(0.9999999837403134)"
            ]
          }
        }
      ],
      "source": [
        "qutip.fidelity(a * coherent_state / alpha, coherent_state)"
      ],
      "id": "cell-coherent-state-fidelity"
    },
    {
      "cell_type": "markdown",
      "metadata": {},
      "source": [
        "> **Exercise!**\n",
        ">\n",
        "> The coherent state can be also obtained from the displacement operator\n",
        "> $\\hat{\\mathcal{D}} (\\alpha) = {\\exp} \\left( \\alpha \\hat{a}^\\dagger - \\alpha^* \\hat{a} \\right)$,\n",
        "> through its application to the ground state\n",
        "> $\\vert \\alpha \\rangle = \\hat{\\mathcal{D}} (\\alpha) \\vert 0 \\rangle$.\n",
        ">\n",
        "> Again, computing the exponential of an operator is very easy with\n",
        "> QuTiP, you just need to write `O.expm()`, where `O` is the operator.\n",
        "> Write the coherent state $\\vert \\alpha \\rangle$ from your own, and\n",
        "> then calculate the fidelity ($\\langle \\psi_1 \\vert \\psi_2 \\rangle$)\n",
        "> with the previous state obtained using the built-in `coherent`\n",
        "> function."
      ],
      "id": "64f91ba1-1f20-4f6e-9902-c1fee3326180"
    },
    {
      "cell_type": "code",
      "execution_count": 11,
      "metadata": {},
      "outputs": [],
      "source": [
        "# Write your code here...\n"
      ],
      "id": "bb802439"
    },
    {
      "cell_type": "code",
      "execution_count": 12,
      "metadata": {},
      "outputs": [
        {
          "output_type": "display_data",
          "metadata": {},
          "data": {
            "text/plain": [
              "(1+0j)"
            ]
          }
        }
      ],
      "source": [
        "D = (alpha * a.dag() - alpha.conjugate() * a).expm()\n",
        "\n",
        "coherent_state_2 = D * qutip.fock(d, 0)\n",
        "\n",
        "coherent_state_2.dag() * coherent_state"
      ],
      "id": "63bf87f2"
    },
    {
      "cell_type": "markdown",
      "metadata": {},
      "source": [
        "### Spin States"
      ],
      "id": "f17904aa-0222-418d-a5b8-dadf24f7ca4a"
    },
    {
      "cell_type": "code",
      "execution_count": 13,
      "metadata": {},
      "outputs": [
        {
          "output_type": "display_data",
          "metadata": {},
          "data": {
            "text/plain": [
              "Quantum object: dims=[[2], [1]], shape=(2, 1), type='ket', dtype=Dense\n",
              "Qobj data =\n",
              "[[0.]\n",
              " [1.]]"
            ]
          }
        }
      ],
      "source": [
        "qutip.spin_state(0.5, -1)"
      ],
      "id": "cell-spin-state"
    },
    {
      "cell_type": "markdown",
      "metadata": {},
      "source": [
        "### Density Matrices\n",
        "\n",
        "Quantum states can also be represented using density matrices, which are\n",
        "useful for describing mixed states.\n",
        "\n",
        "#### Creating a Density Matrix\n",
        "\n",
        "Let’s convert our superposition state into a density matrix."
      ],
      "id": "6d64b1f7-597f-457f-8409-eede8fe36182"
    },
    {
      "cell_type": "code",
      "execution_count": 14,
      "metadata": {},
      "outputs": [
        {
          "output_type": "stream",
          "name": "stdout",
          "text": [
            "Density matrix of the superposition state:"
          ]
        },
        {
          "output_type": "display_data",
          "metadata": {},
          "data": {
            "text/plain": [
              "Quantum object: dims=[[10], [10]], shape=(10, 10), type='oper', dtype=Dense, isherm=True\n",
              "Qobj data =\n",
              "[[0.5 0.5 0.  0.  0.  0.  0.  0.  0.  0. ]\n",
              " [0.5 0.5 0.  0.  0.  0.  0.  0.  0.  0. ]\n",
              " [0.  0.  0.  0.  0.  0.  0.  0.  0.  0. ]\n",
              " [0.  0.  0.  0.  0.  0.  0.  0.  0.  0. ]\n",
              " [0.  0.  0.  0.  0.  0.  0.  0.  0.  0. ]\n",
              " [0.  0.  0.  0.  0.  0.  0.  0.  0.  0. ]\n",
              " [0.  0.  0.  0.  0.  0.  0.  0.  0.  0. ]\n",
              " [0.  0.  0.  0.  0.  0.  0.  0.  0.  0. ]\n",
              " [0.  0.  0.  0.  0.  0.  0.  0.  0.  0. ]\n",
              " [0.  0.  0.  0.  0.  0.  0.  0.  0.  0. ]]"
            ]
          }
        }
      ],
      "source": [
        "# Creating a density matrix from a state\n",
        "density_matrix = superposition_state * superposition_state.dag()  # Outer product\n",
        "\n",
        "print(\"Density matrix of the superposition state:\")\n",
        "density_matrix"
      ],
      "id": "cell-density-matrix"
    },
    {
      "cell_type": "markdown",
      "metadata": {},
      "source": [
        "### Partial Trace\n",
        "\n",
        "The **partial trace** over a subsystem, say $B$, of a composite system\n",
        "$AB$, mathematically expresses as “tracing out” $B$, leaving the reduced\n",
        "state of $A$. For a bipartite state $\\rho_{AB}$, the partial trace over\n",
        "$B$ is:\n",
        "\n",
        "$$\n",
        "\\text{Tr}_B(\\hat{\\rho}_{AB}) = \\sum_{i \\in \\mathcal{H}_B} \\langle i| \\hat{\\rho}_{AB} |i\\rangle\n",
        "$$\n",
        "\n",
        "where $\\{|i\\rangle\\}$ forms a complete basis for subsystem $B$.\n",
        "\n",
        "Let’s try it with an entangled Bell’s state between two qubits:\n",
        "\n",
        "$$\n",
        "\\vert \\phi^+ \\rangle = \\frac{1}{\\sqrt{2}} \\left( \\vert 0, 0 \\rangle + \\vert 1, 1 \\rangle \\right)\n",
        "$$"
      ],
      "id": "a7b5fd35-428c-4dca-b270-a2c56b449a5f"
    },
    {
      "cell_type": "code",
      "execution_count": 15,
      "metadata": {},
      "outputs": [
        {
          "output_type": "display_data",
          "metadata": {},
          "data": {
            "text/plain": [
              "Quantum object: dims=[[2], [2]], shape=(2, 2), type='oper', dtype=Dense, isherm=True\n",
              "Qobj data =\n",
              "[[0.5 0. ]\n",
              " [0.  0.5]]"
            ]
          }
        }
      ],
      "source": [
        "# Bell state between two qubits\n",
        "phi_plus = ( qutip.tensor(qutip.spin_state(1/2, -1), qutip.spin_state(1/2, -1)) + qutip.tensor(qutip.spin_state(1/2, 1), qutip.spin_state(1/2, 1)) ).unit()\n",
        "\n",
        "# Reduced density matrix of the first qubit\n",
        "rho_1 = qutip.ptrace(phi_plus, 1)\n",
        "rho_1"
      ],
      "id": "cell-ptrace"
    },
    {
      "cell_type": "markdown",
      "metadata": {},
      "source": [
        "We now apply the partial trace to a more complicated state, that is\n",
        "composed by two bosonic modes and two spins $\\vert j_1, m_1 \\rangle$ and\n",
        "$\\vert j_2, m_2 \\rangle$, with $j_1 = 1$ and $j_2 = \\frac{1}{2}$,\n",
        "$m_1 = 0$, and $m_2 = 1$."
      ],
      "id": "5fa56300-f9c9-4e84-a211-24e178563c36"
    },
    {
      "cell_type": "code",
      "execution_count": 16,
      "metadata": {},
      "outputs": [
        {
          "output_type": "display_data",
          "metadata": {},
          "data": {
            "text/plain": [
              "Quantum object: dims=[[10, 10, 3], [10, 10, 3]], shape=(300, 300), type='oper', dtype=Dense, isherm=True\n",
              "Qobj data =\n",
              "[[0. 0. 0. ... 0. 0. 0.]\n",
              " [0. 0. 0. ... 0. 0. 0.]\n",
              " [0. 0. 0. ... 0. 0. 0.]\n",
              " ...\n",
              " [0. 0. 0. ... 0. 0. 0.]\n",
              " [0. 0. 0. ... 0. 0. 0.]\n",
              " [0. 0. 0. ... 0. 0. 0.]]"
            ]
          }
        },
        {
          "output_type": "display_data",
          "metadata": {},
          "data": {
            "text/plain": [
              "Quantum object: dims=[[10, 3], [10, 3]], shape=(30, 30), type='oper', dtype=Dense, isherm=True\n",
              "Qobj data =\n",
              "[[0. 0. 0. 0. 0. 0. 0. 0. 0. 0. 0. 0. 0. 0. 0. 0. 0. 0. 0. 0. 0. 0. 0. 0.\n",
              "  0. 0. 0. 0. 0. 0.]\n",
              " [0. 0. 0. 0. 0. 0. 0. 0. 0. 0. 0. 0. 0. 0. 0. 0. 0. 0. 0. 0. 0. 0. 0. 0.\n",
              "  0. 0. 0. 0. 0. 0.]\n",
              " [0. 0. 0. 0. 0. 0. 0. 0. 0. 0. 0. 0. 0. 0. 0. 0. 0. 0. 0. 0. 0. 0. 0. 0.\n",
              "  0. 0. 0. 0. 0. 0.]\n",
              " [0. 0. 0. 0. 0. 0. 0. 0. 0. 0. 0. 0. 0. 0. 0. 0. 0. 0. 0. 0. 0. 0. 0. 0.\n",
              "  0. 0. 0. 0. 0. 0.]\n",
              " [0. 0. 0. 0. 1. 0. 0. 0. 0. 0. 0. 0. 0. 0. 0. 0. 0. 0. 0. 0. 0. 0. 0. 0.\n",
              "  0. 0. 0. 0. 0. 0.]\n",
              " [0. 0. 0. 0. 0. 0. 0. 0. 0. 0. 0. 0. 0. 0. 0. 0. 0. 0. 0. 0. 0. 0. 0. 0.\n",
              "  0. 0. 0. 0. 0. 0.]\n",
              " [0. 0. 0. 0. 0. 0. 0. 0. 0. 0. 0. 0. 0. 0. 0. 0. 0. 0. 0. 0. 0. 0. 0. 0.\n",
              "  0. 0. 0. 0. 0. 0.]\n",
              " [0. 0. 0. 0. 0. 0. 0. 0. 0. 0. 0. 0. 0. 0. 0. 0. 0. 0. 0. 0. 0. 0. 0. 0.\n",
              "  0. 0. 0. 0. 0. 0.]\n",
              " [0. 0. 0. 0. 0. 0. 0. 0. 0. 0. 0. 0. 0. 0. 0. 0. 0. 0. 0. 0. 0. 0. 0. 0.\n",
              "  0. 0. 0. 0. 0. 0.]\n",
              " [0. 0. 0. 0. 0. 0. 0. 0. 0. 0. 0. 0. 0. 0. 0. 0. 0. 0. 0. 0. 0. 0. 0. 0.\n",
              "  0. 0. 0. 0. 0. 0.]\n",
              " [0. 0. 0. 0. 0. 0. 0. 0. 0. 0. 0. 0. 0. 0. 0. 0. 0. 0. 0. 0. 0. 0. 0. 0.\n",
              "  0. 0. 0. 0. 0. 0.]\n",
              " [0. 0. 0. 0. 0. 0. 0. 0. 0. 0. 0. 0. 0. 0. 0. 0. 0. 0. 0. 0. 0. 0. 0. 0.\n",
              "  0. 0. 0. 0. 0. 0.]\n",
              " [0. 0. 0. 0. 0. 0. 0. 0. 0. 0. 0. 0. 0. 0. 0. 0. 0. 0. 0. 0. 0. 0. 0. 0.\n",
              "  0. 0. 0. 0. 0. 0.]\n",
              " [0. 0. 0. 0. 0. 0. 0. 0. 0. 0. 0. 0. 0. 0. 0. 0. 0. 0. 0. 0. 0. 0. 0. 0.\n",
              "  0. 0. 0. 0. 0. 0.]\n",
              " [0. 0. 0. 0. 0. 0. 0. 0. 0. 0. 0. 0. 0. 0. 0. 0. 0. 0. 0. 0. 0. 0. 0. 0.\n",
              "  0. 0. 0. 0. 0. 0.]\n",
              " [0. 0. 0. 0. 0. 0. 0. 0. 0. 0. 0. 0. 0. 0. 0. 0. 0. 0. 0. 0. 0. 0. 0. 0.\n",
              "  0. 0. 0. 0. 0. 0.]\n",
              " [0. 0. 0. 0. 0. 0. 0. 0. 0. 0. 0. 0. 0. 0. 0. 0. 0. 0. 0. 0. 0. 0. 0. 0.\n",
              "  0. 0. 0. 0. 0. 0.]\n",
              " [0. 0. 0. 0. 0. 0. 0. 0. 0. 0. 0. 0. 0. 0. 0. 0. 0. 0. 0. 0. 0. 0. 0. 0.\n",
              "  0. 0. 0. 0. 0. 0.]\n",
              " [0. 0. 0. 0. 0. 0. 0. 0. 0. 0. 0. 0. 0. 0. 0. 0. 0. 0. 0. 0. 0. 0. 0. 0.\n",
              "  0. 0. 0. 0. 0. 0.]\n",
              " [0. 0. 0. 0. 0. 0. 0. 0. 0. 0. 0. 0. 0. 0. 0. 0. 0. 0. 0. 0. 0. 0. 0. 0.\n",
              "  0. 0. 0. 0. 0. 0.]\n",
              " [0. 0. 0. 0. 0. 0. 0. 0. 0. 0. 0. 0. 0. 0. 0. 0. 0. 0. 0. 0. 0. 0. 0. 0.\n",
              "  0. 0. 0. 0. 0. 0.]\n",
              " [0. 0. 0. 0. 0. 0. 0. 0. 0. 0. 0. 0. 0. 0. 0. 0. 0. 0. 0. 0. 0. 0. 0. 0.\n",
              "  0. 0. 0. 0. 0. 0.]\n",
              " [0. 0. 0. 0. 0. 0. 0. 0. 0. 0. 0. 0. 0. 0. 0. 0. 0. 0. 0. 0. 0. 0. 0. 0.\n",
              "  0. 0. 0. 0. 0. 0.]\n",
              " [0. 0. 0. 0. 0. 0. 0. 0. 0. 0. 0. 0. 0. 0. 0. 0. 0. 0. 0. 0. 0. 0. 0. 0.\n",
              "  0. 0. 0. 0. 0. 0.]\n",
              " [0. 0. 0. 0. 0. 0. 0. 0. 0. 0. 0. 0. 0. 0. 0. 0. 0. 0. 0. 0. 0. 0. 0. 0.\n",
              "  0. 0. 0. 0. 0. 0.]\n",
              " [0. 0. 0. 0. 0. 0. 0. 0. 0. 0. 0. 0. 0. 0. 0. 0. 0. 0. 0. 0. 0. 0. 0. 0.\n",
              "  0. 0. 0. 0. 0. 0.]\n",
              " [0. 0. 0. 0. 0. 0. 0. 0. 0. 0. 0. 0. 0. 0. 0. 0. 0. 0. 0. 0. 0. 0. 0. 0.\n",
              "  0. 0. 0. 0. 0. 0.]\n",
              " [0. 0. 0. 0. 0. 0. 0. 0. 0. 0. 0. 0. 0. 0. 0. 0. 0. 0. 0. 0. 0. 0. 0. 0.\n",
              "  0. 0. 0. 0. 0. 0.]\n",
              " [0. 0. 0. 0. 0. 0. 0. 0. 0. 0. 0. 0. 0. 0. 0. 0. 0. 0. 0. 0. 0. 0. 0. 0.\n",
              "  0. 0. 0. 0. 0. 0.]\n",
              " [0. 0. 0. 0. 0. 0. 0. 0. 0. 0. 0. 0. 0. 0. 0. 0. 0. 0. 0. 0. 0. 0. 0. 0.\n",
              "  0. 0. 0. 0. 0. 0.]]"
            ]
          }
        },
        {
          "output_type": "display_data",
          "metadata": {},
          "data": {
            "text/plain": [
              "Quantum object: dims=[[10], [10]], shape=(10, 10), type='oper', dtype=Dense, isherm=True\n",
              "Qobj data =\n",
              "[[0. 0. 0. 0. 0. 0. 0. 0. 0. 0.]\n",
              " [0. 1. 0. 0. 0. 0. 0. 0. 0. 0.]\n",
              " [0. 0. 0. 0. 0. 0. 0. 0. 0. 0.]\n",
              " [0. 0. 0. 0. 0. 0. 0. 0. 0. 0.]\n",
              " [0. 0. 0. 0. 0. 0. 0. 0. 0. 0.]\n",
              " [0. 0. 0. 0. 0. 0. 0. 0. 0. 0.]\n",
              " [0. 0. 0. 0. 0. 0. 0. 0. 0. 0.]\n",
              " [0. 0. 0. 0. 0. 0. 0. 0. 0. 0.]\n",
              " [0. 0. 0. 0. 0. 0. 0. 0. 0. 0.]\n",
              " [0. 0. 0. 0. 0. 0. 0. 0. 0. 0.]]"
            ]
          }
        }
      ],
      "source": [
        "d = 10\n",
        "j1 = 1\n",
        "j2 = 1/2\n",
        "m1 = 0\n",
        "m2 = 1\n",
        "\n",
        "\n",
        "psi = qutip.tensor(qutip.fock(d, 3), qutip.fock(d, 1), qutip.spin_state(j1, 0), qutip.spin_state(j2, 1))\n",
        "\n",
        "# Trace only the second spin state\n",
        "rho_0 = qutip.ptrace(psi, [0, 1, 2])\n",
        "display(rho_0)\n",
        "\n",
        "# Trace only the first bosonic mode and the second spin state\n",
        "rho_1 = qutip.ptrace(psi, [1, 2])\n",
        "display(rho_1)\n",
        "\n",
        "# Trace all except the second bosonic mode\n",
        "rho_2 = qutip.ptrace(psi, [1])\n",
        "rho_2"
      ],
      "id": "ptrace-complex-state"
    },
    {
      "cell_type": "markdown",
      "metadata": {},
      "source": [
        "## Eigenstates and Eigenvalues\n",
        "\n",
        "The eigenstates and eigenvalues of a system or an operator provide\n",
        "crucial insights into its properties. Let’s explore how to calculate\n",
        "these in QuTiP."
      ],
      "id": "23ef0caa-babf-4da7-989a-95045d63ed44"
    },
    {
      "cell_type": "code",
      "execution_count": 17,
      "metadata": {},
      "outputs": [
        {
          "output_type": "stream",
          "name": "stdout",
          "text": [
            "Eigenvalues of Sigma Z:"
          ]
        },
        {
          "output_type": "display_data",
          "metadata": {},
          "data": {
            "text/plain": [
              "array([-1.,  1.])"
            ]
          }
        },
        {
          "output_type": "stream",
          "name": "stdout",
          "text": [
            "\n",
            "\n",
            "Eigenstates of Sigma Z:"
          ]
        },
        {
          "output_type": "display_data",
          "metadata": {},
          "data": {
            "text/plain": [
              "array([Quantum object: dims=[[2], [1]], shape=(2, 1), type='ket', dtype=Dense\n",
              "       Qobj data =\n",
              "       [[ 0.]\n",
              "        [-1.]]                                                               ,\n",
              "       Quantum object: dims=[[2], [1]], shape=(2, 1), type='ket', dtype=Dense\n",
              "       Qobj data =\n",
              "       [[-1.]\n",
              "        [-0.]]                                                               ],\n",
              "      dtype=object)"
            ]
          }
        }
      ],
      "source": [
        "# Example: Eigenstates and eigenvalues of Pauli Z\n",
        "eigenvalues, eigenstates = sigma_z.eigenstates()\n",
        "\n",
        "print(\"Eigenvalues of Sigma Z:\")\n",
        "display(eigenvalues)\n",
        "print(\"\\n\")\n",
        "print(\"Eigenstates of Sigma Z:\")\n",
        "display(eigenstates)"
      ],
      "id": "eigenstates-eigenvalues"
    },
    {
      "cell_type": "markdown",
      "metadata": {},
      "source": [
        "## Computing Expectation Values\n",
        "\n",
        "For a quantum state $|\\psi\\rangle$ and an operator $\\hat{O}$, the\n",
        "expectation value is given by:\n",
        "\n",
        "$$\n",
        "\\langle \\hat{O} \\rangle = \\langle\\psi| \\hat{O} |\\psi\\rangle\n",
        "$$\n",
        "\n",
        "Let’s compute the expectation value of the number operator\n",
        "$\\hat{n} = \\hat{a}^\\dagger \\hat{a}$ for a coherent state, which\n",
        "represents a quantum state closest to a classical harmonic oscillator."
      ],
      "id": "2bf60f60-fba6-4717-8efb-70469449f3bb"
    },
    {
      "cell_type": "code",
      "execution_count": 18,
      "metadata": {},
      "outputs": [
        {
          "output_type": "stream",
          "name": "stdout",
          "text": [
            "Expectation value of the number operator for |psi>:"
          ]
        },
        {
          "output_type": "display_data",
          "metadata": {},
          "data": {
            "text/plain": [
              "0.6399999989126254"
            ]
          }
        },
        {
          "output_type": "stream",
          "name": "stdout",
          "text": [
            "\n",
            "\n",
            "The squared modulus of alpha is:"
          ]
        },
        {
          "output_type": "display_data",
          "metadata": {},
          "data": {
            "text/plain": [
              "0.6400000000000001"
            ]
          }
        }
      ],
      "source": [
        "# Define the coherent state |psi> with alpha=2\n",
        "alpha = 0.8\n",
        "psi = qutip.coherent(d, alpha)\n",
        "\n",
        "# Define the number operator n = a.dag() * a\n",
        "n = a.dag() * a\n",
        "\n",
        "# Compute the expectation value of n for the state |psi>\n",
        "expectation_value_n = qutip.expect(n, psi)\n",
        "\n",
        "print(\"Expectation value of the number operator for |psi>:\")\n",
        "display(expectation_value_n)\n",
        "print(\"\\n\")\n",
        "print(\"The squared modulus of alpha is:\")\n",
        "display(abs(alpha) ** 2)"
      ],
      "id": "expectation-value"
    }
  ],
  "nbformat": 4,
  "nbformat_minor": 5,
  "metadata": {
    "kernelspec": {
      "name": "python3",
      "display_name": "Python 3 (ipykernel)",
      "language": "python",
      "path": "/opt/hostedtoolcache/Python/3.13.3/x64/share/jupyter/kernels/python3"
    },
    "language_info": {
      "name": "python",
      "codemirror_mode": {
        "name": "ipython",
        "version": "3"
      },
      "file_extension": ".py",
      "mimetype": "text/x-python",
      "nbconvert_exporter": "python",
      "pygments_lexer": "ipython3",
      "version": "3.13.3"
    }
  }
}