{
  "cells": [
    {
      "cell_type": "markdown",
      "metadata": {},
      "source": [
        "# Introduction to QuTiP\n",
        "\n",
        "The QuTiP package can be imported with"
      ],
      "id": "f7283840-9488-49a4-8e15-3eac1094007c"
    },
    {
      "cell_type": "code",
      "execution_count": 2,
      "metadata": {},
      "outputs": [],
      "source": [
        "import qutip\n",
        "import numpy as np"
      ],
      "id": "qutip-import"
    },
    {
      "cell_type": "markdown",
      "metadata": {},
      "source": [
        "It can also be imported with the command `from qutip import *`, that\n",
        "automatically imports all the QuTiP functions. However, here we use the\n",
        "first method, in order to explicitly see the QuTiP functions."
      ],
      "id": "c9071d07-de19-4d9e-a1ff-7b67be0ce867"
    },
    {
      "cell_type": "code",
      "execution_count": 3,
      "metadata": {},
      "outputs": [
        {
          "output_type": "stream",
          "name": "stdout",
          "text": [
            "\n",
            "QuTiP: Quantum Toolbox in Python\n",
            "================================\n",
            "Copyright (c) QuTiP team 2011 and later.\n",
            "Current admin team: Alexander Pitchford, Nathan Shammah, Shahnawaz Ahmed, Neill Lambert, Eric Giguère, Boxi Li, Simon Cross, Asier Galicia, Paul Menczel, and Patrick Hopf.\n",
            "Board members: Daniel Burgarth, Robert Johansson, Anton F. Kockum, Franco Nori and Will Zeng.\n",
            "Original developers: R. J. Johansson & P. D. Nation.\n",
            "Previous lead developers: Chris Granade & A. Grimsmo.\n",
            "Currently developed through wide collaboration. See https://github.com/qutip for details.\n",
            "\n",
            "QuTiP Version:      5.1.1\n",
            "Numpy Version:      2.2.6\n",
            "Scipy Version:      1.15.3\n",
            "Cython Version:     3.1.1\n",
            "Matplotlib Version: 3.10.3\n",
            "Python Version:     3.13.3\n",
            "Number of CPUs:     4\n",
            "BLAS Info:          Generic\n",
            "INTEL MKL Ext:      None\n",
            "Platform Info:      Linux (x86_64)\n",
            "Installation path:  /opt/hostedtoolcache/Python/3.13.3/x64/lib/python3.13/site-packages/qutip\n",
            "\n",
            "Installed QuTiP family packages\n",
            "-------------------------------\n",
            "\n",
            "No QuTiP family packages installed.\n",
            "\n",
            "================================================================================\n",
            "Please cite QuTiP in your publication.\n",
            "================================================================================\n",
            "For your convenience a bibtex reference can be easily generated using `qutip.cite()`"
          ]
        }
      ],
      "source": [
        "qutip.about()"
      ],
      "id": "qutip-about"
    },
    {
      "cell_type": "markdown",
      "metadata": {},
      "source": [
        "## Quantum Operators\n",
        "\n",
        "### Creating Operators\n",
        "\n",
        "Operators in quantum mechanics can represent measurements, such as\n",
        "position or momentum, and transformations, such as rotation. Let’s see\n",
        "how we can define some common operators in QuTiP.\n",
        "\n",
        "#### The Annihilation Operator of the Quantum Harmonic oscillator\n",
        "\n",
        "The matrix representation of the annihilation operator in an\n",
        "$d$-dimensional Hilbert space is given by an upper triangular matrix\n",
        "with the square roots of natural numbers as its off-diagonal elements."
      ],
      "id": "ba90f50f-0f7f-43a4-9e0e-fc0e411bbe7a"
    },
    {
      "cell_type": "code",
      "execution_count": 4,
      "metadata": {},
      "outputs": [
        {
          "output_type": "stream",
          "name": "stdout",
          "text": [
            "Annihilation operator (a) for d=7:"
          ]
        },
        {
          "output_type": "display_data",
          "metadata": {},
          "data": {
            "text/plain": [
              "Quantum object: dims=[[7], [7]], shape=(7, 7), type='oper', dtype=Dia, isherm=False\n",
              "Qobj data =\n",
              "[[0.         1.         0.         0.         0.         0.\n",
              "  0.        ]\n",
              " [0.         0.         1.41421356 0.         0.         0.\n",
              "  0.        ]\n",
              " [0.         0.         0.         1.73205081 0.         0.\n",
              "  0.        ]\n",
              " [0.         0.         0.         0.         2.         0.\n",
              "  0.        ]\n",
              " [0.         0.         0.         0.         0.         2.23606798\n",
              "  0.        ]\n",
              " [0.         0.         0.         0.         0.         0.\n",
              "  2.44948974]\n",
              " [0.         0.         0.         0.         0.         0.\n",
              "  0.        ]]"
            ]
          }
        }
      ],
      "source": [
        "# Define the annihilation operator for d-dimensional Hilbert space\n",
        "d = 7\n",
        "\n",
        "a = qutip.destroy(d)\n",
        "\n",
        "print(\"Annihilation operator (a) for d=7:\")\n",
        "a"
      ],
      "id": "cell-annihilation-operator"
    },
    {
      "cell_type": "markdown",
      "metadata": {},
      "source": [
        "#### Pauli Matrices\n",
        "\n",
        "We can define the Pauli matrices in QuTiP as follows:"
      ],
      "id": "065dcc0d-cee6-4ebf-9c7c-08e077d1682d"
    },
    {
      "cell_type": "code",
      "execution_count": 5,
      "metadata": {},
      "outputs": [
        {
          "output_type": "stream",
          "name": "stdout",
          "text": [
            "Sigma X:"
          ]
        },
        {
          "output_type": "display_data",
          "metadata": {},
          "data": {
            "text/plain": [
              "Quantum object: dims=[[2], [2]], shape=(2, 2), type='oper', dtype=CSR, isherm=True\n",
              "Qobj data =\n",
              "[[0. 1.]\n",
              " [1. 0.]]"
            ]
          }
        },
        {
          "output_type": "stream",
          "name": "stdout",
          "text": [
            "\n",
            "\n",
            "Sigma Y:"
          ]
        },
        {
          "output_type": "display_data",
          "metadata": {},
          "data": {
            "text/plain": [
              "Quantum object: dims=[[2], [2]], shape=(2, 2), type='oper', dtype=CSR, isherm=True\n",
              "Qobj data =\n",
              "[[0.+0.j 0.-1.j]\n",
              " [0.+1.j 0.+0.j]]"
            ]
          }
        },
        {
          "output_type": "stream",
          "name": "stdout",
          "text": [
            "\n",
            "\n",
            "Sigma Z:"
          ]
        },
        {
          "output_type": "display_data",
          "metadata": {},
          "data": {
            "text/plain": [
              "Quantum object: dims=[[2], [2]], shape=(2, 2), type='oper', dtype=CSR, isherm=True\n",
              "Qobj data =\n",
              "[[ 1.  0.]\n",
              " [ 0. -1.]]"
            ]
          }
        }
      ],
      "source": [
        "sigma_x = qutip.sigmax()\n",
        "sigma_y = qutip.sigmay()\n",
        "sigma_z = qutip.sigmaz()\n",
        "\n",
        "print(\"Sigma X:\")\n",
        "display(sigma_x)\n",
        "print(\"\\n\")\n",
        "print(\"Sigma Y:\")\n",
        "display(sigma_y)\n",
        "print(\"\\n\")\n",
        "print(\"Sigma Z:\")\n",
        "sigma_z"
      ],
      "id": "pauli-matrices"
    },
    {
      "cell_type": "markdown",
      "metadata": {},
      "source": [
        "### Operator Functions and Operations\n",
        "\n",
        "QuTiP supports various operations on operators, including addition,\n",
        "multiplication (both scalar and matrix), and the commutator.\n",
        "\n",
        "#### Example: Commutator of Pauli Matrices\n",
        "\n",
        "Let’s calculate the commutator of $\\sigma_x$ and $\\sigma_y$."
      ],
      "id": "edcb7bac-2b38-42f1-8974-c1f8169f20ac"
    },
    {
      "cell_type": "code",
      "execution_count": 6,
      "metadata": {},
      "outputs": [
        {
          "output_type": "stream",
          "name": "stdout",
          "text": [
            "Commutator of Sigma X and Sigma Y:"
          ]
        },
        {
          "output_type": "display_data",
          "metadata": {},
          "data": {
            "text/plain": [
              "Quantum object: dims=[[2], [2]], shape=(2, 2), type='oper', dtype=CSR, isherm=False\n",
              "Qobj data =\n",
              "[[0.+2.j 0.+0.j]\n",
              " [0.+0.j 0.-2.j]]"
            ]
          }
        },
        {
          "output_type": "display_data",
          "metadata": {},
          "data": {
            "text/plain": [
              "True"
            ]
          }
        }
      ],
      "source": [
        "commutator_xy = qutip.commutator(sigma_x, sigma_y)\n",
        "print(\"Commutator of Sigma X and Sigma Y:\")\n",
        "display(commutator_xy)\n",
        "commutator_xy == 2j * sigma_z"
      ],
      "id": "commutator-example"
    },
    {
      "cell_type": "markdown",
      "metadata": {},
      "source": [
        "## Quantum States\n",
        "\n",
        "This section focuses on the representation and manipulation of quantum\n",
        "states.\n",
        "\n",
        "### Fock States\n",
        "\n",
        "The most basic quantum states are the fock states, often denoted as\n",
        "$|n\\rangle$ (with $n \\in \\mathbb{N}$). Let’s see how we can create these\n",
        "in QuTiP.\n",
        "\n",
        "> **Exercise!**\n",
        ">\n",
        "> Taking as an example **?@sec-quantum-objects-numpy**, create two fock\n",
        "> states $\\vert 0 \\rangle$ and $\\vert 1 \\rangle$ with Hilbert space\n",
        "> dimension $d$, using the QuTiP routines instead of a handmade\n",
        "> functions. Call them `fock_0` and `fock_1`, respectively."
      ],
      "id": "991e9cef-8167-4290-b578-45146a405d0b"
    },
    {
      "cell_type": "code",
      "execution_count": 7,
      "metadata": {},
      "outputs": [],
      "source": [
        "# Write your code here...\n"
      ],
      "id": "1e2c1699"
    },
    {
      "cell_type": "code",
      "execution_count": 8,
      "metadata": {},
      "outputs": [
        {
          "output_type": "stream",
          "name": "stdout",
          "text": [
            "|0> state:"
          ]
        },
        {
          "output_type": "display_data",
          "metadata": {},
          "data": {
            "text/plain": [
              "Quantum object: dims=[[7], [1]], shape=(7, 1), type='ket', dtype=Dense\n",
              "Qobj data =\n",
              "[[1.]\n",
              " [0.]\n",
              " [0.]\n",
              " [0.]\n",
              " [0.]\n",
              " [0.]\n",
              " [0.]]"
            ]
          }
        },
        {
          "output_type": "stream",
          "name": "stdout",
          "text": [
            "\n",
            "\n",
            "|1> state:"
          ]
        },
        {
          "output_type": "display_data",
          "metadata": {},
          "data": {
            "text/plain": [
              "Quantum object: dims=[[7], [1]], shape=(7, 1), type='ket', dtype=Dense\n",
              "Qobj data =\n",
              "[[0.]\n",
              " [1.]\n",
              " [0.]\n",
              " [0.]\n",
              " [0.]\n",
              " [0.]\n",
              " [0.]]"
            ]
          }
        }
      ],
      "source": [
        "fock_0 = qutip.fock(d, 0)  # |0>\n",
        "fock_1 = qutip.fock(d, 1)  # |1>\n",
        "\n",
        "print(\"|0> state:\")\n",
        "display(fock_0)\n",
        "print(\"\\n\")\n",
        "print(\"|1> state:\")\n",
        "display(fock_1)"
      ],
      "id": "012de63e"
    },
    {
      "cell_type": "markdown",
      "metadata": {},
      "source": [
        "### Superposition States\n",
        "\n",
        "Quantum mechanics allows particles to be in a superposition of states.\n",
        "Let’s create a superposition state.\n",
        "\n",
        "$$\n",
        "\\vert \\psi \\rangle = \\frac{1}{\\sqrt{2}} \\left( \\vert 0 \\rangle + \\vert 1 \\rangle \\right)\n",
        "$$"
      ],
      "id": "90be6df3-2860-4231-9565-d711728da343"
    },
    {
      "cell_type": "code",
      "execution_count": 9,
      "metadata": {},
      "outputs": [
        {
          "output_type": "stream",
          "name": "stdout",
          "text": [
            "Superposition state:"
          ]
        },
        {
          "output_type": "display_data",
          "metadata": {},
          "data": {
            "text/plain": [
              "Quantum object: dims=[[7], [1]], shape=(7, 1), type='ket', dtype=Dense\n",
              "Qobj data =\n",
              "[[0.70710678]\n",
              " [0.70710678]\n",
              " [0.        ]\n",
              " [0.        ]\n",
              " [0.        ]\n",
              " [0.        ]\n",
              " [0.        ]]"
            ]
          }
        }
      ],
      "source": [
        "fock_0 = qutip.fock(d, 0)  # Fock state |0>\n",
        "fock_1 = qutip.fock(d, 1)  # Fock state |1>\n",
        "\n",
        "# Creating a superposition state\n",
        "superposition_state = (fock_0 + fock_1).unit()  # Normalize the state\n",
        "\n",
        "print(\"Superposition state:\")\n",
        "superposition_state"
      ],
      "id": "cell-superposition-state"
    },
    {
      "cell_type": "markdown",
      "metadata": {},
      "source": [
        "### Coherent States\n",
        "\n",
        "Coherent states in QuTiP represent quantum states closest to classical\n",
        "waves, defined as $$\n",
        "|\\alpha\\rangle = e^{-|\\alpha|^2/2} \\sum_{n=0}^{\\infty} \\frac{\\alpha^n}{\\sqrt{n!}} |n\\rangle \\, ,\n",
        "$$\n",
        "\n",
        "with minimal uncertainty.\n",
        "\n",
        "The coherent state is an eigenstate of the annihilation operator $$\n",
        "\\hat{a} \\vert \\alpha \\rangle = \\alpha \\vert \\alpha \\rangle\n",
        "$$\n",
        "\n",
        "> **Warning!**\n",
        ">\n",
        "> Remember that every `Qobj` lives in a truncated Hilbert space. If the\n",
        "> $\\alpha$ value is too large, the state will become a non-physical\n",
        "> state because it will touch the high energy levels of the truncated\n",
        "> Hilbert space."
      ],
      "id": "31044f00-b204-4402-8cc9-14e6b6d3408a"
    },
    {
      "cell_type": "code",
      "execution_count": 10,
      "metadata": {},
      "outputs": [
        {
          "output_type": "display_data",
          "metadata": {},
          "data": {
            "text/plain": [
              "Quantum object: dims=[[7], [1]], shape=(7, 1), type='ket', dtype=Dense\n",
              "Qobj data =\n",
              "[[0.72614904]\n",
              " [0.58091919]\n",
              " [0.32861796]\n",
              " [0.1517784 ]\n",
              " [0.06073653]\n",
              " [0.02159193]\n",
              " [0.00767346]]"
            ]
          }
        }
      ],
      "source": [
        "alpha = 0.8\n",
        "coherent_state = qutip.coherent(d, alpha)\n",
        "\n",
        "coherent_state"
      ],
      "id": "cell-coherent-state"
    },
    {
      "cell_type": "markdown",
      "metadata": {},
      "source": [
        "Let’s compute the fidelity between $\\vert \\alpha \\rangle$ and\n",
        "$\\hat{a} \\vert \\alpha \\rangle / \\alpha$."
      ],
      "id": "23f990b5-448d-479b-95a4-5464764c4122"
    },
    {
      "cell_type": "code",
      "execution_count": 11,
      "metadata": {},
      "outputs": [
        {
          "output_type": "display_data",
          "metadata": {},
          "data": {
            "text/plain": [
              "np.float64(0.9999661194274998)"
            ]
          }
        }
      ],
      "source": [
        "qutip.fidelity(a * coherent_state / alpha, coherent_state)"
      ],
      "id": "cell-coherent-state-fidelity"
    },
    {
      "cell_type": "markdown",
      "metadata": {},
      "source": [
        "> **Exercise!**\n",
        ">\n",
        "> The coherent state can be also obtained from the displacement operator\n",
        "> $\\hat{\\mathcal{D}} (\\alpha) = {\\exp} \\left( \\alpha \\hat{a}^\\dagger - \\alpha^* \\hat{a} \\right)$,\n",
        "> through its application to the ground state\n",
        "> $\\vert \\alpha \\rangle = \\hat{\\mathcal{D}} (\\alpha) \\vert 0 \\rangle$.\n",
        ">\n",
        "> Again, computing the exponential of an operator is very easy with\n",
        "> QuTiP, you just need to write `O.expm()`, where `O` is the operator.\n",
        "> Write the coherent state $\\vert \\alpha \\rangle$ from your own, and\n",
        "> then calculate the fidelity ($\\langle \\psi_1 \\vert \\psi_2 \\rangle$)\n",
        "> with the previous state obtained using the built-in `coherent`\n",
        "> function."
      ],
      "id": "be249ad5-0554-4e3a-8b65-a42126890fa3"
    },
    {
      "cell_type": "code",
      "execution_count": 12,
      "metadata": {},
      "outputs": [],
      "source": [
        "# Write your code here...\n"
      ],
      "id": "17d3d298"
    },
    {
      "cell_type": "code",
      "execution_count": 13,
      "metadata": {},
      "outputs": [
        {
          "output_type": "display_data",
          "metadata": {},
          "data": {
            "text/plain": [
              "(1+0j)"
            ]
          }
        }
      ],
      "source": [
        "D = (alpha * a.dag() - alpha.conjugate() * a).expm()\n",
        "\n",
        "coherent_state_2 = D * qutip.fock(d, 0)\n",
        "\n",
        "coherent_state_2.dag() * coherent_state"
      ],
      "id": "3c972a7a"
    },
    {
      "cell_type": "markdown",
      "metadata": {},
      "source": [
        "### Spin States"
      ],
      "id": "54cc6c0d-e1c1-4d58-afe5-72e5812ffdbf"
    },
    {
      "cell_type": "code",
      "execution_count": 14,
      "metadata": {},
      "outputs": [
        {
          "output_type": "display_data",
          "metadata": {},
          "data": {
            "text/plain": [
              "Quantum object: dims=[[2], [1]], shape=(2, 1), type='ket', dtype=Dense\n",
              "Qobj data =\n",
              "[[0.]\n",
              " [1.]]"
            ]
          }
        }
      ],
      "source": [
        "qutip.spin_state(0.5, -1)"
      ],
      "id": "cell-spin-state"
    },
    {
      "cell_type": "markdown",
      "metadata": {},
      "source": [
        "### Density Matrices\n",
        "\n",
        "Quantum states can also be represented using density matrices, which are\n",
        "useful for describing mixed states.\n",
        "\n",
        "#### Creating a Density Matrix\n",
        "\n",
        "Let’s convert our superposition state into a density matrix."
      ],
      "id": "e68703be-89a3-4b0f-9700-6f2c8a3811de"
    },
    {
      "cell_type": "code",
      "execution_count": 15,
      "metadata": {},
      "outputs": [
        {
          "output_type": "stream",
          "name": "stdout",
          "text": [
            "Density matrix of the superposition state:"
          ]
        },
        {
          "output_type": "display_data",
          "metadata": {},
          "data": {
            "text/plain": [
              "Quantum object: dims=[[7], [7]], shape=(7, 7), type='oper', dtype=Dense, isherm=True\n",
              "Qobj data =\n",
              "[[0.5 0.5 0.  0.  0.  0.  0. ]\n",
              " [0.5 0.5 0.  0.  0.  0.  0. ]\n",
              " [0.  0.  0.  0.  0.  0.  0. ]\n",
              " [0.  0.  0.  0.  0.  0.  0. ]\n",
              " [0.  0.  0.  0.  0.  0.  0. ]\n",
              " [0.  0.  0.  0.  0.  0.  0. ]\n",
              " [0.  0.  0.  0.  0.  0.  0. ]]"
            ]
          }
        }
      ],
      "source": [
        "# Creating a density matrix from a state\n",
        "density_matrix = superposition_state * superposition_state.dag()  # Outer product\n",
        "\n",
        "print(\"Density matrix of the superposition state:\")\n",
        "density_matrix"
      ],
      "id": "cell-density-matrix"
    },
    {
      "cell_type": "markdown",
      "metadata": {},
      "source": [
        "### Partial Trace\n",
        "\n",
        "The **partial trace** over a subsystem, say $B$, of a composite system\n",
        "$AB$, mathematically expresses as “tracing out” $B$, leaving the reduced\n",
        "state of $A$. For a bipartite state $\\rho_{AB}$, the partial trace over\n",
        "$B$ is:\n",
        "\n",
        "$$\n",
        "\\text{Tr}_B(\\hat{\\rho}_{AB}) = \\sum_{i \\in \\mathcal{H}_B} \\langle i| \\hat{\\rho}_{AB} |i\\rangle\n",
        "$$\n",
        "\n",
        "where $\\{|i\\rangle\\}$ forms a complete basis for subsystem $B$.\n",
        "\n",
        "Let’s try it with an entangled Bell’s state between two qubits:\n",
        "\n",
        "$$\n",
        "\\vert \\phi^+ \\rangle = \\frac{1}{\\sqrt{2}} \\left( \\vert 0, 0 \\rangle + \\vert 1, 1 \\rangle \\right)\n",
        "$$"
      ],
      "id": "9e3ea103-eb66-468f-a2a1-824715eed76a"
    },
    {
      "cell_type": "code",
      "execution_count": 16,
      "metadata": {},
      "outputs": [
        {
          "output_type": "display_data",
          "metadata": {},
          "data": {
            "text/plain": [
              "Quantum object: dims=[[2], [2]], shape=(2, 2), type='oper', dtype=Dense, isherm=True\n",
              "Qobj data =\n",
              "[[0.5 0. ]\n",
              " [0.  0.5]]"
            ]
          }
        }
      ],
      "source": [
        "# Bell state between two qubits\n",
        "phi_plus = ( qutip.tensor(qutip.spin_state(1/2, -1), qutip.spin_state(1/2, -1)) + qutip.tensor(qutip.spin_state(1/2, 1), qutip.spin_state(1/2, 1)) ).unit()\n",
        "\n",
        "# Reduced density matrix of the first qubit\n",
        "rho_1 = qutip.ptrace(phi_plus, 1)\n",
        "rho_1"
      ],
      "id": "cell-ptrace"
    },
    {
      "cell_type": "markdown",
      "metadata": {},
      "source": [
        "We now apply the partial trace to a more complicated state, that is\n",
        "composed by two bosonic modes and two spins $\\vert j_1, m_1 \\rangle$ and\n",
        "$\\vert j_2, m_2 \\rangle$, with $j_1 = 1$ and $j_2 = \\frac{1}{2}$,\n",
        "$m_1 = 0$, and $m_2 = 1$."
      ],
      "id": "1f1b490b-f524-4c14-b78a-35b428aa90b7"
    },
    {
      "cell_type": "code",
      "execution_count": 17,
      "metadata": {},
      "outputs": [
        {
          "output_type": "display_data",
          "metadata": {},
          "data": {
            "text/plain": [
              "Quantum object: dims=[[7, 7, 3], [7, 7, 3]], shape=(147, 147), type='oper', dtype=Dense, isherm=True\n",
              "Qobj data =\n",
              "[[0. 0. 0. ... 0. 0. 0.]\n",
              " [0. 0. 0. ... 0. 0. 0.]\n",
              " [0. 0. 0. ... 0. 0. 0.]\n",
              " ...\n",
              " [0. 0. 0. ... 0. 0. 0.]\n",
              " [0. 0. 0. ... 0. 0. 0.]\n",
              " [0. 0. 0. ... 0. 0. 0.]]"
            ]
          }
        },
        {
          "output_type": "display_data",
          "metadata": {},
          "data": {
            "text/plain": [
              "Quantum object: dims=[[7, 3], [7, 3]], shape=(21, 21), type='oper', dtype=Dense, isherm=True\n",
              "Qobj data =\n",
              "[[0. 0. 0. 0. 0. 0. 0. 0. 0. 0. 0. 0. 0. 0. 0. 0. 0. 0. 0. 0. 0.]\n",
              " [0. 0. 0. 0. 0. 0. 0. 0. 0. 0. 0. 0. 0. 0. 0. 0. 0. 0. 0. 0. 0.]\n",
              " [0. 0. 0. 0. 0. 0. 0. 0. 0. 0. 0. 0. 0. 0. 0. 0. 0. 0. 0. 0. 0.]\n",
              " [0. 0. 0. 0. 0. 0. 0. 0. 0. 0. 0. 0. 0. 0. 0. 0. 0. 0. 0. 0. 0.]\n",
              " [0. 0. 0. 0. 1. 0. 0. 0. 0. 0. 0. 0. 0. 0. 0. 0. 0. 0. 0. 0. 0.]\n",
              " [0. 0. 0. 0. 0. 0. 0. 0. 0. 0. 0. 0. 0. 0. 0. 0. 0. 0. 0. 0. 0.]\n",
              " [0. 0. 0. 0. 0. 0. 0. 0. 0. 0. 0. 0. 0. 0. 0. 0. 0. 0. 0. 0. 0.]\n",
              " [0. 0. 0. 0. 0. 0. 0. 0. 0. 0. 0. 0. 0. 0. 0. 0. 0. 0. 0. 0. 0.]\n",
              " [0. 0. 0. 0. 0. 0. 0. 0. 0. 0. 0. 0. 0. 0. 0. 0. 0. 0. 0. 0. 0.]\n",
              " [0. 0. 0. 0. 0. 0. 0. 0. 0. 0. 0. 0. 0. 0. 0. 0. 0. 0. 0. 0. 0.]\n",
              " [0. 0. 0. 0. 0. 0. 0. 0. 0. 0. 0. 0. 0. 0. 0. 0. 0. 0. 0. 0. 0.]\n",
              " [0. 0. 0. 0. 0. 0. 0. 0. 0. 0. 0. 0. 0. 0. 0. 0. 0. 0. 0. 0. 0.]\n",
              " [0. 0. 0. 0. 0. 0. 0. 0. 0. 0. 0. 0. 0. 0. 0. 0. 0. 0. 0. 0. 0.]\n",
              " [0. 0. 0. 0. 0. 0. 0. 0. 0. 0. 0. 0. 0. 0. 0. 0. 0. 0. 0. 0. 0.]\n",
              " [0. 0. 0. 0. 0. 0. 0. 0. 0. 0. 0. 0. 0. 0. 0. 0. 0. 0. 0. 0. 0.]\n",
              " [0. 0. 0. 0. 0. 0. 0. 0. 0. 0. 0. 0. 0. 0. 0. 0. 0. 0. 0. 0. 0.]\n",
              " [0. 0. 0. 0. 0. 0. 0. 0. 0. 0. 0. 0. 0. 0. 0. 0. 0. 0. 0. 0. 0.]\n",
              " [0. 0. 0. 0. 0. 0. 0. 0. 0. 0. 0. 0. 0. 0. 0. 0. 0. 0. 0. 0. 0.]\n",
              " [0. 0. 0. 0. 0. 0. 0. 0. 0. 0. 0. 0. 0. 0. 0. 0. 0. 0. 0. 0. 0.]\n",
              " [0. 0. 0. 0. 0. 0. 0. 0. 0. 0. 0. 0. 0. 0. 0. 0. 0. 0. 0. 0. 0.]\n",
              " [0. 0. 0. 0. 0. 0. 0. 0. 0. 0. 0. 0. 0. 0. 0. 0. 0. 0. 0. 0. 0.]]"
            ]
          }
        },
        {
          "output_type": "display_data",
          "metadata": {},
          "data": {
            "text/plain": [
              "Quantum object: dims=[[7], [7]], shape=(7, 7), type='oper', dtype=Dense, isherm=True\n",
              "Qobj data =\n",
              "[[0. 0. 0. 0. 0. 0. 0.]\n",
              " [0. 1. 0. 0. 0. 0. 0.]\n",
              " [0. 0. 0. 0. 0. 0. 0.]\n",
              " [0. 0. 0. 0. 0. 0. 0.]\n",
              " [0. 0. 0. 0. 0. 0. 0.]\n",
              " [0. 0. 0. 0. 0. 0. 0.]\n",
              " [0. 0. 0. 0. 0. 0. 0.]]"
            ]
          }
        }
      ],
      "source": [
        "j1 = 1\n",
        "j2 = 1/2\n",
        "m1 = 0\n",
        "m2 = 1\n",
        "\n",
        "\n",
        "psi = qutip.tensor(qutip.fock(d, 3), qutip.fock(d, 1), qutip.spin_state(j1, 0), qutip.spin_state(j2, 1))\n",
        "\n",
        "# Trace only the second spin state\n",
        "rho_0 = qutip.ptrace(psi, [0, 1, 2])\n",
        "display(rho_0)\n",
        "\n",
        "# Trace only the first bosonic mode and the second spin state\n",
        "rho_1 = qutip.ptrace(psi, [1, 2])\n",
        "display(rho_1)\n",
        "\n",
        "# Trace all except the second bosonic mode\n",
        "rho_2 = qutip.ptrace(psi, [1])\n",
        "rho_2"
      ],
      "id": "ptrace-complex-state"
    },
    {
      "cell_type": "markdown",
      "metadata": {},
      "source": [
        "## Eigenstates and Eigenvalues\n",
        "\n",
        "The eigenstates and eigenvalues of a system or an operator provide\n",
        "crucial insights into its properties. Let’s explore how to calculate\n",
        "these in QuTiP."
      ],
      "id": "532b8ef9-2c90-4136-8dfd-d5d84f3b521d"
    },
    {
      "cell_type": "code",
      "execution_count": 18,
      "metadata": {},
      "outputs": [
        {
          "output_type": "stream",
          "name": "stdout",
          "text": [
            "Eigenvalues of Sigma Z:"
          ]
        },
        {
          "output_type": "display_data",
          "metadata": {},
          "data": {
            "text/plain": [
              "array([-1.,  1.])"
            ]
          }
        },
        {
          "output_type": "stream",
          "name": "stdout",
          "text": [
            "\n",
            "\n",
            "Eigenstates of Sigma Z:"
          ]
        },
        {
          "output_type": "display_data",
          "metadata": {},
          "data": {
            "text/plain": [
              "array([Quantum object: dims=[[2], [1]], shape=(2, 1), type='ket', dtype=Dense\n",
              "       Qobj data =\n",
              "       [[ 0.]\n",
              "        [-1.]]                                                               ,\n",
              "       Quantum object: dims=[[2], [1]], shape=(2, 1), type='ket', dtype=Dense\n",
              "       Qobj data =\n",
              "       [[-1.]\n",
              "        [-0.]]                                                               ],\n",
              "      dtype=object)"
            ]
          }
        }
      ],
      "source": [
        "# Example: Eigenstates and eigenvalues of Pauli Z\n",
        "eigenvalues, eigenstates = sigma_z.eigenstates()\n",
        "\n",
        "print(\"Eigenvalues of Sigma Z:\")\n",
        "display(eigenvalues)\n",
        "print(\"\\n\")\n",
        "print(\"Eigenstates of Sigma Z:\")\n",
        "display(eigenstates)"
      ],
      "id": "eigenstates-eigenvalues"
    },
    {
      "cell_type": "markdown",
      "metadata": {},
      "source": [
        "## Computing Expectation Values\n",
        "\n",
        "For a quantum state $|\\psi\\rangle$ and an operator $\\hat{O}$, the\n",
        "expectation value is given by:\n",
        "\n",
        "$$\n",
        "\\langle \\hat{O} \\rangle = \\langle\\psi| \\hat{O} |\\psi\\rangle\n",
        "$$\n",
        "\n",
        "Let’s compute the expectation value of the number operator\n",
        "$\\hat{n} = \\hat{a}^\\dagger \\hat{a}$ for a coherent state, which\n",
        "represents a quantum state closest to a classical harmonic oscillator."
      ],
      "id": "2ee3b570-6ba4-4fce-8041-17a734c19a72"
    },
    {
      "cell_type": "code",
      "execution_count": 19,
      "metadata": {},
      "outputs": [
        {
          "output_type": "stream",
          "name": "stdout",
          "text": [
            "Expectation value of the number operator for |psi>:"
          ]
        },
        {
          "output_type": "display_data",
          "metadata": {},
          "data": {
            "text/plain": [
              "0.639996733025295"
            ]
          }
        },
        {
          "output_type": "stream",
          "name": "stdout",
          "text": [
            "\n",
            "\n",
            "The squared modulus of alpha is:"
          ]
        },
        {
          "output_type": "display_data",
          "metadata": {},
          "data": {
            "text/plain": [
              "0.6400000000000001"
            ]
          }
        }
      ],
      "source": [
        "# Define the coherent state |psi> with alpha=2\n",
        "alpha = 0.8\n",
        "psi = qutip.coherent(d, alpha)\n",
        "\n",
        "# Define the number operator n = a.dag() * a\n",
        "n = a.dag() * a\n",
        "\n",
        "# Compute the expectation value of n for the state |psi>\n",
        "expectation_value_n = qutip.expect(n, psi)\n",
        "\n",
        "print(\"Expectation value of the number operator for |psi>:\")\n",
        "display(expectation_value_n)\n",
        "print(\"\\n\")\n",
        "print(\"The squared modulus of alpha is:\")\n",
        "display(abs(alpha) ** 2)"
      ],
      "id": "expectation-value"
    },
    {
      "cell_type": "markdown",
      "metadata": {},
      "source": [
        "## A complete example: the Quantum Harmonic Oscillator\n",
        "\n",
        "In the energy eigenbasis, the quantum harmonic oscillator is described\n",
        "by the Hamiltonian\n",
        "\n",
        "$$\n",
        "\\hat{H} = \\omega \\hat{a}^\\dagger \\hat{a} \\, ,\n",
        "$$\n",
        "\n",
        "where $\\omega$ is the resonance frequency and $\\hat{a}$ is the bosonic\n",
        "annihilation operator. In this basis, the Hamiltonian is indeed\n",
        "diagonal, with eigenvalues $E_n = \\omega n$, where $n \\in \\mathbb{N}$."
      ],
      "id": "dd28c8b3-8790-4888-95b4-08de20a0b73e"
    },
    {
      "cell_type": "code",
      "execution_count": 20,
      "metadata": {},
      "outputs": [
        {
          "output_type": "display_data",
          "metadata": {},
          "data": {
            "text/plain": [
              "Quantum object: dims=[[120], [120]], shape=(120, 120), type='oper', dtype=Dia, isherm=True\n",
              "Qobj data =\n",
              "[[  0.   0.   0. ...   0.   0.   0.]\n",
              " [  0.   1.   0. ...   0.   0.   0.]\n",
              " [  0.   0.   2. ...   0.   0.   0.]\n",
              " ...\n",
              " [  0.   0.   0. ... 117.   0.   0.]\n",
              " [  0.   0.   0. ...   0. 118.   0.]\n",
              " [  0.   0.   0. ...   0.   0. 119.]]"
            ]
          }
        }
      ],
      "source": [
        "N = 120 # Hilbert space cutoff\n",
        "w = 1 # Resonance frequency of the harmonic oscillator\n",
        "\n",
        "a = qutip.destroy(N)\n",
        "\n",
        "H = w * a.dag() * a\n",
        "\n",
        "H"
      ],
      "id": "cell-hamiltonian"
    },
    {
      "cell_type": "markdown",
      "metadata": {},
      "source": [
        "## Passing in the position basis\n",
        "\n",
        "From the classical point of view, we are used to describe the harmonic\n",
        "oscillator in terms of position and momentum. In quantum mechanics, we\n",
        "can also express the system in terms of the position and momentum\n",
        "operators, which are related to the annihilation and creation operators\n",
        "as follows ($\\hbar = 1$):\n",
        "\n",
        "We first check that\n",
        "\n",
        "$$\n",
        "\\left[ \\hat{x}, \\hat{p} \\right] = i\n",
        "$$"
      ],
      "id": "d3276e7a-a4cf-429b-9ac2-16f94084271f"
    },
    {
      "cell_type": "code",
      "execution_count": 21,
      "metadata": {},
      "outputs": [
        {
          "output_type": "display_data",
          "metadata": {},
          "data": {
            "text/plain": [
              "Quantum object: dims=[[120], [120]], shape=(120, 120), type='oper', dtype=Dia, isherm=False\n",
              "Qobj data =\n",
              "[[0.  +1.j 0.  +0.j 0.  +0.j ... 0.  +0.j 0.  +0.j 0.  +0.j]\n",
              " [0.  +0.j 0.  +1.j 0.  +0.j ... 0.  +0.j 0.  +0.j 0.  +0.j]\n",
              " [0.  +0.j 0.  +0.j 0.  +1.j ... 0.  +0.j 0.  +0.j 0.  +0.j]\n",
              " ...\n",
              " [0.  +0.j 0.  +0.j 0.  +0.j ... 0.  +1.j 0.  +0.j 0.  +0.j]\n",
              " [0.  +0.j 0.  +0.j 0.  +0.j ... 0.  +0.j 0.  +1.j 0.  +0.j]\n",
              " [0.  +0.j 0.  +0.j 0.  +0.j ... 0.  +0.j 0.  +0.j 0.-119.j]]"
            ]
          }
        }
      ],
      "source": [
        "m = 0.5\n",
        "\n",
        "x = (a + a.dag()) / np.sqrt(2 * m * w)\n",
        "p = - 1j * (a - a.dag()) * np.sqrt(m * w / 2)\n",
        "\n",
        "qutip.commutator(x, p)"
      ],
      "id": "cell-commutator-check"
    },
    {
      "cell_type": "markdown",
      "metadata": {},
      "source": [
        "We now numerically diagonalize the position operator $\\hat{x}$, such\n",
        "that $\\hat{U}^\\dagger \\hat{x} \\hat{U}$ is diagonal. Then we plot the\n",
        "eigenstates of the quantum harmonic oscillator in the new basis,\n",
        "obtained with\n",
        "\n",
        "$$\n",
        "\\vert \\phi_n (x) \\rangle = \\hat{U}^\\dagger \\vert \\psi_n \\rangle\n",
        "$$"
      ],
      "id": "6b8ecf9a-d072-475d-a686-4d198bcd6a30"
    },
    {
      "cell_type": "code",
      "execution_count": 22,
      "metadata": {},
      "outputs": [
        {
          "output_type": "display_data",
          "metadata": {},
          "data": {
            "image/svg+xml": "PHN2ZyB4bWxuczp4bGluaz0iaHR0cDovL3d3dy53My5vcmcvMTk5OS94bGluayIgeG1sbnM9Imh0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\nPgogIDwvY2xpcFBhdGg+CiA8L2RlZnM+Cjwvc3ZnPg==\n"
          }
        }
      ],
      "source": [
        "import matplotlib.pyplot as plt\n",
        "\n",
        "E, T = x.eigenstates()\n",
        "\n",
        "U = np.zeros((N, N)).astype(np.complex128)\n",
        "for i in range(N):\n",
        "    U[:,i] = T[i].full().flatten()\n",
        "\n",
        "U = qutip.Qobj(U)\n",
        "\n",
        "xlist = ( U.dag() * x * U ).diag()\n",
        "dx = xlist[1] - xlist[0]\n",
        "\n",
        "# Harmonic potential\n",
        "V = w**2 / 2 * xlist**2\n",
        "\n",
        "fig, ax = plt.subplots()\n",
        "\n",
        "ax.plot(xlist, V, color=\"black\", ls=\"--\", lw=2)\n",
        "for i in range(5):\n",
        "    factor = 5 # The purpose of this factor is to only make more visible the states\n",
        "    ax.plot(xlist, factor * np.abs( (U.dag() * qutip.fock(N, i)).full() )**2 + i * w + w/2, lw=2)\n",
        "\n",
        "ax.set_xlabel(r\"$x$\")\n",
        "ax.set_xlim(-5, 5)\n",
        "ax.set_ylim(0, 5)\n",
        "\n",
        "# Show in Quarto\n",
        "plt.savefig('_tmp_fig.svg')\n",
        "plt.close(fig)\n",
        "SVG(filename='_tmp_fig.svg')"
      ],
      "id": "cell-position-eigenbasis"
    }
  ],
  "nbformat": 4,
  "nbformat_minor": 5,
  "metadata": {
    "kernelspec": {
      "name": "python3",
      "display_name": "Python 3 (ipykernel)",
      "language": "python",
      "path": "/opt/hostedtoolcache/Python/3.13.3/x64/share/jupyter/kernels/python3"
    },
    "language_info": {
      "name": "python",
      "codemirror_mode": {
        "name": "ipython",
        "version": "3"
      },
      "file_extension": ".py",
      "mimetype": "text/x-python",
      "nbconvert_exporter": "python",
      "pygments_lexer": "ipython3",
      "version": "3.13.3"
    }
  }
}