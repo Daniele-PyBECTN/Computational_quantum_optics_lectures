{
  "cells": [
    {
      "cell_type": "markdown",
      "metadata": {},
      "source": [
        "# Introduction to QuTiP\n",
        "\n",
        "The QuTiP package can be imported with"
      ],
      "id": "ceeade15-cad7-4f6f-a19d-d74209c28e09"
    },
    {
      "cell_type": "code",
      "execution_count": 2,
      "metadata": {},
      "outputs": [],
      "source": [
        "import qutip\n",
        "import numpy as np"
      ],
      "id": "qutip-import"
    },
    {
      "cell_type": "markdown",
      "metadata": {},
      "source": [
        "It can also be imported with the command `from qutip import *`, that\n",
        "automatically imports all the QuTiP functions. However, here we use the\n",
        "first method, in order to explicitly see the QuTiP functions."
      ],
      "id": "05df5c50-5147-4984-a6f7-e7f135724534"
    },
    {
      "cell_type": "code",
      "execution_count": 3,
      "metadata": {},
      "outputs": [
        {
          "output_type": "stream",
          "name": "stdout",
          "text": [
            "\n",
            "QuTiP: Quantum Toolbox in Python\n",
            "================================\n",
            "Copyright (c) QuTiP team 2011 and later.\n",
            "Current admin team: Alexander Pitchford, Nathan Shammah, Shahnawaz Ahmed, Neill Lambert, Eric Giguère, Boxi Li, Simon Cross, Asier Galicia, Paul Menczel, and Patrick Hopf.\n",
            "Board members: Daniel Burgarth, Robert Johansson, Anton F. Kockum, Franco Nori and Will Zeng.\n",
            "Original developers: R. J. Johansson & P. D. Nation.\n",
            "Previous lead developers: Chris Granade & A. Grimsmo.\n",
            "Currently developed through wide collaboration. See https://github.com/qutip for details.\n",
            "\n",
            "QuTiP Version:      5.1.1\n",
            "Numpy Version:      2.2.6\n",
            "Scipy Version:      1.15.3\n",
            "Cython Version:     3.1.1\n",
            "Matplotlib Version: 3.10.3\n",
            "Python Version:     3.13.3\n",
            "Number of CPUs:     4\n",
            "BLAS Info:          Generic\n",
            "INTEL MKL Ext:      None\n",
            "Platform Info:      Linux (x86_64)\n",
            "Installation path:  /opt/hostedtoolcache/Python/3.13.3/x64/lib/python3.13/site-packages/qutip\n",
            "\n",
            "Installed QuTiP family packages\n",
            "-------------------------------\n",
            "\n",
            "No QuTiP family packages installed.\n",
            "\n",
            "================================================================================\n",
            "Please cite QuTiP in your publication.\n",
            "================================================================================\n",
            "For your convenience a bibtex reference can be easily generated using `qutip.cite()`"
          ]
        }
      ],
      "source": [
        "qutip.about()"
      ],
      "id": "qutip-about"
    },
    {
      "cell_type": "markdown",
      "metadata": {},
      "source": [
        "## Quantum Operators\n",
        "\n",
        "### Creating Operators\n",
        "\n",
        "Operators in quantum mechanics can represent measurements, such as\n",
        "position or momentum, and transformations, such as rotation. Let’s see\n",
        "how we can define some common operators in QuTiP.\n",
        "\n",
        "#### The Annihilation Operator of the Quantum Harmonic oscillator\n",
        "\n",
        "The matrix representation of the annihilation operator in an\n",
        "$d$-dimensional Hilbert space is given by an upper triangular matrix\n",
        "with the square roots of natural numbers as its off-diagonal elements."
      ],
      "id": "6bffa784-136f-4cbf-8131-694a13712f2d"
    },
    {
      "cell_type": "code",
      "execution_count": 4,
      "metadata": {},
      "outputs": [
        {
          "output_type": "stream",
          "name": "stdout",
          "text": [
            "Annihilation operator (a) for d=7:"
          ]
        },
        {
          "output_type": "display_data",
          "metadata": {},
          "data": {
            "text/plain": [
              "Quantum object: dims=[[7], [7]], shape=(7, 7), type='oper', dtype=Dia, isherm=False\n",
              "Qobj data =\n",
              "[[0.         1.         0.         0.         0.         0.\n",
              "  0.        ]\n",
              " [0.         0.         1.41421356 0.         0.         0.\n",
              "  0.        ]\n",
              " [0.         0.         0.         1.73205081 0.         0.\n",
              "  0.        ]\n",
              " [0.         0.         0.         0.         2.         0.\n",
              "  0.        ]\n",
              " [0.         0.         0.         0.         0.         2.23606798\n",
              "  0.        ]\n",
              " [0.         0.         0.         0.         0.         0.\n",
              "  2.44948974]\n",
              " [0.         0.         0.         0.         0.         0.\n",
              "  0.        ]]"
            ]
          }
        }
      ],
      "source": [
        "# Define the annihilation operator for d-dimensional Hilbert space\n",
        "d = 7\n",
        "\n",
        "a = qutip.destroy(d)\n",
        "\n",
        "print(\"Annihilation operator (a) for d=7:\")\n",
        "a"
      ],
      "id": "cell-annihilation-operator"
    },
    {
      "cell_type": "markdown",
      "metadata": {},
      "source": [
        "#### Pauli Matrices\n",
        "\n",
        "We can define the Pauli matrices in QuTiP as follows:"
      ],
      "id": "d02c59a2-69d0-433f-8947-6750c598b9b5"
    },
    {
      "cell_type": "code",
      "execution_count": 5,
      "metadata": {},
      "outputs": [
        {
          "output_type": "stream",
          "name": "stdout",
          "text": [
            "Sigma X:"
          ]
        },
        {
          "output_type": "display_data",
          "metadata": {},
          "data": {
            "text/plain": [
              "Quantum object: dims=[[2], [2]], shape=(2, 2), type='oper', dtype=CSR, isherm=True\n",
              "Qobj data =\n",
              "[[0. 1.]\n",
              " [1. 0.]]"
            ]
          }
        },
        {
          "output_type": "stream",
          "name": "stdout",
          "text": [
            "\n",
            "\n",
            "Sigma Y:"
          ]
        },
        {
          "output_type": "display_data",
          "metadata": {},
          "data": {
            "text/plain": [
              "Quantum object: dims=[[2], [2]], shape=(2, 2), type='oper', dtype=CSR, isherm=True\n",
              "Qobj data =\n",
              "[[0.+0.j 0.-1.j]\n",
              " [0.+1.j 0.+0.j]]"
            ]
          }
        },
        {
          "output_type": "stream",
          "name": "stdout",
          "text": [
            "\n",
            "\n",
            "Sigma Z:"
          ]
        },
        {
          "output_type": "display_data",
          "metadata": {},
          "data": {
            "text/plain": [
              "Quantum object: dims=[[2], [2]], shape=(2, 2), type='oper', dtype=CSR, isherm=True\n",
              "Qobj data =\n",
              "[[ 1.  0.]\n",
              " [ 0. -1.]]"
            ]
          }
        }
      ],
      "source": [
        "sigma_x = qutip.sigmax()\n",
        "sigma_y = qutip.sigmay()\n",
        "sigma_z = qutip.sigmaz()\n",
        "\n",
        "print(\"Sigma X:\")\n",
        "display(sigma_x)\n",
        "print(\"\\n\")\n",
        "print(\"Sigma Y:\")\n",
        "display(sigma_y)\n",
        "print(\"\\n\")\n",
        "print(\"Sigma Z:\")\n",
        "sigma_z"
      ],
      "id": "pauli-matrices"
    },
    {
      "cell_type": "markdown",
      "metadata": {},
      "source": [
        "### Operator Functions and Operations\n",
        "\n",
        "QuTiP supports various operations on operators, including addition,\n",
        "multiplication (both scalar and matrix), and the commutator.\n",
        "\n",
        "#### Example: Commutator of Pauli Matrices\n",
        "\n",
        "Let’s calculate the commutator of $\\sigma_x$ and $\\sigma_y$."
      ],
      "id": "90e3599f-9785-4508-a198-b788cdac25f8"
    },
    {
      "cell_type": "code",
      "execution_count": 6,
      "metadata": {},
      "outputs": [
        {
          "output_type": "stream",
          "name": "stdout",
          "text": [
            "Commutator of Sigma X and Sigma Y:"
          ]
        },
        {
          "output_type": "display_data",
          "metadata": {},
          "data": {
            "text/plain": [
              "Quantum object: dims=[[2], [2]], shape=(2, 2), type='oper', dtype=CSR, isherm=False\n",
              "Qobj data =\n",
              "[[0.+2.j 0.+0.j]\n",
              " [0.+0.j 0.-2.j]]"
            ]
          }
        },
        {
          "output_type": "display_data",
          "metadata": {},
          "data": {
            "text/plain": [
              "True"
            ]
          }
        }
      ],
      "source": [
        "commutator_xy = qutip.commutator(sigma_x, sigma_y)\n",
        "print(\"Commutator of Sigma X and Sigma Y:\")\n",
        "display(commutator_xy)\n",
        "commutator_xy == 2j * sigma_z"
      ],
      "id": "commutator-example"
    },
    {
      "cell_type": "markdown",
      "metadata": {},
      "source": [
        "## Quantum States\n",
        "\n",
        "This section focuses on the representation and manipulation of quantum\n",
        "states.\n",
        "\n",
        "### Fock States\n",
        "\n",
        "The most basic quantum states are the fock states, often denoted as\n",
        "$|n\\rangle$ (with $n \\in \\mathbb{N}$). Let’s see how we can create these\n",
        "in QuTiP.\n",
        "\n",
        "> **Exercise!**\n",
        ">\n",
        "> Taking as an example **?@sec-quantum-objects-numpy**, create two fock\n",
        "> states $\\vert 0 \\rangle$ and $\\vert 1 \\rangle$ with Hilbert space\n",
        "> dimension $d$, using the QuTiP routines instead of a handmade\n",
        "> functions. Call them `fock_0` and `fock_1`, respectively."
      ],
      "id": "869bba1a-1662-4195-988f-bfc560d82fcb"
    },
    {
      "cell_type": "code",
      "execution_count": 7,
      "metadata": {},
      "outputs": [],
      "source": [
        "# Write your code here...\n"
      ],
      "id": "c29c8130"
    },
    {
      "cell_type": "code",
      "execution_count": 8,
      "metadata": {},
      "outputs": [
        {
          "output_type": "stream",
          "name": "stdout",
          "text": [
            "|0> state:"
          ]
        },
        {
          "output_type": "display_data",
          "metadata": {},
          "data": {
            "text/plain": [
              "Quantum object: dims=[[7], [1]], shape=(7, 1), type='ket', dtype=Dense\n",
              "Qobj data =\n",
              "[[1.]\n",
              " [0.]\n",
              " [0.]\n",
              " [0.]\n",
              " [0.]\n",
              " [0.]\n",
              " [0.]]"
            ]
          }
        },
        {
          "output_type": "stream",
          "name": "stdout",
          "text": [
            "\n",
            "\n",
            "|1> state:"
          ]
        },
        {
          "output_type": "display_data",
          "metadata": {},
          "data": {
            "text/plain": [
              "Quantum object: dims=[[7], [1]], shape=(7, 1), type='ket', dtype=Dense\n",
              "Qobj data =\n",
              "[[0.]\n",
              " [1.]\n",
              " [0.]\n",
              " [0.]\n",
              " [0.]\n",
              " [0.]\n",
              " [0.]]"
            ]
          }
        }
      ],
      "source": [
        "fock_0 = qutip.fock(d, 0)  # |0>\n",
        "fock_1 = qutip.fock(d, 1)  # |1>\n",
        "\n",
        "print(\"|0> state:\")\n",
        "display(fock_0)\n",
        "print(\"\\n\")\n",
        "print(\"|1> state:\")\n",
        "display(fock_1)"
      ],
      "id": "d9b99451"
    },
    {
      "cell_type": "markdown",
      "metadata": {},
      "source": [
        "### Superposition States\n",
        "\n",
        "Quantum mechanics allows particles to be in a superposition of states.\n",
        "Let’s create a superposition state.\n",
        "\n",
        "$$\n",
        "\\vert \\psi \\rangle = \\frac{1}{\\sqrt{2}} \\left( \\vert 0 \\rangle + \\vert 1 \\rangle \\right)\n",
        "$$"
      ],
      "id": "61723f93-fbcb-4aac-b9b4-5a31d514e503"
    },
    {
      "cell_type": "code",
      "execution_count": 9,
      "metadata": {},
      "outputs": [
        {
          "output_type": "stream",
          "name": "stdout",
          "text": [
            "Superposition state:"
          ]
        },
        {
          "output_type": "display_data",
          "metadata": {},
          "data": {
            "text/plain": [
              "Quantum object: dims=[[7], [1]], shape=(7, 1), type='ket', dtype=Dense\n",
              "Qobj data =\n",
              "[[0.70710678]\n",
              " [0.70710678]\n",
              " [0.        ]\n",
              " [0.        ]\n",
              " [0.        ]\n",
              " [0.        ]\n",
              " [0.        ]]"
            ]
          }
        }
      ],
      "source": [
        "fock_0 = qutip.fock(d, 0)  # Fock state |0>\n",
        "fock_1 = qutip.fock(d, 1)  # Fock state |1>\n",
        "\n",
        "# Creating a superposition state\n",
        "superposition_state = (fock_0 + fock_1).unit()  # Normalize the state\n",
        "\n",
        "print(\"Superposition state:\")\n",
        "superposition_state"
      ],
      "id": "cell-superposition-state"
    },
    {
      "cell_type": "markdown",
      "metadata": {},
      "source": [
        "### Coherent States\n",
        "\n",
        "Coherent states in QuTiP represent quantum states closest to classical\n",
        "waves, defined as $$\n",
        "|\\alpha\\rangle = e^{-|\\alpha|^2/2} \\sum_{n=0}^{\\infty} \\frac{\\alpha^n}{\\sqrt{n!}} |n\\rangle \\, ,\n",
        "$$\n",
        "\n",
        "with minimal uncertainty.\n",
        "\n",
        "The coherent state is an eigenstate of the annihilation operator $$\n",
        "\\hat{a} \\vert \\alpha \\rangle = \\alpha \\vert \\alpha \\rangle\n",
        "$$\n",
        "\n",
        "> **Warning!**\n",
        ">\n",
        "> Remember that every `Qobj` lives in a truncated Hilbert space. If the\n",
        "> $\\alpha$ value is too large, the state will become a non-physical\n",
        "> state because it will touch the high energy levels of the truncated\n",
        "> Hilbert space."
      ],
      "id": "cbb15dbd-5962-44fb-9fcd-39337d14812e"
    },
    {
      "cell_type": "code",
      "execution_count": 10,
      "metadata": {},
      "outputs": [
        {
          "output_type": "display_data",
          "metadata": {},
          "data": {
            "text/plain": [
              "Quantum object: dims=[[7], [1]], shape=(7, 1), type='ket', dtype=Dense\n",
              "Qobj data =\n",
              "[[0.72614904]\n",
              " [0.58091919]\n",
              " [0.32861796]\n",
              " [0.1517784 ]\n",
              " [0.06073653]\n",
              " [0.02159193]\n",
              " [0.00767346]]"
            ]
          }
        }
      ],
      "source": [
        "alpha = 0.8\n",
        "coherent_state = qutip.coherent(d, alpha)\n",
        "\n",
        "coherent_state"
      ],
      "id": "cell-coherent-state"
    },
    {
      "cell_type": "markdown",
      "metadata": {},
      "source": [
        "Let’s compute the fidelity between $\\vert \\alpha \\rangle$ and\n",
        "$\\hat{a} \\vert \\alpha \\rangle / \\alpha$."
      ],
      "id": "3ae67bb6-78e2-4399-b821-2293641ea873"
    },
    {
      "cell_type": "code",
      "execution_count": 11,
      "metadata": {},
      "outputs": [
        {
          "output_type": "display_data",
          "metadata": {},
          "data": {
            "text/plain": [
              "np.float64(0.9999661194274998)"
            ]
          }
        }
      ],
      "source": [
        "qutip.fidelity(a * coherent_state / alpha, coherent_state)"
      ],
      "id": "cell-coherent-state-fidelity"
    },
    {
      "cell_type": "markdown",
      "metadata": {},
      "source": [
        "> **Exercise!**\n",
        ">\n",
        "> The coherent state can be also obtained from the displacement operator\n",
        "> $\\hat{\\mathcal{D}} (\\alpha) = {\\exp} \\left( \\alpha \\hat{a}^\\dagger - \\alpha^* \\hat{a} \\right)$,\n",
        "> through its application to the ground state\n",
        "> $\\vert \\alpha \\rangle = \\hat{\\mathcal{D}} (\\alpha) \\vert 0 \\rangle$.\n",
        ">\n",
        "> Again, computing the exponential of an operator is very easy with\n",
        "> QuTiP, you just need to write `O.expm()`, where `O` is the operator.\n",
        "> Write the coherent state $\\vert \\alpha \\rangle$ from your own, and\n",
        "> then calculate the fidelity ($\\langle \\psi_1 \\vert \\psi_2 \\rangle$)\n",
        "> with the previous state obtained using the built-in `coherent`\n",
        "> function."
      ],
      "id": "4c6dd4b1-47f0-460c-bed7-10d8c5d5270c"
    },
    {
      "cell_type": "code",
      "execution_count": 12,
      "metadata": {},
      "outputs": [],
      "source": [
        "# Write your code here...\n"
      ],
      "id": "67e393ce"
    },
    {
      "cell_type": "code",
      "execution_count": 13,
      "metadata": {},
      "outputs": [
        {
          "output_type": "display_data",
          "metadata": {},
          "data": {
            "text/plain": [
              "(1+0j)"
            ]
          }
        }
      ],
      "source": [
        "D = (alpha * a.dag() - alpha.conjugate() * a).expm()\n",
        "\n",
        "coherent_state_2 = D * qutip.fock(d, 0)\n",
        "\n",
        "coherent_state_2.dag() * coherent_state"
      ],
      "id": "630f24ca"
    },
    {
      "cell_type": "markdown",
      "metadata": {},
      "source": [
        "### Spin States"
      ],
      "id": "e478eb4c-6064-47ad-9236-7d99bca5c3ab"
    },
    {
      "cell_type": "code",
      "execution_count": 14,
      "metadata": {},
      "outputs": [
        {
          "output_type": "display_data",
          "metadata": {},
          "data": {
            "text/plain": [
              "Quantum object: dims=[[2], [1]], shape=(2, 1), type='ket', dtype=Dense\n",
              "Qobj data =\n",
              "[[0.]\n",
              " [1.]]"
            ]
          }
        }
      ],
      "source": [
        "qutip.spin_state(0.5, -1)"
      ],
      "id": "cell-spin-state"
    },
    {
      "cell_type": "markdown",
      "metadata": {},
      "source": [
        "### Density Matrices\n",
        "\n",
        "Quantum states can also be represented using density matrices, which are\n",
        "useful for describing mixed states.\n",
        "\n",
        "#### Creating a Density Matrix\n",
        "\n",
        "Let’s convert our superposition state into a density matrix."
      ],
      "id": "d78b7c2f-1402-45b4-87c1-e5f1a72081d0"
    },
    {
      "cell_type": "code",
      "execution_count": 15,
      "metadata": {},
      "outputs": [
        {
          "output_type": "stream",
          "name": "stdout",
          "text": [
            "Density matrix of the superposition state:"
          ]
        },
        {
          "output_type": "display_data",
          "metadata": {},
          "data": {
            "text/plain": [
              "Quantum object: dims=[[7], [7]], shape=(7, 7), type='oper', dtype=Dense, isherm=True\n",
              "Qobj data =\n",
              "[[0.5 0.5 0.  0.  0.  0.  0. ]\n",
              " [0.5 0.5 0.  0.  0.  0.  0. ]\n",
              " [0.  0.  0.  0.  0.  0.  0. ]\n",
              " [0.  0.  0.  0.  0.  0.  0. ]\n",
              " [0.  0.  0.  0.  0.  0.  0. ]\n",
              " [0.  0.  0.  0.  0.  0.  0. ]\n",
              " [0.  0.  0.  0.  0.  0.  0. ]]"
            ]
          }
        }
      ],
      "source": [
        "# Creating a density matrix from a state\n",
        "density_matrix = superposition_state * superposition_state.dag()  # Outer product\n",
        "\n",
        "print(\"Density matrix of the superposition state:\")\n",
        "density_matrix"
      ],
      "id": "cell-density-matrix"
    },
    {
      "cell_type": "markdown",
      "metadata": {},
      "source": [
        "### Partial Trace\n",
        "\n",
        "The **partial trace** over a subsystem, say $B$, of a composite system\n",
        "$AB$, mathematically expresses as “tracing out” $B$, leaving the reduced\n",
        "state of $A$. For a bipartite state $\\rho_{AB}$, the partial trace over\n",
        "$B$ is:\n",
        "\n",
        "$$\n",
        "\\text{Tr}_B(\\hat{\\rho}_{AB}) = \\sum_{i \\in \\mathcal{H}_B} \\langle i| \\hat{\\rho}_{AB} |i\\rangle\n",
        "$$\n",
        "\n",
        "where $\\{|i\\rangle\\}$ forms a complete basis for subsystem $B$.\n",
        "\n",
        "Let’s try it with an entangled Bell’s state between two qubits:\n",
        "\n",
        "$$\n",
        "\\vert \\phi^+ \\rangle = \\frac{1}{\\sqrt{2}} \\left( \\vert 0, 0 \\rangle + \\vert 1, 1 \\rangle \\right)\n",
        "$$"
      ],
      "id": "112074ca-4094-43f7-b337-260dcb091a3e"
    },
    {
      "cell_type": "code",
      "execution_count": 16,
      "metadata": {},
      "outputs": [
        {
          "output_type": "display_data",
          "metadata": {},
          "data": {
            "text/plain": [
              "Quantum object: dims=[[2], [2]], shape=(2, 2), type='oper', dtype=Dense, isherm=True\n",
              "Qobj data =\n",
              "[[0.5 0. ]\n",
              " [0.  0.5]]"
            ]
          }
        }
      ],
      "source": [
        "# Bell state between two qubits\n",
        "phi_plus = ( qutip.tensor(qutip.spin_state(1/2, -1), qutip.spin_state(1/2, -1)) + qutip.tensor(qutip.spin_state(1/2, 1), qutip.spin_state(1/2, 1)) ).unit()\n",
        "\n",
        "# Reduced density matrix of the first qubit\n",
        "rho_1 = qutip.ptrace(phi_plus, 1)\n",
        "rho_1"
      ],
      "id": "cell-ptrace"
    },
    {
      "cell_type": "markdown",
      "metadata": {},
      "source": [
        "We now apply the partial trace to a more complicated state, that is\n",
        "composed by two bosonic modes and two spins $\\vert j_1, m_1 \\rangle$ and\n",
        "$\\vert j_2, m_2 \\rangle$, with $j_1 = 1$ and $j_2 = \\frac{1}{2}$,\n",
        "$m_1 = 0$, and $m_2 = 1$."
      ],
      "id": "f9b68f09-cd22-4389-bcaa-cc6c314b1e86"
    },
    {
      "cell_type": "code",
      "execution_count": 17,
      "metadata": {},
      "outputs": [
        {
          "output_type": "display_data",
          "metadata": {},
          "data": {
            "text/plain": [
              "Quantum object: dims=[[7, 7, 3], [7, 7, 3]], shape=(147, 147), type='oper', dtype=Dense, isherm=True\n",
              "Qobj data =\n",
              "[[0. 0. 0. ... 0. 0. 0.]\n",
              " [0. 0. 0. ... 0. 0. 0.]\n",
              " [0. 0. 0. ... 0. 0. 0.]\n",
              " ...\n",
              " [0. 0. 0. ... 0. 0. 0.]\n",
              " [0. 0. 0. ... 0. 0. 0.]\n",
              " [0. 0. 0. ... 0. 0. 0.]]"
            ]
          }
        },
        {
          "output_type": "display_data",
          "metadata": {},
          "data": {
            "text/plain": [
              "Quantum object: dims=[[7, 3], [7, 3]], shape=(21, 21), type='oper', dtype=Dense, isherm=True\n",
              "Qobj data =\n",
              "[[0. 0. 0. 0. 0. 0. 0. 0. 0. 0. 0. 0. 0. 0. 0. 0. 0. 0. 0. 0. 0.]\n",
              " [0. 0. 0. 0. 0. 0. 0. 0. 0. 0. 0. 0. 0. 0. 0. 0. 0. 0. 0. 0. 0.]\n",
              " [0. 0. 0. 0. 0. 0. 0. 0. 0. 0. 0. 0. 0. 0. 0. 0. 0. 0. 0. 0. 0.]\n",
              " [0. 0. 0. 0. 0. 0. 0. 0. 0. 0. 0. 0. 0. 0. 0. 0. 0. 0. 0. 0. 0.]\n",
              " [0. 0. 0. 0. 1. 0. 0. 0. 0. 0. 0. 0. 0. 0. 0. 0. 0. 0. 0. 0. 0.]\n",
              " [0. 0. 0. 0. 0. 0. 0. 0. 0. 0. 0. 0. 0. 0. 0. 0. 0. 0. 0. 0. 0.]\n",
              " [0. 0. 0. 0. 0. 0. 0. 0. 0. 0. 0. 0. 0. 0. 0. 0. 0. 0. 0. 0. 0.]\n",
              " [0. 0. 0. 0. 0. 0. 0. 0. 0. 0. 0. 0. 0. 0. 0. 0. 0. 0. 0. 0. 0.]\n",
              " [0. 0. 0. 0. 0. 0. 0. 0. 0. 0. 0. 0. 0. 0. 0. 0. 0. 0. 0. 0. 0.]\n",
              " [0. 0. 0. 0. 0. 0. 0. 0. 0. 0. 0. 0. 0. 0. 0. 0. 0. 0. 0. 0. 0.]\n",
              " [0. 0. 0. 0. 0. 0. 0. 0. 0. 0. 0. 0. 0. 0. 0. 0. 0. 0. 0. 0. 0.]\n",
              " [0. 0. 0. 0. 0. 0. 0. 0. 0. 0. 0. 0. 0. 0. 0. 0. 0. 0. 0. 0. 0.]\n",
              " [0. 0. 0. 0. 0. 0. 0. 0. 0. 0. 0. 0. 0. 0. 0. 0. 0. 0. 0. 0. 0.]\n",
              " [0. 0. 0. 0. 0. 0. 0. 0. 0. 0. 0. 0. 0. 0. 0. 0. 0. 0. 0. 0. 0.]\n",
              " [0. 0. 0. 0. 0. 0. 0. 0. 0. 0. 0. 0. 0. 0. 0. 0. 0. 0. 0. 0. 0.]\n",
              " [0. 0. 0. 0. 0. 0. 0. 0. 0. 0. 0. 0. 0. 0. 0. 0. 0. 0. 0. 0. 0.]\n",
              " [0. 0. 0. 0. 0. 0. 0. 0. 0. 0. 0. 0. 0. 0. 0. 0. 0. 0. 0. 0. 0.]\n",
              " [0. 0. 0. 0. 0. 0. 0. 0. 0. 0. 0. 0. 0. 0. 0. 0. 0. 0. 0. 0. 0.]\n",
              " [0. 0. 0. 0. 0. 0. 0. 0. 0. 0. 0. 0. 0. 0. 0. 0. 0. 0. 0. 0. 0.]\n",
              " [0. 0. 0. 0. 0. 0. 0. 0. 0. 0. 0. 0. 0. 0. 0. 0. 0. 0. 0. 0. 0.]\n",
              " [0. 0. 0. 0. 0. 0. 0. 0. 0. 0. 0. 0. 0. 0. 0. 0. 0. 0. 0. 0. 0.]]"
            ]
          }
        },
        {
          "output_type": "display_data",
          "metadata": {},
          "data": {
            "text/plain": [
              "Quantum object: dims=[[7], [7]], shape=(7, 7), type='oper', dtype=Dense, isherm=True\n",
              "Qobj data =\n",
              "[[0. 0. 0. 0. 0. 0. 0.]\n",
              " [0. 1. 0. 0. 0. 0. 0.]\n",
              " [0. 0. 0. 0. 0. 0. 0.]\n",
              " [0. 0. 0. 0. 0. 0. 0.]\n",
              " [0. 0. 0. 0. 0. 0. 0.]\n",
              " [0. 0. 0. 0. 0. 0. 0.]\n",
              " [0. 0. 0. 0. 0. 0. 0.]]"
            ]
          }
        }
      ],
      "source": [
        "j1 = 1\n",
        "j2 = 1/2\n",
        "m1 = 0\n",
        "m2 = 1\n",
        "\n",
        "\n",
        "psi = qutip.tensor(qutip.fock(d, 3), qutip.fock(d, 1), qutip.spin_state(j1, 0), qutip.spin_state(j2, 1))\n",
        "\n",
        "# Trace only the second spin state\n",
        "rho_0 = qutip.ptrace(psi, [0, 1, 2])\n",
        "display(rho_0)\n",
        "\n",
        "# Trace only the first bosonic mode and the second spin state\n",
        "rho_1 = qutip.ptrace(psi, [1, 2])\n",
        "display(rho_1)\n",
        "\n",
        "# Trace all except the second bosonic mode\n",
        "rho_2 = qutip.ptrace(psi, [1])\n",
        "rho_2"
      ],
      "id": "ptrace-complex-state"
    },
    {
      "cell_type": "markdown",
      "metadata": {},
      "source": [
        "## Eigenstates and Eigenvalues\n",
        "\n",
        "The eigenstates and eigenvalues of a system or an operator provide\n",
        "crucial insights into its properties. Let’s explore how to calculate\n",
        "these in QuTiP."
      ],
      "id": "479c899c-9432-4055-8ec6-07987ec9c581"
    },
    {
      "cell_type": "code",
      "execution_count": 18,
      "metadata": {},
      "outputs": [
        {
          "output_type": "stream",
          "name": "stdout",
          "text": [
            "Eigenvalues of Sigma Z:"
          ]
        },
        {
          "output_type": "display_data",
          "metadata": {},
          "data": {
            "text/plain": [
              "array([-1.,  1.])"
            ]
          }
        },
        {
          "output_type": "stream",
          "name": "stdout",
          "text": [
            "\n",
            "\n",
            "Eigenstates of Sigma Z:"
          ]
        },
        {
          "output_type": "display_data",
          "metadata": {},
          "data": {
            "text/plain": [
              "array([Quantum object: dims=[[2], [1]], shape=(2, 1), type='ket', dtype=Dense\n",
              "       Qobj data =\n",
              "       [[ 0.]\n",
              "        [-1.]]                                                               ,\n",
              "       Quantum object: dims=[[2], [1]], shape=(2, 1), type='ket', dtype=Dense\n",
              "       Qobj data =\n",
              "       [[-1.]\n",
              "        [-0.]]                                                               ],\n",
              "      dtype=object)"
            ]
          }
        }
      ],
      "source": [
        "# Example: Eigenstates and eigenvalues of Pauli Z\n",
        "eigenvalues, eigenstates = sigma_z.eigenstates()\n",
        "\n",
        "print(\"Eigenvalues of Sigma Z:\")\n",
        "display(eigenvalues)\n",
        "print(\"\\n\")\n",
        "print(\"Eigenstates of Sigma Z:\")\n",
        "display(eigenstates)"
      ],
      "id": "eigenstates-eigenvalues"
    },
    {
      "cell_type": "markdown",
      "metadata": {},
      "source": [
        "## Computing Expectation Values\n",
        "\n",
        "For a quantum state $|\\psi\\rangle$ and an operator $\\hat{O}$, the\n",
        "expectation value is given by:\n",
        "\n",
        "$$\n",
        "\\langle \\hat{O} \\rangle = \\langle\\psi| \\hat{O} |\\psi\\rangle\n",
        "$$\n",
        "\n",
        "Let’s compute the expectation value of the number operator\n",
        "$\\hat{n} = \\hat{a}^\\dagger \\hat{a}$ for a coherent state, which\n",
        "represents a quantum state closest to a classical harmonic oscillator."
      ],
      "id": "a8de81b5-9a75-4d53-809f-3f0b23fed6fc"
    },
    {
      "cell_type": "code",
      "execution_count": 19,
      "metadata": {},
      "outputs": [
        {
          "output_type": "stream",
          "name": "stdout",
          "text": [
            "Expectation value of the number operator for |psi>:"
          ]
        },
        {
          "output_type": "display_data",
          "metadata": {},
          "data": {
            "text/plain": [
              "0.639996733025295"
            ]
          }
        },
        {
          "output_type": "stream",
          "name": "stdout",
          "text": [
            "\n",
            "\n",
            "The squared modulus of alpha is:"
          ]
        },
        {
          "output_type": "display_data",
          "metadata": {},
          "data": {
            "text/plain": [
              "0.6400000000000001"
            ]
          }
        }
      ],
      "source": [
        "# Define the coherent state |psi> with alpha=2\n",
        "alpha = 0.8\n",
        "psi = qutip.coherent(d, alpha)\n",
        "\n",
        "# Define the number operator n = a.dag() * a\n",
        "n = a.dag() * a\n",
        "\n",
        "# Compute the expectation value of n for the state |psi>\n",
        "expectation_value_n = qutip.expect(n, psi)\n",
        "\n",
        "print(\"Expectation value of the number operator for |psi>:\")\n",
        "display(expectation_value_n)\n",
        "print(\"\\n\")\n",
        "print(\"The squared modulus of alpha is:\")\n",
        "display(abs(alpha) ** 2)"
      ],
      "id": "expectation-value"
    },
    {
      "cell_type": "markdown",
      "metadata": {},
      "source": [
        "## A complete example: the Quantum Harmonic Oscillator\n",
        "\n",
        "In the energy eigenbasis, the quantum harmonic oscillator is described\n",
        "by the Hamiltonian\n",
        "\n",
        "$$\n",
        "\\hat{H} = \\omega \\hat{a}^\\dagger \\hat{a} \\, ,\n",
        "$$\n",
        "\n",
        "where $\\omega$ is the resonance frequency and $\\hat{a}$ is the bosonic\n",
        "annihilation operator. In this basis, the Hamiltonian is indeed\n",
        "diagonal, with eigenvalues $E_n = \\omega n$, where $n \\in \\mathbb{N}$."
      ],
      "id": "233f9e12-7e53-4002-b55d-cf8de9d3733b"
    },
    {
      "cell_type": "code",
      "execution_count": 20,
      "metadata": {},
      "outputs": [
        {
          "output_type": "display_data",
          "metadata": {},
          "data": {
            "text/plain": [
              "Quantum object: dims=[[120], [120]], shape=(120, 120), type='oper', dtype=Dia, isherm=True\n",
              "Qobj data =\n",
              "[[  0.   0.   0. ...   0.   0.   0.]\n",
              " [  0.   1.   0. ...   0.   0.   0.]\n",
              " [  0.   0.   2. ...   0.   0.   0.]\n",
              " ...\n",
              " [  0.   0.   0. ... 117.   0.   0.]\n",
              " [  0.   0.   0. ...   0. 118.   0.]\n",
              " [  0.   0.   0. ...   0.   0. 119.]]"
            ]
          }
        }
      ],
      "source": [
        "N = 120 # Hilbert space cutoff\n",
        "w = 1 # Resonance frequency of the harmonic oscillator\n",
        "\n",
        "a = qutip.destroy(N)\n",
        "\n",
        "H = w * a.dag() * a\n",
        "\n",
        "H"
      ],
      "id": "cell-hamiltonian"
    },
    {
      "cell_type": "markdown",
      "metadata": {},
      "source": [
        "## Passing in the position basis\n",
        "\n",
        "From the classical point of view, we are used to describe the harmonic\n",
        "oscillator in terms of position and momentum. In quantum mechanics, we\n",
        "can also express the system in terms of the position and momentum\n",
        "operators, which are related to the annihilation and creation operators\n",
        "as follows ($\\hbar = 1$):\n",
        "\n",
        "We first check that\n",
        "\n",
        "$$\n",
        "\\left[ \\hat{x}, \\hat{p} \\right] = i\n",
        "$$"
      ],
      "id": "267ab214-3c24-4efa-a722-6fb3c7f2ed21"
    },
    {
      "cell_type": "code",
      "execution_count": 21,
      "metadata": {},
      "outputs": [
        {
          "output_type": "display_data",
          "metadata": {},
          "data": {
            "text/plain": [
              "Quantum object: dims=[[120], [120]], shape=(120, 120), type='oper', dtype=Dia, isherm=False\n",
              "Qobj data =\n",
              "[[0.  +1.j 0.  +0.j 0.  +0.j ... 0.  +0.j 0.  +0.j 0.  +0.j]\n",
              " [0.  +0.j 0.  +1.j 0.  +0.j ... 0.  +0.j 0.  +0.j 0.  +0.j]\n",
              " [0.  +0.j 0.  +0.j 0.  +1.j ... 0.  +0.j 0.  +0.j 0.  +0.j]\n",
              " ...\n",
              " [0.  +0.j 0.  +0.j 0.  +0.j ... 0.  +1.j 0.  +0.j 0.  +0.j]\n",
              " [0.  +0.j 0.  +0.j 0.  +0.j ... 0.  +0.j 0.  +1.j 0.  +0.j]\n",
              " [0.  +0.j 0.  +0.j 0.  +0.j ... 0.  +0.j 0.  +0.j 0.-119.j]]"
            ]
          }
        }
      ],
      "source": [
        "m = 0.5\n",
        "\n",
        "x = (a + a.dag()) / np.sqrt(2 * m * w)\n",
        "p = - 1j * (a - a.dag()) * np.sqrt(m * w / 2)\n",
        "\n",
        "qutip.commutator(x, p)"
      ],
      "id": "cell-commutator-check"
    },
    {
      "cell_type": "markdown",
      "metadata": {},
      "source": [
        "We now numerically diagonalize the position operator $\\hat{x}$, such\n",
        "that $\\hat{U}^\\dagger \\hat{x} \\hat{U}$ is diagonal. Then we plot the\n",
        "eigenstates of the quantum harmonic oscillator in the new basis,\n",
        "obtained with\n",
        "\n",
        "$$\n",
        "\\vert \\phi_n (x) \\rangle = \\hat{U}^\\dagger \\vert \\psi_n \\rangle\n",
        "$$"
      ],
      "id": "493c70ec-287f-43d1-acb7-ee223b802803"
    },
    {
      "cell_type": "code",
      "execution_count": 22,
      "metadata": {},
      "outputs": [
        {
          "output_type": "display_data",
          "metadata": {},
          "data": {
            "image/svg+xml": "PHN2ZyB4bWxuczp4bGluaz0iaHR0cDovL3d3dy53My5vcmcvMTk5OS94bGluayIgeG1sbnM9Imh0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\nPgogPC9kZWZzPgo8L3N2Zz4=\n"
          }
        }
      ],
      "source": [
        "import matplotlib.pyplot as plt\n",
        "\n",
        "E, T = x.eigenstates()\n",
        "\n",
        "U = np.zeros((N, N)).astype(np.complex128)\n",
        "for i in range(N):\n",
        "    U[:,i] = T[i].full().flatten()\n",
        "\n",
        "U = qutip.Qobj(U)\n",
        "\n",
        "xlist = ( U.dag() * x * U ).diag()\n",
        "dx = xlist[1] - xlist[0]\n",
        "\n",
        "# Harmonic potential\n",
        "V = w**2 / 2 * xlist**2\n",
        "\n",
        "fig, ax = plt.subplots()\n",
        "\n",
        "ax.plot(xlist, V, color=\"black\", ls=\"--\", lw=2)\n",
        "for i in range(5):\n",
        "    factor = 5 # The purpose of this factor is to only make more visible the states\n",
        "    ax.plot(xlist, factor * np.abs( (U.dag() * qutip.fock(N, i)).full() )**2 + i * w + w/2, lw=2)\n",
        "\n",
        "ax.set_xlabel(r\"$x$\")\n",
        "ax.set_xlim(-5, 5)\n",
        "ax.set_ylim(0, 5)\n",
        "\n",
        "# Show in Quarto\n",
        "plt.savefig('_tmp_fig.svg')\n",
        "plt.close(fig)\n",
        "SVG(filename='_tmp_fig.svg')"
      ],
      "id": "cell-position-eigenbasis"
    }
  ],
  "nbformat": 4,
  "nbformat_minor": 5,
  "metadata": {
    "kernelspec": {
      "name": "python3",
      "display_name": "Python 3 (ipykernel)",
      "language": "python",
      "path": "/opt/hostedtoolcache/Python/3.13.3/x64/share/jupyter/kernels/python3"
    },
    "language_info": {
      "name": "python",
      "codemirror_mode": {
        "name": "ipython",
        "version": "3"
      },
      "file_extension": ".py",
      "mimetype": "text/x-python",
      "nbconvert_exporter": "python",
      "pygments_lexer": "ipython3",
      "version": "3.13.3"
    }
  }
}