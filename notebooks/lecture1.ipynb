{
  "cells": [
    {
      "cell_type": "markdown",
      "metadata": {},
      "source": [
        "# Introduction to Python\n",
        "\n",
        "## Main Differences with C++\n",
        "\n",
        "Python differs from C++ in several key ways: - **Dynamic Typing**:\n",
        "Variables don’t need explicit type declarations - **List\n",
        "Comprehensions**: Concise way to create and manipulate lists -\n",
        "**High-Level Data Structures**: Lists, dictionaries, sets, and arrays\n",
        "are core tools - **Minimal Syntax**: Indentation-based structure avoids\n",
        "boilerplate code - **Functional Features**: Support for lambda\n",
        "functions, map, filter, etc."
      ],
      "id": "447b1739-00ef-4444-b2c4-d4911b648f77"
    },
    {
      "cell_type": "code",
      "execution_count": 1,
      "metadata": {},
      "outputs": [
        {
          "output_type": "stream",
          "name": "stdout",
          "text": [
            "5 hello [1, 2, 3]\n",
            "[0, 1, 4, 9, 16]\n",
            "{'a': 1, 'b': 2} {1, 2, 3}\n",
            "[2, 4, 6]"
          ]
        }
      ],
      "source": [
        "# Dynamic Typing Example\n",
        "a = 5          # integer\n",
        "b = \"hello\"    # now a string\n",
        "c = [1, 2, 3]  # now a list\n",
        "print(a,b,c)\n",
        "\n",
        "# List Comprehension Example\n",
        "squares = [x**2 for x in range(5)]  # [0, 1, 4, 9, 16]\n",
        "print(squares)\n",
        "# High-Level Data Structures\n",
        "my_dict = {'a': 1, 'b': 2}  # dictionary\n",
        "my_set = {1, 2, 3}          # set\n",
        "print(my_dict, my_set)\n",
        "# Functional Features\n",
        "add = lambda x, y: x + y\n",
        "result = list(map(lambda x: x*2, [1, 2, 3]))  # [2, 4, 6]\n",
        "print(result)"
      ],
      "id": "7913936f"
    },
    {
      "cell_type": "markdown",
      "metadata": {},
      "source": [
        "## Focus: sets and Dictionaries in Python\n",
        "\n",
        "A set is an unordered collection of unique elements. Sets are useful\n",
        "when you want to remove duplicates or perform mathematical set\n",
        "operations like union, intersection, and difference.\n",
        "\n",
        "Key features: • Unordered • No duplicate elements • Elements must be\n",
        "immutable (e.g., numbers, strings, tuples)\n",
        "\n",
        "Common set operations: • a \\| b → union • a & b → intersection • a - b →\n",
        "difference • a ^ b → symmetric difference\n",
        "\n",
        "🔹 Dictionaries\n",
        "\n",
        "A dictionary is a mapping of keys to values. It is one of Python’s most\n",
        "powerful built-in data types, allowing for fast lookups and structured\n",
        "data storage.\n",
        "\n",
        "Key features: • Key-value pairs • Keys must be immutable and unique •\n",
        "Values can be any type\n",
        "\n",
        "Typical use cases: • Storing configuration settings • Mapping labels to\n",
        "data • Counting occurrences (collections.Counter is a specialized\n",
        "dictionary)\n",
        "\n",
        "Python 3.7+ guarantees insertion order is preserved in dictionaries."
      ],
      "id": "16fd849e-96f3-4198-9b86-98ad120903f1"
    },
    {
      "cell_type": "code",
      "execution_count": 2,
      "metadata": {},
      "outputs": [
        {
          "output_type": "stream",
          "name": "stdout",
          "text": [
            "Set A: {1, 2, 3, 4}\n",
            "Set B: {3, 4, 5, 6}\n",
            "Union (A | B): {1, 2, 3, 4, 5, 6}\n",
            "Intersection (A & B): {3, 4}\n",
            "Difference (A - B): {1, 2}\n",
            "Symmetric Difference (A ^ B): {1, 2, 5, 6}\n",
            "Unique numbers: {1, 2, 3, 4, 5}\n",
            "Name: Alice\n",
            "Updated age: 31\n",
            "Updated dictionary: {'name': 'Alice', 'age': 31, 'is_physicist': True, 'field': 'Quantum Optics'}\n",
            "name -> Alice\n",
            "age -> 31\n",
            "is_physicist -> True\n",
            "field -> Quantum Optics\n",
            "Squares dict: {0: 0, 1: 1, 2: 4, 3: 9, 4: 16}"
          ]
        }
      ],
      "source": [
        "# Working with sets\n",
        "a = {1, 2, 3, 4}\n",
        "b = {3, 4, 5, 6}\n",
        "\n",
        "print(\"Set A:\", a)\n",
        "print(\"Set B:\", b)\n",
        "\n",
        "# Basic operations\n",
        "print(\"Union (A | B):\", a | b)\n",
        "print(\"Intersection (A & B):\", a & b)\n",
        "print(\"Difference (A - B):\", a - b)\n",
        "print(\"Symmetric Difference (A ^ B):\", a ^ b)\n",
        "\n",
        "# Removing duplicates using a set\n",
        "nums = [1, 2, 2, 3, 4, 4, 4, 5]\n",
        "unique_nums = set(nums)\n",
        "print(\"Unique numbers:\", unique_nums)\n",
        "\n",
        "# Working with dictionaries\n",
        "person = {\n",
        "    \"name\": \"Alice\",\n",
        "    \"age\": 30,\n",
        "    \"is_physicist\": True\n",
        "}\n",
        "\n",
        "# Accessing and updating\n",
        "print(\"Name:\", person[\"name\"])\n",
        "person[\"age\"] += 1\n",
        "print(\"Updated age:\", person[\"age\"])\n",
        "\n",
        "# Adding a new key\n",
        "person[\"field\"] = \"Quantum Optics\"\n",
        "print(\"Updated dictionary:\", person)\n",
        "\n",
        "# Iterating\n",
        "for key, value in person.items():\n",
        "    print(f\"{key} -> {value}\")\n",
        "\n",
        "# Dictionary comprehension\n",
        "squares = {x: x**2 for x in range(5)}\n",
        "print(\"Squares dict:\", squares)"
      ],
      "id": "b39b7a2f"
    },
    {
      "cell_type": "markdown",
      "metadata": {},
      "source": [
        "## Sets vs Lists\n",
        "\n",
        "While lists preserve order and allow duplicates, sets are optimized for\n",
        "fast membership testing (x in my_set) and automatically eliminate\n",
        "duplicates. This makes sets ideal for operations like deduplication or\n",
        "checking intersections between collections.\n",
        "\n",
        "Dictionaries vs Arrays (Lists)\n",
        "\n",
        "In C++ or lower-level languages, associative containers like std::map or\n",
        "unordered_map are used for fast key-value mapping. Python dictionaries\n",
        "serve a similar purpose but with simpler syntax and dynamic typing.\n",
        "\n",
        "Python dictionaries are hash tables under the hood, making average-case\n",
        "lookups and insertions O(1) (constant in time). They’re highly optimized\n",
        "for real-world use cases, which is why they are ubiquitous in Python\n",
        "programming."
      ],
      "id": "4519e042-0986-44a8-bb0a-f9432fc9e070"
    }
  ],
  "nbformat": 4,
  "nbformat_minor": 5,
  "metadata": {
    "kernelspec": {
      "name": "python3",
      "display_name": "Python 3 (ipykernel)",
      "language": "python",
      "path": "/home/runner/.local/share/jupyter/kernels/python3"
    },
    "language_info": {
      "name": "python",
      "codemirror_mode": {
        "name": "ipython",
        "version": "3"
      },
      "file_extension": ".py",
      "mimetype": "text/x-python",
      "nbconvert_exporter": "python",
      "pygments_lexer": "ipython3",
      "version": "3.12.3"
    }
  }
}